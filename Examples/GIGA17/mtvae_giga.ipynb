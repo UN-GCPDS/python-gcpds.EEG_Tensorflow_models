{
  "nbformat": 4,
  "nbformat_minor": 5,
  "metadata": {
    "kernelspec": {
      "display_name": "Python 3",
      "language": "python",
      "name": "python3"
    },
    "language_info": {
      "codemirror_mode": {
        "name": "ipython",
        "version": 3
      },
      "file_extension": ".py",
      "mimetype": "text/x-python",
      "name": "python",
      "nbconvert_exporter": "python",
      "pygments_lexer": "ipython3",
      "version": "3.7.10"
    },
    "papermill": {
      "default_parameters": {},
      "duration": 6027.813636,
      "end_time": "2021-11-05T05:04:24.170902",
      "environment_variables": {},
      "exception": null,
      "input_path": "__notebook__.ipynb",
      "output_path": "__notebook__.ipynb",
      "parameters": {},
      "start_time": "2021-11-05T03:23:56.357266",
      "version": "2.3.3"
    },
    "colab": {
      "name": "mtvae-giga.ipynb",
      "provenance": [],
      "include_colab_link": true
    }
  },
  "cells": [
    {
      "cell_type": "markdown",
      "metadata": {
        "id": "view-in-github",
        "colab_type": "text"
      },
      "source": [
        "<a href=\"https://colab.research.google.com/github/UN-GCPDS/python-gcpds.EEG_Tensorflow_models/blob/main/Examples/GIGA17/mtvae_giga.ipynb\" target=\"_parent\"><img src=\"https://colab.research.google.com/assets/colab-badge.svg\" alt=\"Open In Colab\"/></a>"
      ]
    },
    {
      "cell_type": "code",
      "metadata": {
        "_cell_guid": "b1076dfc-b9ad-4769-8c92-a6c4dae69d19",
        "_uuid": "8f2839f25d086af736a60e9eeb907d3b93b6e0e5",
        "execution": {
          "iopub.execute_input": "2021-11-05T03:24:04.096043Z",
          "iopub.status.busy": "2021-11-05T03:24:04.094436Z",
          "iopub.status.idle": "2021-11-05T03:24:20.796622Z",
          "shell.execute_reply": "2021-11-05T03:24:20.795971Z",
          "shell.execute_reply.started": "2021-11-05T02:50:31.790274Z"
        },
        "papermill": {
          "duration": 16.716143,
          "end_time": "2021-11-05T03:24:20.796771",
          "exception": false,
          "start_time": "2021-11-05T03:24:04.080628",
          "status": "completed"
        },
        "tags": [],
        "id": "cf894208"
      },
      "source": [
        "!pip install -U git+https://github.com/UN-GCPDS/python-gcpds.EEG_Tensorflow_models.git >/dev/null"
      ],
      "id": "cf894208",
      "execution_count": null,
      "outputs": []
    },
    {
      "cell_type": "code",
      "metadata": {
        "execution": {
          "iopub.execute_input": "2021-11-05T03:24:20.821197Z",
          "iopub.status.busy": "2021-11-05T03:24:20.817905Z",
          "iopub.status.idle": "2021-11-05T03:24:32.274611Z",
          "shell.execute_reply": "2021-11-05T03:24:32.273910Z",
          "shell.execute_reply.started": "2021-11-05T02:50:55.168886Z"
        },
        "papermill": {
          "duration": 11.468898,
          "end_time": "2021-11-05T03:24:32.274748",
          "exception": false,
          "start_time": "2021-11-05T03:24:20.805850",
          "status": "completed"
        },
        "tags": [],
        "id": "6046f7c1"
      },
      "source": [
        "!pip install mne==0.23"
      ],
      "id": "6046f7c1",
      "execution_count": null,
      "outputs": []
    },
    {
      "cell_type": "code",
      "metadata": {
        "execution": {
          "iopub.execute_input": "2021-11-05T03:24:32.303660Z",
          "iopub.status.busy": "2021-11-05T03:24:32.302881Z",
          "iopub.status.idle": "2021-11-05T03:24:40.956681Z",
          "shell.execute_reply": "2021-11-05T03:24:40.955776Z",
          "shell.execute_reply.started": "2021-11-05T02:51:09.278333Z"
        },
        "papermill": {
          "duration": 8.6703,
          "end_time": "2021-11-05T03:24:40.956819",
          "exception": false,
          "start_time": "2021-11-05T03:24:32.286519",
          "status": "completed"
        },
        "tags": [],
        "id": "48b6e2b2"
      },
      "source": [
        "from EEG_Tensorflow_models.Utils.LoadData import load_dataset\n",
        "from EEG_Tensorflow_models.Utils.Callbacks import get_callbacks\n",
        "from EEG_Tensorflow_models.Utils.TrainingModels import get_loss,get_model,get_optimizer,train_model_cv\n",
        "from EEG_Tensorflow_models.Models import MTVAE"
      ],
      "id": "48b6e2b2",
      "execution_count": null,
      "outputs": []
    },
    {
      "cell_type": "code",
      "metadata": {
        "execution": {
          "iopub.execute_input": "2021-11-05T03:24:40.984696Z",
          "iopub.status.busy": "2021-11-05T03:24:40.984071Z",
          "iopub.status.idle": "2021-11-05T03:24:41.049680Z",
          "shell.execute_reply": "2021-11-05T03:24:41.049183Z",
          "shell.execute_reply.started": "2021-11-05T02:51:18.979002Z"
        },
        "papermill": {
          "duration": 0.081021,
          "end_time": "2021-11-05T03:24:41.049813",
          "exception": false,
          "start_time": "2021-11-05T03:24:40.968792",
          "status": "completed"
        },
        "tags": [],
        "id": "000e8ab2"
      },
      "source": [
        "import numpy as np\n",
        "import pickle\n",
        "from scipy.signal import decimate,resample"
      ],
      "id": "000e8ab2",
      "execution_count": null,
      "outputs": []
    },
    {
      "cell_type": "code",
      "metadata": {
        "execution": {
          "iopub.execute_input": "2021-11-05T03:24:41.078114Z",
          "iopub.status.busy": "2021-11-05T03:24:41.077274Z",
          "iopub.status.idle": "2021-11-05T03:24:41.079984Z",
          "shell.execute_reply": "2021-11-05T03:24:41.079526Z",
          "shell.execute_reply.started": "2021-11-05T02:57:21.019897Z"
        },
        "papermill": {
          "duration": 0.018376,
          "end_time": "2021-11-05T03:24:41.080122",
          "exception": false,
          "start_time": "2021-11-05T03:24:41.061746",
          "status": "completed"
        },
        "tags": [],
        "id": "7f0f0e53"
      },
      "source": [
        "path_ = '../input/gigascience-2017/'"
      ],
      "id": "7f0f0e53",
      "execution_count": null,
      "outputs": []
    },
    {
      "cell_type": "code",
      "metadata": {
        "execution": {
          "iopub.execute_input": "2021-11-05T03:24:41.109311Z",
          "iopub.status.busy": "2021-11-05T03:24:41.108527Z",
          "iopub.status.idle": "2021-11-05T03:24:41.111136Z",
          "shell.execute_reply": "2021-11-05T03:24:41.110678Z"
        },
        "papermill": {
          "duration": 0.019608,
          "end_time": "2021-11-05T03:24:41.111244",
          "exception": false,
          "start_time": "2021-11-05T03:24:41.091636",
          "status": "completed"
        },
        "tags": [],
        "id": "376e723f"
      },
      "source": [
        "subjects = [1, 2, 3, 4, 5, 6, 7, 8, 9, 10, 11, 12, 13, 14, 15, 16, 17, 18, 19, 20, 21, 22, 23, 24, 25,\n",
        " 26, 27, 28, 29, 30, 31, 33, 34, 35, 36, 37, 38, 39, 40, 41, 42, 43, 44, 45, 47, 48, 50, 51, 52]"
      ],
      "id": "376e723f",
      "execution_count": null,
      "outputs": []
    },
    {
      "cell_type": "code",
      "metadata": {
        "execution": {
          "iopub.execute_input": "2021-11-05T03:24:41.152789Z",
          "iopub.status.busy": "2021-11-05T03:24:41.151944Z",
          "iopub.status.idle": "2021-11-05T05:03:00.940319Z",
          "shell.execute_reply": "2021-11-05T05:03:00.940703Z",
          "shell.execute_reply.started": "2021-11-05T03:08:26.277695Z"
        },
        "papermill": {
          "duration": 5899.81793,
          "end_time": "2021-11-05T05:03:00.940864",
          "exception": false,
          "start_time": "2021-11-05T03:24:41.122934",
          "status": "completed"
        },
        "tags": [],
        "id": "a7a1b4c2"
      },
      "source": [
        "opt_args = {'lr': 0.001,'beta_1': 0.9}\n",
        "optimizer = get_optimizer('Adam',opt_args)\n",
        "\n",
        "loss = get_loss(['mse','CategoricalCrossentropy'])\n",
        "\n",
        "metrics = ['accuracy']\n",
        "\n",
        "callbacks_names = {'early_stopping_train1':'early_stopping','checkpoint_train1':'checkpoint',\n",
        "                   'early_stopping_train2':'early_stopping','checkpoint_train2':'checkpoint',\n",
        "                   'early_stopping_train3':'early_stopping','checkpoint_train3':'checkpoint',\n",
        "                   'early_stopping_train4':'early_stopping','checkpoint_train4':'checkpoint'}\n",
        "\n",
        "\n",
        "Experiment = 'lawhern2018'\n",
        "model_name = 'MTVAE'\n",
        "\n",
        "#fs_new = 250\n",
        "\n",
        "#subjects = np.arange(1,53)\n",
        "Acc = []\n",
        "History = []\n",
        "Subject = []\n",
        "for sbj in subjects:\n",
        "    print('Subject: {:d} of {:d}'.format(sbj,len(subjects)))\n",
        "    \n",
        "    data = pickle.load( open( path_+'Subject_'+str(sbj)+'.p', \"rb\" ) )\n",
        "    X_train = data['X'][:,:,0:-1,:]\n",
        "    y_train = data['y']\n",
        "    X_valid = data['X'][:,:,0:-1,:]\n",
        "    y_valid = data['y']\n",
        "    print(X_train.shape,y_train.shape)\n",
        "    #X_train,y_train,X_valid,y_valid,fs = load_dataset(dataset_name=\"Cho2017\", subject_id=sbj,split=False)\n",
        "    #X_train = resample(X_train,int((X_train.shape[2]/fs)*fs_new),axis=2)[:,:,0:-1,:]\n",
        "    #X_valid = resample(X_valid,int((X_valid.shape[2]/fs)*fs_new),axis=2)[:,:,0:-1,:]\n",
        "\n",
        "    model_args = {'nb_classes':2,'Chans':X_train.shape[1],'Samples':X_train.shape[2],'dropoutRate':0.5}\n",
        "    model = get_model(model_name,model_args)\n",
        "\n",
        "    call_args = [\n",
        "        {'monitor':'val_Classif_accuracy','patience':100,'min_delta':0.001,'mode':'max','verbose':1,'restore_best_weights':False},        \n",
        "        {'filepath':Experiment+'checkpoint1_'+str(sbj),'save_format':'tf','monitor':'val_Classif_accuracy','verbose':1,'save_weights_only':True,'save_best_only':True},\n",
        "        {'monitor':'val_Classif_accuracy','patience':100,'min_delta':0.001,'mode':'max','verbose':1,'restore_best_weights':False},\n",
        "        {'filepath':Experiment+'checkpoint2_'+str(sbj),'save_format':'tf','monitor':'val_Classif_accuracy','verbose':1,'save_weights_only':True,'save_best_only':True},\n",
        "        {'monitor':'val_Classif_accuracy','patience':100,'min_delta':0.001,'mode':'max','verbose':1,'restore_best_weights':False},\n",
        "        {'filepath':Experiment+'checkpoint3_'+str(sbj),'save_format':'tf','monitor':'val_Classif_accuracy','verbose':1,'save_weights_only':True,'save_best_only':True},\n",
        "        {'monitor':'val_Classif_accuracy','patience':100,'min_delta':0.001,'mode':'max','verbose':1,'restore_best_weights':False},\n",
        "        {'filepath':Experiment+'checkpoint4_'+str(sbj),'save_format':'tf','monitor':'val_Classif_accuracy','verbose':1,'save_weights_only':True,'save_best_only':True},\n",
        "    ]\n",
        "\n",
        "    callbacks = get_callbacks(callbacks_names,call_args)\n",
        "\n",
        "    cv = train_model_cv(model,optimizer,loss,metrics,callbacks=callbacks,loss_weights=[2.5,1])\n",
        "\n",
        "    history = cv.fit_validation(X_train,y_train,X_val=X_valid,y_val=y_valid,batch_size=32,epochs=1000,verbose=1,val_mode=Experiment,autoencoder=True,early_stopping=True)\n",
        "    acc = cv.get_accuracy()\n",
        "    print('Subject accuracy: {:f}'.format(acc))\n",
        "    Acc.append(acc)\n",
        "    History.append(History)\n",
        "    Subject.append(sbj)\n",
        "\n",
        "    results = {}\n",
        "    results['subject'] = Subject\n",
        "    results['history'] = History\n",
        "    results['accuracy'] = Acc\n",
        "\n",
        "    with open('Results_BCI2a_'+Experiment+'_'+model_name+'.p','wb') as handle:\n",
        "        pickle.dump(results,handle)\n",
        "\n",
        "    del X_train,y_train,X_valid,y_valid\n",
        "    "
      ],
      "id": "a7a1b4c2",
      "execution_count": null,
      "outputs": []
    }
  ]
}