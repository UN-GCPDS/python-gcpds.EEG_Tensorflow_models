{
  "nbformat": 4,
  "nbformat_minor": 5,
  "metadata": {
    "kernelspec": {
      "display_name": "Python 3",
      "language": "python",
      "name": "python3"
    },
    "language_info": {
      "codemirror_mode": {
        "name": "ipython",
        "version": 3
      },
      "file_extension": ".py",
      "mimetype": "text/x-python",
      "name": "python",
      "nbconvert_exporter": "python",
      "pygments_lexer": "ipython3",
      "version": "3.7.10"
    },
    "papermill": {
      "default_parameters": {},
      "duration": 5757.809019,
      "end_time": "2021-11-11T05:09:58.863613",
      "environment_variables": {},
      "exception": null,
      "input_path": "__notebook__.ipynb",
      "output_path": "__notebook__.ipynb",
      "parameters": {},
      "start_time": "2021-11-11T03:34:01.054594",
      "version": "2.3.3"
    },
    "colab": {
      "name": "eegnet-giga.ipynb",
      "provenance": [],
      "include_colab_link": true
    }
  },
  "cells": [
    {
      "cell_type": "markdown",
      "metadata": {
        "id": "view-in-github",
        "colab_type": "text"
      },
      "source": [
        "<a href=\"https://colab.research.google.com/github/UN-GCPDS/python-gcpds.EEG_Tensorflow_models/blob/main/Examples/GIGA17/eegnet_giga.ipynb\" target=\"_parent\"><img src=\"https://colab.research.google.com/assets/colab-badge.svg\" alt=\"Open In Colab\"/></a>"
      ]
    },
    {
      "cell_type": "code",
      "metadata": {
        "_cell_guid": "b1076dfc-b9ad-4769-8c92-a6c4dae69d19",
        "_uuid": "8f2839f25d086af736a60e9eeb907d3b93b6e0e5",
        "execution": {
          "iopub.execute_input": "2021-11-11T03:34:08.964656Z",
          "iopub.status.busy": "2021-11-11T03:34:08.963042Z",
          "iopub.status.idle": "2021-11-11T03:34:26.310798Z",
          "shell.execute_reply": "2021-11-11T03:34:26.309889Z",
          "shell.execute_reply.started": "2021-11-05T02:50:31.790274Z"
        },
        "papermill": {
          "duration": 17.362521,
          "end_time": "2021-11-11T03:34:26.310954",
          "exception": false,
          "start_time": "2021-11-11T03:34:08.948433",
          "status": "completed"
        },
        "tags": [],
        "id": "b140047e"
      },
      "source": [
        "!pip install -U git+https://github.com/UN-GCPDS/python-gcpds.EEG_Tensorflow_models.git >/dev/null"
      ],
      "id": "b140047e",
      "execution_count": null,
      "outputs": []
    },
    {
      "cell_type": "code",
      "metadata": {
        "execution": {
          "iopub.execute_input": "2021-11-11T03:34:26.337560Z",
          "iopub.status.busy": "2021-11-11T03:34:26.332037Z",
          "iopub.status.idle": "2021-11-11T03:34:37.471853Z",
          "shell.execute_reply": "2021-11-11T03:34:37.470511Z",
          "shell.execute_reply.started": "2021-11-05T02:50:55.168886Z"
        },
        "papermill": {
          "duration": 11.15204,
          "end_time": "2021-11-11T03:34:37.472002",
          "exception": false,
          "start_time": "2021-11-11T03:34:26.319962",
          "status": "completed"
        },
        "tags": [],
        "id": "084693c6"
      },
      "source": [
        "!pip install mne==0.23"
      ],
      "id": "084693c6",
      "execution_count": null,
      "outputs": []
    },
    {
      "cell_type": "code",
      "metadata": {
        "execution": {
          "iopub.execute_input": "2021-11-11T03:34:37.501944Z",
          "iopub.status.busy": "2021-11-11T03:34:37.501184Z",
          "iopub.status.idle": "2021-11-11T03:34:45.569814Z",
          "shell.execute_reply": "2021-11-11T03:34:45.569308Z",
          "shell.execute_reply.started": "2021-11-05T02:51:09.278333Z"
        },
        "papermill": {
          "duration": 8.085411,
          "end_time": "2021-11-11T03:34:45.569947",
          "exception": false,
          "start_time": "2021-11-11T03:34:37.484536",
          "status": "completed"
        },
        "tags": [],
        "id": "ab3dbc89"
      },
      "source": [
        "from EEG_Tensorflow_models.Utils.LoadData import load_dataset\n",
        "from EEG_Tensorflow_models.Utils.Callbacks import get_callbacks\n",
        "from EEG_Tensorflow_models.Utils.TrainingModels import get_loss,get_model,get_optimizer,train_model_cv\n",
        "from EEG_Tensorflow_models.Models import MTVAE"
      ],
      "id": "ab3dbc89",
      "execution_count": null,
      "outputs": []
    },
    {
      "cell_type": "code",
      "metadata": {
        "execution": {
          "iopub.execute_input": "2021-11-11T03:34:45.597698Z",
          "iopub.status.busy": "2021-11-11T03:34:45.597076Z",
          "iopub.status.idle": "2021-11-11T03:34:45.657074Z",
          "shell.execute_reply": "2021-11-11T03:34:45.657528Z",
          "shell.execute_reply.started": "2021-11-05T02:51:18.979002Z"
        },
        "papermill": {
          "duration": 0.075769,
          "end_time": "2021-11-11T03:34:45.657682",
          "exception": false,
          "start_time": "2021-11-11T03:34:45.581913",
          "status": "completed"
        },
        "tags": [],
        "id": "099a5da8"
      },
      "source": [
        "import numpy as np\n",
        "import pickle\n",
        "from scipy.signal import decimate,resample"
      ],
      "id": "099a5da8",
      "execution_count": null,
      "outputs": []
    },
    {
      "cell_type": "code",
      "metadata": {
        "execution": {
          "iopub.execute_input": "2021-11-11T03:34:45.686370Z",
          "iopub.status.busy": "2021-11-11T03:34:45.685533Z",
          "iopub.status.idle": "2021-11-11T03:34:45.687590Z",
          "shell.execute_reply": "2021-11-11T03:34:45.687997Z",
          "shell.execute_reply.started": "2021-11-05T02:57:21.019897Z"
        },
        "papermill": {
          "duration": 0.01841,
          "end_time": "2021-11-11T03:34:45.688132",
          "exception": false,
          "start_time": "2021-11-11T03:34:45.669722",
          "status": "completed"
        },
        "tags": [],
        "id": "26a95614"
      },
      "source": [
        "path_ = '../input/gigascience-2017/'"
      ],
      "id": "26a95614",
      "execution_count": null,
      "outputs": []
    },
    {
      "cell_type": "code",
      "metadata": {
        "execution": {
          "iopub.execute_input": "2021-11-11T03:34:45.717343Z",
          "iopub.status.busy": "2021-11-11T03:34:45.716657Z",
          "iopub.status.idle": "2021-11-11T03:34:45.719593Z",
          "shell.execute_reply": "2021-11-11T03:34:45.719030Z"
        },
        "papermill": {
          "duration": 0.019756,
          "end_time": "2021-11-11T03:34:45.719731",
          "exception": false,
          "start_time": "2021-11-11T03:34:45.699975",
          "status": "completed"
        },
        "tags": [],
        "id": "da97f046"
      },
      "source": [
        "subjects = [1, 2, 3, 4, 5, 6, 7, 8, 9, 10, 11, 12, 13, 14, 15, 16, 17, 18, 19, 20, 21, 22, 23, 24, 25,\n",
        " 26, 27, 28, 29, 30, 31, 33, 34, 35, 36, 37, 38, 39, 40, 41, 42, 43, 44, 45, 47, 48, 50, 51, 52]"
      ],
      "id": "da97f046",
      "execution_count": null,
      "outputs": []
    },
    {
      "cell_type": "code",
      "metadata": {
        "execution": {
          "iopub.execute_input": "2021-11-11T03:34:45.761576Z",
          "iopub.status.busy": "2021-11-11T03:34:45.760879Z",
          "iopub.status.idle": "2021-11-11T05:08:27.421868Z",
          "shell.execute_reply": "2021-11-11T05:08:27.422290Z",
          "shell.execute_reply.started": "2021-11-05T03:08:26.277695Z"
        },
        "papermill": {
          "duration": 5621.690991,
          "end_time": "2021-11-11T05:08:27.422468",
          "exception": false,
          "start_time": "2021-11-11T03:34:45.731477",
          "status": "completed"
        },
        "tags": [],
        "id": "2c29e635"
      },
      "source": [
        "opt_args = {'lr': 0.001,'beta_1': 0.9}\n",
        "optimizer = get_optimizer('Adam',opt_args)\n",
        "\n",
        "loss = get_loss('CategoricalCrossentropy')\n",
        "\n",
        "metrics = ['accuracy']\n",
        "\n",
        "callbacks_names = {'early_stopping_train1':'early_stopping','checkpoint_train1':'checkpoint',\n",
        "                   'early_stopping_train2':'early_stopping','checkpoint_train2':'checkpoint',\n",
        "                   'early_stopping_train3':'early_stopping','checkpoint_train3':'checkpoint',\n",
        "                   'early_stopping_train4':'early_stopping','checkpoint_train4':'checkpoint'}\n",
        "\n",
        "\n",
        "Experiment = 'lawhern2018'\n",
        "model_name = 'EEGNet'\n",
        "\n",
        "fs_new = 128\n",
        "fs=250\n",
        "\n",
        "#subjects = np.arange(1,53)\n",
        "Acc = []\n",
        "History = []\n",
        "Subject = []\n",
        "for sbj in subjects:\n",
        "    print('Subject: {:d} of {:d}'.format(sbj,len(subjects)))\n",
        "    \n",
        "    data = pickle.load( open( path_+'Subject_'+str(sbj)+'.p', \"rb\" ) )\n",
        "    X_train = data['X']#[:,:,0:-1,:]\n",
        "    y_train = data['y']\n",
        "    X_valid = data['X']#[:,:,0:-1,:]\n",
        "    y_valid = data['y']\n",
        "    X_train = resample(X_train,int((X_train.shape[-2]/fs)*fs_new),axis=-2)    \n",
        "    X_valid = resample(X_valid,int((X_valid.shape[-2]/fs)*fs_new),axis=-2)\n",
        "    print(X_train.shape,y_train.shape)\n",
        "    #X_train,y_train,X_valid,y_valid,fs = load_dataset(dataset_name=\"Cho2017\", subject_id=sbj,split=False)\n",
        "    #X_train = resample(X_train,int((X_train.shape[2]/fs)*fs_new),axis=2)[:,:,0:-1,:]\n",
        "    #X_valid = resample(X_valid,int((X_valid.shape[2]/fs)*fs_new),axis=2)[:,:,0:-1,:]\n",
        "\n",
        "    model_args = {'nb_classes':2,'Chans':X_train.shape[1],'Samples':X_train.shape[2],'dropoutRate':0.5,'kernLength':32,\n",
        "                  'F1':8,'D':2,'F2':16,'norm_rate':0.25,'dropoutType':'Dropout'}\n",
        "    model = get_model(model_name,model_args)\n",
        "\n",
        "    call_args = [\n",
        "        {'monitor':'val_accuracy','patience':100,'min_delta':0.001,'mode':'max','verbose':1,'restore_best_weights':False},        \n",
        "        {'filepath':Experiment+'checkpoint1_'+str(sbj),'save_format':'tf','monitor':'val_accuracy','verbose':1,'save_weights_only':True,'save_best_only':True},\n",
        "        {'monitor':'val_accuracy','patience':100,'min_delta':0.001,'mode':'max','verbose':1,'restore_best_weights':False},\n",
        "        {'filepath':Experiment+'checkpoint2_'+str(sbj),'save_format':'tf','monitor':'val_accuracy','verbose':1,'save_weights_only':True,'save_best_only':True},\n",
        "        {'monitor':'val_accuracy','patience':100,'min_delta':0.001,'mode':'max','verbose':1,'restore_best_weights':False},\n",
        "        {'filepath':Experiment+'checkpoint3_'+str(sbj),'save_format':'tf','monitor':'val_accuracy','verbose':1,'save_weights_only':True,'save_best_only':True},\n",
        "        {'monitor':'val_accuracy','patience':100,'min_delta':0.001,'mode':'max','verbose':1,'restore_best_weights':False},\n",
        "        {'filepath':Experiment+'checkpoint4_'+str(sbj),'save_format':'tf','monitor':'val_accuracy','verbose':1,'save_weights_only':True,'save_best_only':True},\n",
        "    ]\n",
        "\n",
        "    callbacks = get_callbacks(callbacks_names,call_args)\n",
        "\n",
        "    cv = train_model_cv(model,optimizer,loss,metrics,callbacks=callbacks,loss_weights=[2.5,1])\n",
        "\n",
        "    history = cv.fit_validation(X_train,y_train,X_val=X_valid,y_val=y_valid,batch_size=16,epochs=1000,verbose=1,val_mode=Experiment,early_stopping=True)\n",
        "    acc = cv.get_accuracy()\n",
        "    print('Subject accuracy: {:f}'.format(acc))\n",
        "    Acc.append(acc)\n",
        "    History.append(History)\n",
        "    Subject.append(sbj)\n",
        "\n",
        "    results = {}\n",
        "    results['subject'] = Subject\n",
        "    results['history'] = History\n",
        "    results['accuracy'] = Acc\n",
        "\n",
        "    with open('Results_BCI2a_'+Experiment+'_'+model_name+'.p','wb') as handle:\n",
        "        pickle.dump(results,handle)\n",
        "\n",
        "    del X_train,y_train,X_valid,y_valid\n",
        "    "
      ],
      "id": "2c29e635",
      "execution_count": null,
      "outputs": []
    },
    {
      "cell_type": "code",
      "metadata": {
        "papermill": {
          "duration": 29.54223,
          "end_time": "2021-11-11T05:09:25.958404",
          "exception": false,
          "start_time": "2021-11-11T05:08:56.416174",
          "status": "completed"
        },
        "tags": [],
        "id": "c9a33427"
      },
      "source": [
        ""
      ],
      "id": "c9a33427",
      "execution_count": null,
      "outputs": []
    }
  ]
}