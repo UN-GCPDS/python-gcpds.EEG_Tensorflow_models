{
  "nbformat": 4,
  "nbformat_minor": 5,
  "metadata": {
    "kernelspec": {
      "display_name": "Python 3",
      "language": "python",
      "name": "python3"
    },
    "language_info": {
      "codemirror_mode": {
        "name": "ipython",
        "version": 3
      },
      "file_extension": ".py",
      "mimetype": "text/x-python",
      "name": "python",
      "nbconvert_exporter": "python",
      "pygments_lexer": "ipython3",
      "version": "3.7.10"
    },
    "papermill": {
      "default_parameters": {},
      "duration": 4545.322812,
      "end_time": "2021-11-12T16:01:40.715176",
      "environment_variables": {},
      "exception": null,
      "input_path": "__notebook__.ipynb",
      "output_path": "__notebook__.ipynb",
      "parameters": {},
      "start_time": "2021-11-12T14:45:55.392364",
      "version": "2.3.3"
    },
    "colab": {
      "name": "shallowconvnet-giga.ipynb",
      "provenance": [],
      "include_colab_link": true
    }
  },
  "cells": [
    {
      "cell_type": "markdown",
      "metadata": {
        "id": "view-in-github",
        "colab_type": "text"
      },
      "source": [
        "<a href=\"https://colab.research.google.com/github/UN-GCPDS/python-gcpds.EEG_Tensorflow_models/blob/main/Examples/GIGA17/shallowconvnet_giga.ipynb\" target=\"_parent\"><img src=\"https://colab.research.google.com/assets/colab-badge.svg\" alt=\"Open In Colab\"/></a>"
      ]
    },
    {
      "cell_type": "code",
      "metadata": {
        "_cell_guid": "b1076dfc-b9ad-4769-8c92-a6c4dae69d19",
        "_uuid": "8f2839f25d086af736a60e9eeb907d3b93b6e0e5",
        "execution": {
          "iopub.execute_input": "2021-11-12T14:46:03.383226Z",
          "iopub.status.busy": "2021-11-12T14:46:03.382287Z",
          "iopub.status.idle": "2021-11-12T14:46:20.137587Z",
          "shell.execute_reply": "2021-11-12T14:46:20.138084Z",
          "shell.execute_reply.started": "2021-11-05T02:50:31.790274Z"
        },
        "papermill": {
          "duration": 16.77663,
          "end_time": "2021-11-12T14:46:20.138351",
          "exception": false,
          "start_time": "2021-11-12T14:46:03.361721",
          "status": "completed"
        },
        "tags": [],
        "id": "632957fb"
      },
      "source": [
        "!pip install -U git+https://github.com/UN-GCPDS/python-gcpds.EEG_Tensorflow_models.git >/dev/null"
      ],
      "id": "632957fb",
      "execution_count": null,
      "outputs": []
    },
    {
      "cell_type": "code",
      "metadata": {
        "execution": {
          "iopub.execute_input": "2021-11-12T14:46:20.160172Z",
          "iopub.status.busy": "2021-11-12T14:46:20.159444Z",
          "iopub.status.idle": "2021-11-12T14:46:31.612035Z",
          "shell.execute_reply": "2021-11-12T14:46:31.611457Z",
          "shell.execute_reply.started": "2021-11-05T02:50:55.168886Z"
        },
        "papermill": {
          "duration": 11.463983,
          "end_time": "2021-11-12T14:46:31.612167",
          "exception": false,
          "start_time": "2021-11-12T14:46:20.148184",
          "status": "completed"
        },
        "tags": [],
        "id": "898e2068"
      },
      "source": [
        "!pip install mne==0.23"
      ],
      "id": "898e2068",
      "execution_count": null,
      "outputs": []
    },
    {
      "cell_type": "code",
      "metadata": {
        "execution": {
          "iopub.execute_input": "2021-11-12T14:46:31.644152Z",
          "iopub.status.busy": "2021-11-12T14:46:31.643253Z",
          "iopub.status.idle": "2021-11-12T14:46:39.494632Z",
          "shell.execute_reply": "2021-11-12T14:46:39.494175Z",
          "shell.execute_reply.started": "2021-11-05T02:51:09.278333Z"
        },
        "papermill": {
          "duration": 7.869439,
          "end_time": "2021-11-12T14:46:39.494782",
          "exception": false,
          "start_time": "2021-11-12T14:46:31.625343",
          "status": "completed"
        },
        "tags": [],
        "id": "f259ee50"
      },
      "source": [
        "from EEG_Tensorflow_models.Utils.LoadData import load_dataset\n",
        "from EEG_Tensorflow_models.Utils.Callbacks import get_callbacks\n",
        "from EEG_Tensorflow_models.Utils.TrainingModels import get_loss,get_model,get_optimizer,train_model_cv\n",
        "from EEG_Tensorflow_models.Models import MTVAE"
      ],
      "id": "f259ee50",
      "execution_count": null,
      "outputs": []
    },
    {
      "cell_type": "code",
      "metadata": {
        "execution": {
          "iopub.execute_input": "2021-11-12T14:46:39.521658Z",
          "iopub.status.busy": "2021-11-12T14:46:39.521056Z",
          "iopub.status.idle": "2021-11-12T14:46:39.577920Z",
          "shell.execute_reply": "2021-11-12T14:46:39.578327Z",
          "shell.execute_reply.started": "2021-11-05T02:51:18.979002Z"
        },
        "papermill": {
          "duration": 0.072004,
          "end_time": "2021-11-12T14:46:39.578466",
          "exception": false,
          "start_time": "2021-11-12T14:46:39.506462",
          "status": "completed"
        },
        "tags": [],
        "id": "a5c869c1"
      },
      "source": [
        "import numpy as np\n",
        "import pickle\n",
        "from scipy.signal import decimate,resample"
      ],
      "id": "a5c869c1",
      "execution_count": null,
      "outputs": []
    },
    {
      "cell_type": "code",
      "metadata": {
        "execution": {
          "iopub.execute_input": "2021-11-12T14:46:39.605114Z",
          "iopub.status.busy": "2021-11-12T14:46:39.604579Z",
          "iopub.status.idle": "2021-11-12T14:46:39.608155Z",
          "shell.execute_reply": "2021-11-12T14:46:39.607714Z",
          "shell.execute_reply.started": "2021-11-05T02:57:21.019897Z"
        },
        "papermill": {
          "duration": 0.018278,
          "end_time": "2021-11-12T14:46:39.608264",
          "exception": false,
          "start_time": "2021-11-12T14:46:39.589986",
          "status": "completed"
        },
        "tags": [],
        "id": "e57e7e27"
      },
      "source": [
        "path_ = '../input/gigascience-2017/'"
      ],
      "id": "e57e7e27",
      "execution_count": null,
      "outputs": []
    },
    {
      "cell_type": "code",
      "metadata": {
        "execution": {
          "iopub.execute_input": "2021-11-12T14:46:39.636914Z",
          "iopub.status.busy": "2021-11-12T14:46:39.636331Z",
          "iopub.status.idle": "2021-11-12T14:46:39.639669Z",
          "shell.execute_reply": "2021-11-12T14:46:39.639266Z"
        },
        "papermill": {
          "duration": 0.019509,
          "end_time": "2021-11-12T14:46:39.639801",
          "exception": false,
          "start_time": "2021-11-12T14:46:39.620292",
          "status": "completed"
        },
        "tags": [],
        "id": "22cb9334"
      },
      "source": [
        "subjects = [1, 2, 3, 4, 5, 6, 7, 8, 9, 10, 11, 12, 13, 14, 15, 16, 17, 18, 19, 20, 21, 22, 23, 24, 25,\n",
        " 26, 27, 28, 29, 30, 31, 33, 34, 35, 36, 37, 38, 39, 40, 41, 42, 43, 44, 45, 47, 48, 50, 51, 52]"
      ],
      "id": "22cb9334",
      "execution_count": null,
      "outputs": []
    },
    {
      "cell_type": "code",
      "metadata": {
        "execution": {
          "iopub.execute_input": "2021-11-12T14:46:39.680364Z",
          "iopub.status.busy": "2021-11-12T14:46:39.664850Z",
          "iopub.status.idle": "2021-11-12T16:00:42.418827Z",
          "shell.execute_reply": "2021-11-12T16:00:42.420031Z",
          "shell.execute_reply.started": "2021-11-05T03:08:26.277695Z"
        },
        "papermill": {
          "duration": 4442.769064,
          "end_time": "2021-11-12T16:00:42.420282",
          "exception": false,
          "start_time": "2021-11-12T14:46:39.651218",
          "status": "completed"
        },
        "tags": [],
        "id": "818ea3e8"
      },
      "source": [
        "opt_args = {'lr': 0.01,'beta_1': 0.9}\n",
        "optimizer = get_optimizer('Adam',opt_args)\n",
        "\n",
        "loss = get_loss('CategoricalCrossentropy')\n",
        "\n",
        "metrics = ['accuracy']\n",
        "\n",
        "callbacks_names = {'early_stopping_train1':'early_stopping','checkpoint_train1':'checkpoint',\n",
        "                   'early_stopping_train2':'early_stopping','checkpoint_train2':'checkpoint',\n",
        "                   'early_stopping_train3':'early_stopping','checkpoint_train3':'checkpoint',\n",
        "                   'early_stopping_train4':'early_stopping','checkpoint_train4':'checkpoint'}\n",
        "\n",
        "\n",
        "Experiment = 'lawhern2018'\n",
        "model_name = 'ShallowConvNet'\n",
        "Version='2018'\n",
        "fs_new = 128\n",
        "fs=250\n",
        "\n",
        "#subjects = np.arange(1,53)\n",
        "Acc = []\n",
        "History = []\n",
        "Subject = []\n",
        "for sbj in subjects:\n",
        "    print('Subject: {:d} of {:d}'.format(sbj,len(subjects)))\n",
        "    \n",
        "    data = pickle.load( open( path_+'Subject_'+str(sbj)+'.p', \"rb\" ) )\n",
        "    X_train = data['X']#[:,:,0:-1,:]\n",
        "    y_train = data['y']\n",
        "    X_valid = data['X']#[:,:,0:-1,:]\n",
        "    y_valid = data['y']\n",
        "    X_train = resample(X_train,int((X_train.shape[-2]/fs)*fs_new),axis=-2)    \n",
        "    X_valid = resample(X_valid,int((X_valid.shape[-2]/fs)*fs_new),axis=-2)\n",
        "    print(X_train.shape,y_train.shape)\n",
        "    #X_train,y_train,X_valid,y_valid,fs = load_dataset(dataset_name=\"Cho2017\", subject_id=sbj,split=False)\n",
        "    #X_train = resample(X_train,int((X_train.shape[2]/fs)*fs_new),axis=2)[:,:,0:-1,:]\n",
        "    #X_valid = resample(X_valid,int((X_valid.shape[2]/fs)*fs_new),axis=2)[:,:,0:-1,:]\n",
        "\n",
        "    model_args = {'nb_classes':2,'Chans':X_train.shape[1],'Samples':X_train.shape[2],'dropoutRate':0.5,'version':Version}\n",
        "    model = get_model(model_name,model_args)\n",
        "\n",
        "    call_args = [\n",
        "        {'monitor':'val_accuracy','patience':100,'min_delta':0.001,'mode':'max','verbose':1,'restore_best_weights':False},        \n",
        "        {'filepath':Experiment+'checkpoint1_'+str(sbj),'save_format':'tf','monitor':'val_accuracy','verbose':1,'save_weights_only':True,'save_best_only':True},\n",
        "        {'monitor':'val_accuracy','patience':100,'min_delta':0.001,'mode':'max','verbose':1,'restore_best_weights':False},\n",
        "        {'filepath':Experiment+'checkpoint2_'+str(sbj),'save_format':'tf','monitor':'val_accuracy','verbose':1,'save_weights_only':True,'save_best_only':True},\n",
        "        {'monitor':'val_accuracy','patience':100,'min_delta':0.001,'mode':'max','verbose':1,'restore_best_weights':False},\n",
        "        {'filepath':Experiment+'checkpoint3_'+str(sbj),'save_format':'tf','monitor':'val_accuracy','verbose':1,'save_weights_only':True,'save_best_only':True},\n",
        "        {'monitor':'val_accuracy','patience':100,'min_delta':0.001,'mode':'max','verbose':1,'restore_best_weights':False},\n",
        "        {'filepath':Experiment+'checkpoint4_'+str(sbj),'save_format':'tf','monitor':'val_accuracy','verbose':1,'save_weights_only':True,'save_best_only':True},\n",
        "    ]\n",
        "\n",
        "    callbacks = get_callbacks(callbacks_names,call_args)\n",
        "\n",
        "    cv = train_model_cv(model,optimizer,loss,metrics,callbacks=callbacks,loss_weights=[2.5,1])\n",
        "\n",
        "    history = cv.fit_validation(X_train,y_train,X_val=X_valid,y_val=y_valid,batch_size=64,epochs=1000,verbose=1,val_mode=Experiment,early_stopping=True)\n",
        "    acc = cv.get_accuracy()\n",
        "    print('Subject accuracy: {:f}'.format(acc))\n",
        "    Acc.append(acc)\n",
        "    History.append(History)\n",
        "    Subject.append(sbj)\n",
        "\n",
        "    results = {}\n",
        "    results['subject'] = Subject\n",
        "    results['history'] = History\n",
        "    results['accuracy'] = Acc\n",
        "\n",
        "    with open('Results_BCI2a_'+Experiment+'_'+model_name+'.p','wb') as handle:\n",
        "        pickle.dump(results,handle)\n",
        "\n",
        "    del X_train,y_train,X_valid,y_valid\n",
        "    "
      ],
      "id": "818ea3e8",
      "execution_count": null,
      "outputs": []
    },
    {
      "cell_type": "code",
      "metadata": {
        "papermill": {
          "duration": 18.646942,
          "end_time": "2021-11-12T16:01:18.993989",
          "exception": false,
          "start_time": "2021-11-12T16:01:00.347047",
          "status": "completed"
        },
        "tags": [],
        "id": "d752ea3a"
      },
      "source": [
        ""
      ],
      "id": "d752ea3a",
      "execution_count": null,
      "outputs": []
    }
  ]
}