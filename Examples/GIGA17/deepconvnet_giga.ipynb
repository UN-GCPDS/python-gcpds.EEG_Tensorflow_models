{
  "nbformat": 4,
  "nbformat_minor": 5,
  "metadata": {
    "kernelspec": {
      "display_name": "Python 3",
      "language": "python",
      "name": "python3"
    },
    "language_info": {
      "codemirror_mode": {
        "name": "ipython",
        "version": 3
      },
      "file_extension": ".py",
      "mimetype": "text/x-python",
      "name": "python",
      "nbconvert_exporter": "python",
      "pygments_lexer": "ipython3",
      "version": "3.7.10"
    },
    "papermill": {
      "default_parameters": {},
      "duration": 4890.48868,
      "end_time": "2021-11-12T16:08:05.324593",
      "environment_variables": {},
      "exception": null,
      "input_path": "__notebook__.ipynb",
      "output_path": "__notebook__.ipynb",
      "parameters": {},
      "start_time": "2021-11-12T14:46:34.835913",
      "version": "2.3.3"
    },
    "colab": {
      "name": "deepconvnet-giga.ipynb",
      "provenance": [],
      "include_colab_link": true
    }
  },
  "cells": [
    {
      "cell_type": "markdown",
      "metadata": {
        "id": "view-in-github",
        "colab_type": "text"
      },
      "source": [
        "<a href=\"https://colab.research.google.com/github/UN-GCPDS/python-gcpds.EEG_Tensorflow_models/blob/main/Examples/GIGA17/deepconvnet_giga.ipynb\" target=\"_parent\"><img src=\"https://colab.research.google.com/assets/colab-badge.svg\" alt=\"Open In Colab\"/></a>"
      ]
    },
    {
      "cell_type": "code",
      "metadata": {
        "_cell_guid": "b1076dfc-b9ad-4769-8c92-a6c4dae69d19",
        "_uuid": "8f2839f25d086af736a60e9eeb907d3b93b6e0e5",
        "execution": {
          "iopub.execute_input": "2021-11-12T14:46:42.332411Z",
          "iopub.status.busy": "2021-11-12T14:46:42.331624Z",
          "iopub.status.idle": "2021-11-12T14:46:58.800526Z",
          "shell.execute_reply": "2021-11-12T14:46:58.799656Z",
          "shell.execute_reply.started": "2021-11-05T02:50:31.790274Z"
        },
        "papermill": {
          "duration": 16.488567,
          "end_time": "2021-11-12T14:46:58.800699",
          "exception": false,
          "start_time": "2021-11-12T14:46:42.312132",
          "status": "completed"
        },
        "tags": [],
        "id": "b0ee24bc"
      },
      "source": [
        "!pip install -U git+https://github.com/UN-GCPDS/python-gcpds.EEG_Tensorflow_models.git >/dev/null"
      ],
      "id": "b0ee24bc",
      "execution_count": null,
      "outputs": []
    },
    {
      "cell_type": "code",
      "metadata": {
        "execution": {
          "iopub.execute_input": "2021-11-12T14:46:58.824915Z",
          "iopub.status.busy": "2021-11-12T14:46:58.821257Z",
          "iopub.status.idle": "2021-11-12T14:47:09.642205Z",
          "shell.execute_reply": "2021-11-12T14:47:09.641685Z",
          "shell.execute_reply.started": "2021-11-05T02:50:55.168886Z"
        },
        "papermill": {
          "duration": 10.832876,
          "end_time": "2021-11-12T14:47:09.642349",
          "exception": false,
          "start_time": "2021-11-12T14:46:58.809473",
          "status": "completed"
        },
        "tags": [],
        "id": "ef2d341d"
      },
      "source": [
        "!pip install mne==0.23"
      ],
      "id": "ef2d341d",
      "execution_count": null,
      "outputs": []
    },
    {
      "cell_type": "code",
      "metadata": {
        "execution": {
          "iopub.execute_input": "2021-11-12T14:47:09.671925Z",
          "iopub.status.busy": "2021-11-12T14:47:09.670986Z",
          "iopub.status.idle": "2021-11-12T14:47:17.681008Z",
          "shell.execute_reply": "2021-11-12T14:47:17.681537Z",
          "shell.execute_reply.started": "2021-11-05T02:51:09.278333Z"
        },
        "papermill": {
          "duration": 8.027555,
          "end_time": "2021-11-12T14:47:17.681703",
          "exception": false,
          "start_time": "2021-11-12T14:47:09.654148",
          "status": "completed"
        },
        "tags": [],
        "id": "9c202a9f"
      },
      "source": [
        "from EEG_Tensorflow_models.Utils.LoadData import load_dataset\n",
        "from EEG_Tensorflow_models.Utils.Callbacks import get_callbacks\n",
        "from EEG_Tensorflow_models.Utils.TrainingModels import get_loss,get_model,get_optimizer,train_model_cv\n",
        "from EEG_Tensorflow_models.Models import MTVAE"
      ],
      "id": "9c202a9f",
      "execution_count": null,
      "outputs": []
    },
    {
      "cell_type": "code",
      "metadata": {
        "execution": {
          "iopub.execute_input": "2021-11-12T14:47:17.709299Z",
          "iopub.status.busy": "2021-11-12T14:47:17.708667Z",
          "iopub.status.idle": "2021-11-12T14:47:17.783524Z",
          "shell.execute_reply": "2021-11-12T14:47:17.784788Z",
          "shell.execute_reply.started": "2021-11-05T02:51:18.979002Z"
        },
        "papermill": {
          "duration": 0.091585,
          "end_time": "2021-11-12T14:47:17.785022",
          "exception": false,
          "start_time": "2021-11-12T14:47:17.693437",
          "status": "completed"
        },
        "tags": [],
        "id": "61ca45c7"
      },
      "source": [
        "import numpy as np\n",
        "import pickle\n",
        "from scipy.signal import decimate,resample"
      ],
      "id": "61ca45c7",
      "execution_count": null,
      "outputs": []
    },
    {
      "cell_type": "code",
      "metadata": {
        "execution": {
          "iopub.execute_input": "2021-11-12T14:47:17.844476Z",
          "iopub.status.busy": "2021-11-12T14:47:17.843380Z",
          "iopub.status.idle": "2021-11-12T14:47:17.846237Z",
          "shell.execute_reply": "2021-11-12T14:47:17.845386Z",
          "shell.execute_reply.started": "2021-11-05T02:57:21.019897Z"
        },
        "papermill": {
          "duration": 0.03944,
          "end_time": "2021-11-12T14:47:17.846419",
          "exception": false,
          "start_time": "2021-11-12T14:47:17.806979",
          "status": "completed"
        },
        "tags": [],
        "id": "8b585997"
      },
      "source": [
        "path_ = '../input/gigascience-2017/'"
      ],
      "id": "8b585997",
      "execution_count": null,
      "outputs": []
    },
    {
      "cell_type": "code",
      "metadata": {
        "execution": {
          "iopub.execute_input": "2021-11-12T14:47:17.902885Z",
          "iopub.status.busy": "2021-11-12T14:47:17.901908Z",
          "iopub.status.idle": "2021-11-12T14:47:17.904518Z",
          "shell.execute_reply": "2021-11-12T14:47:17.903718Z"
        },
        "papermill": {
          "duration": 0.03719,
          "end_time": "2021-11-12T14:47:17.904677",
          "exception": false,
          "start_time": "2021-11-12T14:47:17.867487",
          "status": "completed"
        },
        "tags": [],
        "id": "671e2d37"
      },
      "source": [
        "subjects = [1, 2, 3, 4, 5, 6, 7, 8, 9, 10, 11, 12, 13, 14, 15, 16, 17, 18, 19, 20, 21, 22, 23, 24, 25,\n",
        " 26, 27, 28, 29, 30, 31, 33, 34, 35, 36, 37, 38, 39, 40, 41, 42, 43, 44, 45, 47, 48, 50, 51, 52]"
      ],
      "id": "671e2d37",
      "execution_count": null,
      "outputs": []
    },
    {
      "cell_type": "code",
      "metadata": {
        "execution": {
          "iopub.execute_input": "2021-11-12T14:47:17.956745Z",
          "iopub.status.busy": "2021-11-12T14:47:17.955896Z",
          "iopub.status.idle": "2021-11-12T16:07:03.454802Z",
          "shell.execute_reply": "2021-11-12T16:07:03.455434Z",
          "shell.execute_reply.started": "2021-11-05T03:08:26.277695Z"
        },
        "papermill": {
          "duration": 4785.529081,
          "end_time": "2021-11-12T16:07:03.455645",
          "exception": false,
          "start_time": "2021-11-12T14:47:17.926564",
          "status": "completed"
        },
        "tags": [],
        "id": "228f2622"
      },
      "source": [
        "opt_args = {'lr': 1e-3,'weight_decay': 0.5 * 0.001}\n",
        "optimizer = get_optimizer('AdamW',opt_args)\n",
        "\n",
        "loss = get_loss('CategoricalCrossentropy')\n",
        "\n",
        "metrics = ['accuracy']\n",
        "\n",
        "callbacks_names = {'early_stopping_train1':'early_stopping','checkpoint_train1':'checkpoint',\n",
        "                   'early_stopping_train2':'early_stopping','checkpoint_train2':'checkpoint',\n",
        "                   'early_stopping_train3':'early_stopping','checkpoint_train3':'checkpoint',\n",
        "                   'early_stopping_train4':'early_stopping','checkpoint_train4':'checkpoint'}\n",
        "\n",
        "\n",
        "Experiment = 'lawhern2018'\n",
        "model_name = 'DeepConvNet'\n",
        "\n",
        "fs_new = 128\n",
        "fs=250\n",
        "\n",
        "#subjects = np.arange(1,53)\n",
        "Acc = []\n",
        "History = []\n",
        "Subject = []\n",
        "for sbj in subjects:\n",
        "    print('Subject: {:d} of {:d}'.format(sbj,len(subjects)))\n",
        "    \n",
        "    data = pickle.load( open( path_+'Subject_'+str(sbj)+'.p', \"rb\" ) )\n",
        "    X_train = data['X']#[:,:,0:-1,:]\n",
        "    y_train = data['y']\n",
        "    X_valid = data['X']#[:,:,0:-1,:]\n",
        "    y_valid = data['y']\n",
        "    X_train = resample(X_train,int((X_train.shape[-2]/fs)*fs_new),axis=-2)    \n",
        "    X_valid = resample(X_valid,int((X_valid.shape[-2]/fs)*fs_new),axis=-2)\n",
        "    print(X_train.shape,y_train.shape)\n",
        "    #X_train,y_train,X_valid,y_valid,fs = load_dataset(dataset_name=\"Cho2017\", subject_id=sbj,split=False)\n",
        "    #X_train = resample(X_train,int((X_train.shape[2]/fs)*fs_new),axis=2)[:,:,0:-1,:]\n",
        "    #X_valid = resample(X_valid,int((X_valid.shape[2]/fs)*fs_new),axis=2)[:,:,0:-1,:]\n",
        "\n",
        "    model_args = {'nb_classes':2,'Chans':X_train.shape[1],'Samples':X_train.shape[2],'dropoutRate':0.5, 'version':'2018','last_layer':'Dense'}\n",
        "    model = get_model(model_name,model_args)\n",
        "\n",
        "    call_args = [\n",
        "        {'monitor':'val_accuracy','patience':100,'min_delta':0.001,'mode':'max','verbose':1,'restore_best_weights':False},        \n",
        "        {'filepath':Experiment+'checkpoint1_'+str(sbj),'save_format':'tf','monitor':'val_accuracy','verbose':1,'save_weights_only':True,'save_best_only':True},\n",
        "        {'monitor':'val_accuracy','patience':100,'min_delta':0.001,'mode':'max','verbose':1,'restore_best_weights':False},\n",
        "        {'filepath':Experiment+'checkpoint2_'+str(sbj),'save_format':'tf','monitor':'val_accuracy','verbose':1,'save_weights_only':True,'save_best_only':True},\n",
        "        {'monitor':'val_accuracy','patience':100,'min_delta':0.001,'mode':'max','verbose':1,'restore_best_weights':False},\n",
        "        {'filepath':Experiment+'checkpoint3_'+str(sbj),'save_format':'tf','monitor':'val_accuracy','verbose':1,'save_weights_only':True,'save_best_only':True},\n",
        "        {'monitor':'val_accuracy','patience':100,'min_delta':0.001,'mode':'max','verbose':1,'restore_best_weights':False},\n",
        "        {'filepath':Experiment+'checkpoint4_'+str(sbj),'save_format':'tf','monitor':'val_accuracy','verbose':1,'save_weights_only':True,'save_best_only':True},\n",
        "    ]\n",
        "\n",
        "    callbacks = get_callbacks(callbacks_names,call_args)\n",
        "\n",
        "    cv = train_model_cv(model,optimizer,loss,metrics,callbacks=callbacks,loss_weights=[2.5,1])\n",
        "\n",
        "    history = cv.fit_validation(X_train,y_train,X_val=X_valid,y_val=y_valid,batch_size=64,epochs=1000,verbose=1,val_mode=Experiment,early_stopping=True)\n",
        "    acc = cv.get_accuracy()\n",
        "    print('Subject accuracy: {:f}'.format(acc))\n",
        "    Acc.append(acc)\n",
        "    History.append(History)\n",
        "    Subject.append(sbj)\n",
        "\n",
        "    results = {}\n",
        "    results['subject'] = Subject\n",
        "    results['history'] = History\n",
        "    results['accuracy'] = Acc\n",
        "\n",
        "    with open('Results_BCI2a_'+Experiment+'_'+model_name+'.p','wb') as handle:\n",
        "        pickle.dump(results,handle)\n",
        "\n",
        "    del X_train,y_train,X_valid,y_valid\n",
        "    "
      ],
      "id": "228f2622",
      "execution_count": null,
      "outputs": []
    },
    {
      "cell_type": "code",
      "metadata": {
        "papermill": {
          "duration": 19.162037,
          "end_time": "2021-11-12T16:07:42.003376",
          "exception": false,
          "start_time": "2021-11-12T16:07:22.841339",
          "status": "completed"
        },
        "tags": [],
        "id": "424dbbe1"
      },
      "source": [
        ""
      ],
      "id": "424dbbe1",
      "execution_count": null,
      "outputs": []
    }
  ]
}