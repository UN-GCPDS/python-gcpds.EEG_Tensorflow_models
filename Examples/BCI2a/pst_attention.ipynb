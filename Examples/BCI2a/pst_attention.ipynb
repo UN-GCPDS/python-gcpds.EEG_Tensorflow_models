{
  "nbformat": 4,
  "nbformat_minor": 5,
  "metadata": {
    "kernelspec": {
      "display_name": "Python 3",
      "language": "python",
      "name": "python3"
    },
    "language_info": {
      "codemirror_mode": {
        "name": "ipython",
        "version": 3
      },
      "file_extension": ".py",
      "mimetype": "text/x-python",
      "name": "python",
      "nbconvert_exporter": "python",
      "pygments_lexer": "ipython3",
      "version": "3.7.10"
    },
    "papermill": {
      "default_parameters": {},
      "duration": 19327.228621,
      "end_time": "2021-10-02T01:34:39.522541",
      "environment_variables": {},
      "exception": null,
      "input_path": "__notebook__.ipynb",
      "output_path": "__notebook__.ipynb",
      "parameters": {},
      "start_time": "2021-10-01T20:12:32.293920",
      "version": "2.3.3"
    },
    "colab": {
      "name": "pst-attention.ipynb",
      "provenance": [],
      "include_colab_link": true
    }
  },
  "cells": [
    {
      "cell_type": "markdown",
      "metadata": {
        "id": "view-in-github",
        "colab_type": "text"
      },
      "source": [
        "<a href=\"https://colab.research.google.com/github/UN-GCPDS/python-gcpds.EEG_Tensorflow_models/blob/main/Examples/BCI2a/pst_attention.ipynb\" target=\"_parent\"><img src=\"https://colab.research.google.com/assets/colab-badge.svg\" alt=\"Open In Colab\"/></a>"
      ]
    },
    {
      "cell_type": "markdown",
      "metadata": {
        "papermill": {
          "duration": 0.008895,
          "end_time": "2021-10-01T20:12:39.135513",
          "exception": false,
          "start_time": "2021-10-01T20:12:39.126618",
          "status": "completed"
        },
        "tags": [],
        "id": "fc9fbcae"
      },
      "source": [
        "# BCI2a"
      ],
      "id": "fc9fbcae"
    },
    {
      "cell_type": "code",
      "metadata": {
        "execution": {
          "iopub.execute_input": "2021-10-01T20:12:39.157148Z",
          "iopub.status.busy": "2021-10-01T20:12:39.155694Z",
          "iopub.status.idle": "2021-10-01T20:12:57.109115Z",
          "shell.execute_reply": "2021-10-01T20:12:57.109897Z",
          "shell.execute_reply.started": "2021-10-01T19:45:23.745157Z"
        },
        "id": "60a4a6c1",
        "papermill": {
          "duration": 17.965931,
          "end_time": "2021-10-01T20:12:57.110170",
          "exception": false,
          "start_time": "2021-10-01T20:12:39.144239",
          "status": "completed"
        },
        "tags": []
      },
      "source": [
        "!pip install -U git+https://github.com/UN-GCPDS/python-gcpds.EEG_Tensorflow_models.git >/dev/null"
      ],
      "id": "60a4a6c1",
      "execution_count": null,
      "outputs": []
    },
    {
      "cell_type": "code",
      "metadata": {
        "execution": {
          "iopub.execute_input": "2021-10-01T20:12:57.134223Z",
          "iopub.status.busy": "2021-10-01T20:12:57.133473Z",
          "iopub.status.idle": "2021-10-01T20:13:08.271907Z",
          "shell.execute_reply": "2021-10-01T20:13:08.271363Z",
          "shell.execute_reply.started": "2021-10-01T19:45:39.148225Z"
        },
        "id": "bbc402fd",
        "papermill": {
          "duration": 11.152156,
          "end_time": "2021-10-01T20:13:08.272050",
          "exception": false,
          "start_time": "2021-10-01T20:12:57.119894",
          "status": "completed"
        },
        "tags": []
      },
      "source": [
        "from EEG_Tensorflow_models.Utils.LoadData import load_dataset\n",
        "from EEG_Tensorflow_models.Utils.Callbacks import get_callbacks\n",
        "from EEG_Tensorflow_models.Utils.TrainingModels import get_loss,get_model,get_optimizer,train_model_cv"
      ],
      "id": "bbc402fd",
      "execution_count": null,
      "outputs": []
    },
    {
      "cell_type": "code",
      "metadata": {
        "execution": {
          "iopub.execute_input": "2021-10-01T20:13:08.295346Z",
          "iopub.status.busy": "2021-10-01T20:13:08.294775Z",
          "iopub.status.idle": "2021-10-01T20:13:08.362793Z",
          "shell.execute_reply": "2021-10-01T20:13:08.363722Z",
          "shell.execute_reply.started": "2021-10-01T19:45:50.273136Z"
        },
        "id": "e0df8f62",
        "papermill": {
          "duration": 0.082175,
          "end_time": "2021-10-01T20:13:08.363914",
          "exception": false,
          "start_time": "2021-10-01T20:13:08.281739",
          "status": "completed"
        },
        "tags": []
      },
      "source": [
        "import numpy as np\n",
        "import pickle\n",
        "from scipy.signal import resample"
      ],
      "id": "e0df8f62",
      "execution_count": null,
      "outputs": []
    },
    {
      "cell_type": "markdown",
      "metadata": {
        "id": "9f8eb783",
        "papermill": {
          "duration": 0.013707,
          "end_time": "2021-10-01T20:13:08.395010",
          "exception": false,
          "start_time": "2021-10-01T20:13:08.381303",
          "status": "completed"
        },
        "tags": []
      },
      "source": [
        "# Exp 1: Schirmeister 2017"
      ],
      "id": "9f8eb783"
    },
    {
      "cell_type": "code",
      "metadata": {
        "execution": {
          "iopub.execute_input": "2021-10-01T20:13:08.454617Z",
          "iopub.status.busy": "2021-10-01T20:13:08.440589Z",
          "iopub.status.idle": "2021-10-01T21:59:41.647262Z",
          "shell.execute_reply": "2021-10-01T21:59:41.646822Z",
          "shell.execute_reply.started": "2021-10-01T19:45:59.877762Z"
        },
        "id": "7ff300ef",
        "papermill": {
          "duration": 6393.229173,
          "end_time": "2021-10-01T21:59:41.647397",
          "exception": false,
          "start_time": "2021-10-01T20:13:08.418224",
          "status": "completed"
        },
        "tags": []
      },
      "source": [
        "#opt_args = {'lr': 0.0625*0.01,'beta_1': 0.9}\n",
        "opt_args = {'lr': 0.0001,'beta_1': 0.9}\n",
        "optimizer = get_optimizer('Adam',opt_args)\n",
        "\n",
        "loss = get_loss('CategoricalCrossentropy')\n",
        "\n",
        "metrics = ['accuracy']\n",
        "\n",
        "callbacks_names = {'early_stopping_train':'early_stopping','checkpoint_train':'checkpoint',\n",
        "                'Threshold_valid':'Threshold','checkpoint_valid':'checkpoint',\n",
        "                'early_stopping_valid':'early_stopping'}\n",
        "\n",
        "\n",
        "Experiment = 'schirrmeister2017'\n",
        "model_name = 'PST_attention'\n",
        "\n",
        "subjects = np.arange(1,10)\n",
        "Acc = []\n",
        "History = []\n",
        "Subject = []\n",
        "for sbj in subjects:\n",
        "    print('Subject: {:d} of {:d}'.format(sbj,len(subjects)))\n",
        "\n",
        "    X_train,y_train,X_valid,y_valid,fs = load_dataset(dataset_name=\"BNCI2014001\", subject_id=sbj)\n",
        "    \n",
        "    #X_train = resample(X_train,int((X_train.shape[-2]/fs)*fs_new),axis=-2)    \n",
        "    #X_valid = resample(X_valid,int((X_valid.shape[-2]/fs)*fs_new),axis=-2)     \n",
        "\n",
        "    model_args = {'nb_classes':4,'Chans':X_train.shape[1],'Samples':X_train.shape[2],'dropoutRate':0.5,'last_layer':'Dense'}\n",
        "    model = get_model(model_name,model_args)\n",
        "    \n",
        "   \n",
        "\n",
        "    #model_args = {'nb_classes':4,'Chans':X_train.shape[1],'Samples':X_train.shape[2],'dropoutRate':0.5,'version':'2017'}\n",
        "    #model = get_model(model_name,model_args)\n",
        "    \n",
        "    call_args = [{'monitor':'val_accuracy','patience':100,'min_delta':0.001,'mode':'max','verbose':1,'restore_best_weights':False},\n",
        "                {'filepath':'/kaggle/tmp/checkpoint_sbj_'+str(sbj),'save_format':'tf','monitor':'val_accuracy','verbose':1,'save_weights_only':True,'save_best_only':True},\n",
        "                {'threshold':None},\n",
        "                {'filepath':'/kaggle/tmp/checkpoint_2_sbj_'+str(sbj),'save_format':'tf','monitor':'val_accuracy','verbose':1,'save_weights_only':True,'save_best_only':True},\n",
        "                {'monitor':'val_accuracy','patience':None,'min_delta':0.001,'mode':'max','verbose':1,'restore_best_weights':True}]\n",
        "                \n",
        "    callbacks = get_callbacks(callbacks_names,call_args)\n",
        "\n",
        "    cv = train_model_cv(model,optimizer,loss,metrics,callbacks=callbacks)\n",
        "\n",
        "    history = cv.fit_validation(X_train,y_train,X_val=X_valid,y_val=y_valid,batch_size=32,epochs=1000,verbose=1,val_mode=Experiment)\n",
        "    acc = cv.get_accuracy()\n",
        "    print('Subject accuracy: {:f}'.format(acc))\n",
        "    Acc.append(acc)\n",
        "    History.append(History)\n",
        "    Subject.append(sbj)\n",
        "\n",
        "    results = {}\n",
        "    results['subject'] = Subject\n",
        "    results['history'] = History\n",
        "    results['accuracy'] = Acc\n",
        "\n",
        "    with open('Results_BCI2a_'+Experiment+'_'+model_name+'.p','wb') as handle:\n",
        "        pickle.dump(results,handle)\n",
        "    \n",
        "    del cv,callbacks,X_train,y_train,X_valid,y_valid,fs"
      ],
      "id": "7ff300ef",
      "execution_count": null,
      "outputs": []
    },
    {
      "cell_type": "markdown",
      "metadata": {
        "id": "b9dd0bdc",
        "papermill": {
          "duration": 25.784107,
          "end_time": "2021-10-01T22:00:33.113992",
          "exception": false,
          "start_time": "2021-10-01T22:00:07.329885",
          "status": "completed"
        },
        "tags": []
      },
      "source": [
        "#Exp 2: Schirmeister 2017_legal"
      ],
      "id": "b9dd0bdc"
    },
    {
      "cell_type": "code",
      "metadata": {
        "execution": {
          "iopub.execute_input": "2021-10-01T22:01:24.048737Z",
          "iopub.status.busy": "2021-10-01T22:01:24.048003Z",
          "iopub.status.idle": "2021-10-01T22:42:19.355912Z",
          "shell.execute_reply": "2021-10-01T22:42:19.355439Z",
          "shell.execute_reply.started": "2021-09-24T03:18:13.110427Z"
        },
        "id": "6fdbf49a",
        "papermill": {
          "duration": 2480.907976,
          "end_time": "2021-10-01T22:42:19.356043",
          "exception": false,
          "start_time": "2021-10-01T22:00:58.448067",
          "status": "completed"
        },
        "tags": []
      },
      "source": [
        "#opt_args = {'lr': 0.0625*0.01,'beta_1': 0.9}\n",
        "opt_args = {'lr': 0.0001,'beta_1': 0.9}\n",
        "optimizer = get_optimizer('Adam',opt_args)\n",
        "\n",
        "loss = get_loss('CategoricalCrossentropy')\n",
        "\n",
        "metrics = ['accuracy']\n",
        "\n",
        "callbacks_names = {'early_stopping_train':'early_stopping','checkpoint_train':'checkpoint',\n",
        "                'Threshold_valid':'Threshold','checkpoint_valid':'checkpoint',\n",
        "                'early_stopping_valid':'early_stopping'}\n",
        "\n",
        "\n",
        "Experiment = 'schirrmeister2017_legal'\n",
        "model_name = 'PST_attention'\n",
        "\n",
        "subjects = np.arange(1,10)\n",
        "Acc = []\n",
        "History = []\n",
        "Subject = []\n",
        "for sbj in subjects:\n",
        "    print('Subject: {:d} of {:d}'.format(sbj,len(subjects)))\n",
        "\n",
        "    X_train,y_train,X_valid,y_valid,fs = load_dataset(dataset_name=\"BNCI2014001\", subject_id=sbj)\n",
        "\n",
        "\n",
        "    model_args = {'nb_classes':4,'Chans':X_train.shape[1],'Samples':X_train.shape[2],'dropoutRate':0.5,'last_layer':'Dense'}\n",
        "    model = get_model(model_name,model_args)\n",
        "\n",
        "\n",
        "    call_args = [{'monitor':'val_accuracy','patience':100,'min_delta':0.001,'mode':'max','verbose':1,'restore_best_weights':False},\n",
        "                {'filepath':'/kaggle/tmp/checkpoint_sbj_'+str(sbj),'save_format':'tf','monitor':'val_accuracy','verbose':1,'save_weights_only':True,'save_best_only':True},\n",
        "                {'threshold':None},\n",
        "                {'filepath':'/kaggle/tmp/checkpoint_2_sbj_'+str(sbj),'save_format':'tf','monitor':'val_accuracy','verbose':1,'save_weights_only':True,'save_best_only':True},\n",
        "                {'monitor':'val_accuracy','patience':None,'min_delta':0.001,'mode':'max','verbose':1,'restore_best_weights':True}]\n",
        "                \n",
        "    callbacks = get_callbacks(callbacks_names,call_args)\n",
        "\n",
        "    cv = train_model_cv(model,optimizer,loss,metrics,callbacks=callbacks)\n",
        "\n",
        "    history = cv.fit_validation(X_train,y_train,X_val=X_valid,y_val=y_valid,batch_size=64,epochs=1000,verbose=1,val_mode=Experiment)\n",
        "    acc = cv.get_accuracy()\n",
        "    print('Subject accuracy: {:f}'.format(acc))\n",
        "    Acc.append(acc)\n",
        "    History.append(History)\n",
        "    Subject.append(sbj)\n",
        "\n",
        "    results = {}\n",
        "    results['subject'] = Subject\n",
        "    results['history'] = History\n",
        "    results['accuracy'] = Acc\n",
        "\n",
        "    with open('Results_BCI2a_'+Experiment+'_'+model_name+'.p','wb') as handle:\n",
        "        pickle.dump(results,handle)\n",
        "    \n",
        "    del cv,callbacks"
      ],
      "id": "6fdbf49a",
      "execution_count": null,
      "outputs": []
    },
    {
      "cell_type": "markdown",
      "metadata": {
        "id": "a3698e8a",
        "papermill": {
          "duration": 35.008688,
          "end_time": "2021-10-01T22:43:28.923953",
          "exception": false,
          "start_time": "2021-10-01T22:42:53.915265",
          "status": "completed"
        },
        "tags": []
      },
      "source": [
        "# Exp 3: Schirmeister 2021"
      ],
      "id": "a3698e8a"
    },
    {
      "cell_type": "code",
      "metadata": {
        "execution": {
          "iopub.execute_input": "2021-10-01T22:44:37.982903Z",
          "iopub.status.busy": "2021-10-01T22:44:37.981907Z",
          "iopub.status.idle": "2021-10-01T23:43:45.184715Z",
          "shell.execute_reply": "2021-10-01T23:43:45.183880Z",
          "shell.execute_reply.started": "2021-09-24T03:18:13.112497Z"
        },
        "id": "05e3ce83",
        "papermill": {
          "duration": 3581.902426,
          "end_time": "2021-10-01T23:43:45.184868",
          "exception": false,
          "start_time": "2021-10-01T22:44:03.282442",
          "status": "completed"
        },
        "tags": []
      },
      "source": [
        "#opt_args = {'lr': 0.0625*0.01,'beta_1': 0.9}\n",
        "opt_args = {'lr': 0.0001,'beta_1': 0.9}\n",
        "optimizer = get_optimizer('Adam',opt_args)\n",
        "\n",
        "loss = get_loss('CategoricalCrossentropy')\n",
        "\n",
        "metrics = ['accuracy']\n",
        "\n",
        "callbacks_names = {'checkpoint_valid':'checkpoint',\n",
        "                   'early_stopping_valid':'early_stopping'}\n",
        "\n",
        "\n",
        "Experiment = 'schirrmeister2021'\n",
        "model_name = 'PST_attention'\n",
        "\n",
        "subjects = np.arange(1,10)\n",
        "Acc = []\n",
        "History = []\n",
        "Subject = []\n",
        "for sbj in subjects:\n",
        "    print('Subject: {:d} of {:d}'.format(sbj,len(subjects)))\n",
        "\n",
        "    X_train,y_train,X_valid,y_valid,fs = load_dataset(dataset_name=\"BNCI2014001\", subject_id=sbj) \n",
        "\n",
        "    \n",
        "    model_args = {'nb_classes':4,'Chans':X_train.shape[1],'Samples':X_train.shape[2],'dropoutRate':0.5,'last_layer':'Dense'}\n",
        "    model = get_model(model_name,model_args)\n",
        "    \n",
        "    \n",
        "\n",
        "    call_args = [\n",
        "            {'filepath':'/kaggle/tmp/checkpoint_'+str(sbj),\n",
        "            'save_format':'tf',\n",
        "            'monitor':'val_accuracy',\n",
        "            'verbose':1,\n",
        "            'save_weights_only':True,\n",
        "            'save_best_only':True},\n",
        "            {'monitor':'val_accuracy',\n",
        "            'patience':100,\n",
        "            'min_delta':0.001,\n",
        "            'mode':'max',\n",
        "            'verbose':1,\n",
        "            'restore_best_weights':True}]\n",
        "                \n",
        "    callbacks = get_callbacks(callbacks_names,call_args)\n",
        "\n",
        "    cv = train_model_cv(model,optimizer,loss,metrics,callbacks=callbacks)\n",
        "\n",
        "    history = cv.fit_validation(X_train,y_train,X_val=X_valid,y_val=y_valid,batch_size=64,epochs=1000,verbose=1,val_mode=Experiment)\n",
        "    acc = cv.get_accuracy()\n",
        "    print('Subject accuracy: {:f}'.format(acc))\n",
        "    Acc.append(acc)\n",
        "    History.append(History)\n",
        "    Subject.append(sbj)\n",
        "\n",
        "    results = {}\n",
        "    results['subject'] = Subject\n",
        "    results['history'] = History\n",
        "    results['accuracy'] = Acc\n",
        "\n",
        "    with open('Results_BCI2a_'+Experiment+'_'+model_name+'.p','wb') as handle:\n",
        "        pickle.dump(results,handle)\n",
        "    \n",
        "    del cv,callbacks"
      ],
      "id": "05e3ce83",
      "execution_count": null,
      "outputs": []
    },
    {
      "cell_type": "markdown",
      "metadata": {
        "id": "f8324559",
        "papermill": {
          "duration": 47.816754,
          "end_time": "2021-10-01T23:45:20.665793",
          "exception": false,
          "start_time": "2021-10-01T23:44:32.849039",
          "status": "completed"
        },
        "tags": []
      },
      "source": [
        "# Exp 4: 4-fold CV\n"
      ],
      "id": "f8324559"
    },
    {
      "cell_type": "code",
      "metadata": {
        "execution": {
          "iopub.execute_input": "2021-10-01T23:46:57.951905Z",
          "iopub.status.busy": "2021-10-01T23:46:57.950996Z",
          "iopub.status.idle": "2021-10-02T01:33:16.892512Z",
          "shell.execute_reply": "2021-10-02T01:33:16.892901Z",
          "shell.execute_reply.started": "2021-09-24T03:18:13.114632Z"
        },
        "id": "103a692c",
        "papermill": {
          "duration": 6425.578135,
          "end_time": "2021-10-02T01:33:16.893073",
          "exception": false,
          "start_time": "2021-10-01T23:46:11.314938",
          "status": "completed"
        },
        "tags": []
      },
      "source": [
        "#opt_args = {'lr': 0.0625*0.01,'beta_1': 0.9}\n",
        "opt_args = {'lr': 0.0001,'beta_1': 0.9}\n",
        "optimizer = get_optimizer('Adam',opt_args)\n",
        "\n",
        "loss = get_loss('CategoricalCrossentropy')\n",
        "\n",
        "metrics = ['accuracy']\n",
        "\n",
        "callbacks_names = {'checkpoint_train1':'checkpoint','checkpoint_train2':'checkpoint','checkpoint_train3':'checkpoint','checkpoint_train4':'checkpoint'}\n",
        "\n",
        "\n",
        "Experiment = 'lawhern2018'\n",
        "model_name = 'PST_attention'\n",
        "fs_new = 128\n",
        "\n",
        "\n",
        "subjects = np.arange(1,10)\n",
        "Acc = []\n",
        "History = []\n",
        "Subject = []\n",
        "for sbj in subjects:\n",
        "    print('Subject: {:d} of {:d}'.format(sbj,len(subjects)))\n",
        "\n",
        "    X_train,y_train,X_valid,y_valid,fs = load_dataset(dataset_name=\"BNCI2014001\", subject_id=sbj)\n",
        "    X_train = resample(X_train,int((X_train.shape[-2]/fs)*fs_new),axis=-2)    \n",
        "    X_valid = resample(X_valid,int((X_valid.shape[-2]/fs)*fs_new),axis=-2)    \n",
        "    model_args = {'nb_classes':4,'Chans':X_train.shape[1],'Samples':X_train.shape[2],'dropoutRate':0.5,'last_layer':'Dense'}\n",
        "    model = get_model(model_name,model_args)\n",
        "\n",
        "    call_args = [\n",
        "            \n",
        "            {'filepath':'/kaggle/tmp/checkpoint1_'+str(sbj),\n",
        "            'save_format':'tf',\n",
        "            'monitor':'val_accuracy',\n",
        "            'verbose':1,\n",
        "            'save_weights_only':True,\n",
        "            'save_best_only':True},\n",
        "             {'filepath':'/kaggle/tmp/checkpoint2_'+str(sbj),\n",
        "            'save_format':'tf',\n",
        "            'monitor':'val_accuracy',\n",
        "            'verbose':1,\n",
        "            'save_weights_only':True,\n",
        "            'save_best_only':True},\n",
        "             {'filepath':'/kaggle/tmp/checkpoint3_'+str(sbj),\n",
        "            'save_format':'tf',\n",
        "            'monitor':'val_accuracy',\n",
        "            'verbose':1,\n",
        "            'save_weights_only':True,\n",
        "            'save_best_only':True},\n",
        "             {'filepath':'/kaggle/tmp/checkpoint4_'+str(sbj),\n",
        "            'save_format':'tf',\n",
        "            'monitor':'val_accuracy',\n",
        "            'verbose':1,\n",
        "            'save_weights_only':True,\n",
        "            'save_best_only':True}]\n",
        "                \n",
        "    callbacks = get_callbacks(callbacks_names,call_args)\n",
        "\n",
        "    cv = train_model_cv(model,optimizer,loss,metrics,callbacks=callbacks)\n",
        "\n",
        "    history = cv.fit_validation(X_train,y_train,X_val=X_valid,y_val=y_valid,batch_size=64,epochs=1000,verbose=1,val_mode=Experiment)\n",
        "    acc = cv.get_accuracy()\n",
        "    print('Subject accuracy: {:f}'.format(acc))\n",
        "    Acc.append(acc)\n",
        "    History.append(History)\n",
        "    Subject.append(sbj)\n",
        "\n",
        "    results = {}\n",
        "    results['subject'] = Subject\n",
        "    results['history'] = History\n",
        "    results['accuracy'] = Acc\n",
        "\n",
        "    with open('Results_BCI2a_'+Experiment+'_'+model_name+'.p','wb') as handle:\n",
        "        pickle.dump(results,handle)\n",
        "    \n",
        "    del cv,callbacks"
      ],
      "id": "103a692c",
      "execution_count": null,
      "outputs": []
    }
  ]
}