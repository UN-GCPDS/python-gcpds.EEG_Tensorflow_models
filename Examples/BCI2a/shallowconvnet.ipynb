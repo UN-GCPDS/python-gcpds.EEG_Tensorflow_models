{
  "nbformat": 4,
  "nbformat_minor": 0,
  "metadata": {
    "kernelspec": {
      "language": "python",
      "display_name": "Python 3",
      "name": "python3"
    },
    "language_info": {
      "pygments_lexer": "ipython3",
      "nbconvert_exporter": "python",
      "version": "3.6.4",
      "file_extension": ".py",
      "codemirror_mode": {
        "name": "ipython",
        "version": 3
      },
      "name": "python",
      "mimetype": "text/x-python"
    },
    "colab": {
      "name": "shallowconvnet.ipynb",
      "provenance": [],
      "include_colab_link": true
    }
  },
  "cells": [
    {
      "cell_type": "markdown",
      "metadata": {
        "id": "view-in-github",
        "colab_type": "text"
      },
      "source": [
        "<a href=\"https://colab.research.google.com/github/UN-GCPDS/python-gcpds.EEG_Tensorflow_models/blob/main/Examples/BCI2a/shallowconvnet.ipynb\" target=\"_parent\"><img src=\"https://colab.research.google.com/assets/colab-badge.svg\" alt=\"Open In Colab\"/></a>"
      ]
    },
    {
      "cell_type": "markdown",
      "metadata": {
        "id": "pLD2zi6MxgIf"
      },
      "source": [
        "# BCI2a"
      ]
    },
    {
      "cell_type": "code",
      "metadata": {
        "id": "gb0esQltb-hG",
        "execution": {
          "iopub.status.busy": "2021-09-26T17:12:50.454128Z",
          "iopub.execute_input": "2021-09-26T17:12:50.456171Z",
          "iopub.status.idle": "2021-09-26T17:13:06.014392Z",
          "shell.execute_reply.started": "2021-09-26T17:12:50.456088Z",
          "shell.execute_reply": "2021-09-26T17:13:06.013579Z"
        },
        "trusted": true
      },
      "source": [
        "!pip install -U git+https://github.com/UN-GCPDS/python-gcpds.EEG_Tensorflow_models.git >/dev/null"
      ],
      "execution_count": null,
      "outputs": []
    },
    {
      "cell_type": "code",
      "metadata": {
        "id": "VFg-1frxcagM",
        "execution": {
          "iopub.status.busy": "2021-09-26T17:13:06.016145Z",
          "iopub.execute_input": "2021-09-26T17:13:06.016428Z",
          "iopub.status.idle": "2021-09-26T17:13:16.770073Z",
          "shell.execute_reply.started": "2021-09-26T17:13:06.016399Z",
          "shell.execute_reply": "2021-09-26T17:13:16.769348Z"
        },
        "trusted": true
      },
      "source": [
        "from EEG_Tensorflow_models.Utils.LoadData import load_dataset\n",
        "from EEG_Tensorflow_models.Utils.Callbacks import get_callbacks\n",
        "from EEG_Tensorflow_models.Utils.TrainingModels import get_loss,get_model,get_optimizer,train_model_cv"
      ],
      "execution_count": null,
      "outputs": []
    },
    {
      "cell_type": "code",
      "metadata": {
        "id": "HGbDskCzfluR",
        "execution": {
          "iopub.status.busy": "2021-09-26T17:13:16.771145Z",
          "iopub.execute_input": "2021-09-26T17:13:16.77197Z",
          "iopub.status.idle": "2021-09-26T17:13:16.830566Z",
          "shell.execute_reply.started": "2021-09-26T17:13:16.77194Z",
          "shell.execute_reply": "2021-09-26T17:13:16.829975Z"
        },
        "trusted": true
      },
      "source": [
        "import numpy as np\n",
        "import pickle\n",
        "from scipy.signal import resample"
      ],
      "execution_count": null,
      "outputs": []
    },
    {
      "cell_type": "markdown",
      "metadata": {
        "id": "yER2E281fKti"
      },
      "source": [
        "# Exp 1: Schirmeister 2017"
      ]
    },
    {
      "cell_type": "code",
      "metadata": {
        "id": "7k3LXi8vcVgI",
        "execution": {
          "iopub.status.busy": "2021-09-26T17:27:36.054952Z",
          "iopub.execute_input": "2021-09-26T17:27:36.055302Z",
          "iopub.status.idle": "2021-09-26T17:30:03.568757Z",
          "shell.execute_reply.started": "2021-09-26T17:27:36.055268Z",
          "shell.execute_reply": "2021-09-26T17:30:03.56567Z"
        },
        "trusted": true
      },
      "source": [
        "opt_args = {'lr': 0.01,'beta_1': 0.9}\n",
        "optimizer = get_optimizer('Adam',opt_args)\n",
        "\n",
        "loss = get_loss('CategoricalCrossentropy')\n",
        "\n",
        "metrics = ['accuracy']\n",
        "\n",
        "callbacks_names = {'early_stopping_train':'early_stopping','checkpoint_train':'checkpoint',\n",
        "                'Threshold_valid':'Threshold','checkpoint_valid':'checkpoint',\n",
        "                'early_stopping_valid':'early_stopping'}\n",
        "\n",
        "\n",
        "Experiment = 'schirrmeister2017'\n",
        "model_name = 'ShallowConvNet'\n",
        "Version='2018'\n",
        "\n",
        "subjects = np.arange(1,10)\n",
        "Acc = []\n",
        "History = []\n",
        "Subject = []\n",
        "fs_new = 128\n",
        "for sbj in subjects:\n",
        "    print('Subject: {:d} of {:d}'.format(sbj,len(subjects)))\n",
        "\n",
        "    X_train,y_train,X_valid,y_valid,fs = load_dataset(dataset_name=\"BNCI2014001\", subject_id=sbj)\n",
        "    \n",
        "    X_train = resample(X_train,int((X_train.shape[-2]/fs)*fs_new),axis=-2)    \n",
        "    X_valid = resample(X_valid,int((X_valid.shape[-2]/fs)*fs_new),axis=-2)     \n",
        "    \n",
        "\n",
        "    model_args = {'nb_classes':4,'Chans':X_train.shape[1],'Samples':X_train.shape[2],'dropoutRate':0.5,'version':Version}\n",
        "    model = get_model(model_name,model_args)\n",
        "    \n",
        "   \n",
        "\n",
        "    #model_args = {'nb_classes':4,'Chans':X_train.shape[1],'Samples':X_train.shape[2],'dropoutRate':0.5,'version':'2017'}\n",
        "    #model = get_model(model_name,model_args)\n",
        "    \n",
        "    call_args = [{'monitor':'val_accuracy','patience':100,'min_delta':0.001,'mode':'max','verbose':1,'restore_best_weights':False},\n",
        "                {'filepath':'/kaggle/tmp/checkpoint_sbj_'+str(sbj),'save_format':'tf','monitor':'val_accuracy','verbose':1,'save_weights_only':True,'save_best_only':True},\n",
        "                {'threshold':None},\n",
        "                {'filepath':'/kaggle/tmp/checkpoint_2_sbj_'+str(sbj),'save_format':'tf','monitor':'val_accuracy','verbose':1,'save_weights_only':True,'save_best_only':True},\n",
        "                {'monitor':'val_accuracy','patience':None,'min_delta':0.001,'mode':'max','verbose':1,'restore_best_weights':True}]\n",
        "                \n",
        "    callbacks = get_callbacks(callbacks_names,call_args)\n",
        "\n",
        "    cv = train_model_cv(model,optimizer,loss,metrics,callbacks=callbacks)\n",
        "\n",
        "    history = cv.fit_validation(X_train,y_train,X_val=X_valid,y_val=y_valid,batch_size=64,epochs=1000,verbose=1,val_mode=Experiment)\n",
        "    acc = cv.get_accuracy()\n",
        "    print('Subject accuracy: {:f}'.format(acc))\n",
        "    Acc.append(acc)\n",
        "    History.append(History)\n",
        "    Subject.append(sbj)\n",
        "\n",
        "    results = {}\n",
        "    results['subject'] = Subject\n",
        "    results['history'] = History\n",
        "    results['accuracy'] = Acc\n",
        "\n",
        "    with open('Results_BCI2a_'+Experiment+'_'+model_name+Version+'.p','wb') as handle:\n",
        "        pickle.dump(results,handle)\n",
        "    \n",
        "    del cv,callbacks,X_train,y_train,X_valid,y_valid,fs"
      ],
      "execution_count": null,
      "outputs": []
    },
    {
      "cell_type": "markdown",
      "metadata": {
        "id": "xkmyULdHpERD"
      },
      "source": [
        "#Exp 2: Schirmeister 2017_legal"
      ]
    },
    {
      "cell_type": "code",
      "metadata": {
        "id": "KxxJHDIJfjhr",
        "execution": {
          "iopub.status.busy": "2021-09-24T03:18:13.110208Z",
          "iopub.status.idle": "2021-09-24T03:18:13.110692Z",
          "shell.execute_reply.started": "2021-09-24T03:18:13.110427Z",
          "shell.execute_reply": "2021-09-24T03:18:13.11046Z"
        },
        "trusted": true
      },
      "source": [
        "opt_args = {'lr': 0.01,'beta_1': 0.9}\n",
        "optimizer = get_optimizer('Adam',opt_args)\n",
        "\n",
        "loss = get_loss('CategoricalCrossentropy')\n",
        "\n",
        "metrics = ['accuracy']\n",
        "\n",
        "callbacks_names = {'early_stopping_train':'early_stopping','checkpoint_train':'checkpoint',\n",
        "                'Threshold_valid':'Threshold','checkpoint_valid':'checkpoint',\n",
        "                'early_stopping_valid':'early_stopping'}\n",
        "\n",
        "\n",
        "Experiment = 'schirrmeister2017_legal'\n",
        "model_name = 'ShallowConvNet'\n",
        "Version='2018'\n",
        "\n",
        "subjects = np.arange(1,10)\n",
        "Acc = []\n",
        "History = []\n",
        "Subject = []\n",
        "for sbj in subjects:\n",
        "    print('Subject: {:d} of {:d}'.format(sbj,len(subjects)))\n",
        "\n",
        "    X_train,y_train,X_valid,y_valid,fs = load_dataset(dataset_name=\"BNCI2014001\", subject_id=sbj)\n",
        "    fs_new = 128\n",
        "    X_train = resample(X_train,int((X_train.shape[-2]/fs)*fs_new),axis=-2)    \n",
        "    X_valid = resample(X_valid,int((X_valid.shape[-2]/fs)*fs_new),axis=-2)    \n",
        "    model_args = {'nb_classes':4,'Chans':X_train.shape[1],'Samples':X_train.shape[2],'dropoutRate':0.5,'version':Version}\n",
        "    model = get_model(model_name,model_args)\n",
        "\n",
        "\n",
        "    call_args = [{'monitor':'val_accuracy','patience':100,'min_delta':0.001,'mode':'max','verbose':1,'restore_best_weights':False},\n",
        "                {'filepath':'/kaggle/tmp/checkpoint_sbj_'+str(sbj),'save_format':'tf','monitor':'val_accuracy','verbose':1,'save_weights_only':True,'save_best_only':True},\n",
        "                {'threshold':None},\n",
        "                {'filepath':'/kaggle/tmp/checkpoint_2_sbj_'+str(sbj),'save_format':'tf','monitor':'val_accuracy','verbose':1,'save_weights_only':True,'save_best_only':True},\n",
        "                {'monitor':'val_accuracy','patience':None,'min_delta':0.001,'mode':'max','verbose':1,'restore_best_weights':True}]\n",
        "                \n",
        "    callbacks = get_callbacks(callbacks_names,call_args)\n",
        "\n",
        "    cv = train_model_cv(model,optimizer,loss,metrics,callbacks=callbacks)\n",
        "\n",
        "    history = cv.fit_validation(X_train,y_train,X_val=X_valid,y_val=y_valid,batch_size=64,epochs=1000,verbose=1,val_mode=Experiment)\n",
        "    acc = cv.get_accuracy()\n",
        "    print('Subject accuracy: {:f}'.format(acc))\n",
        "    Acc.append(acc)\n",
        "    History.append(History)\n",
        "    Subject.append(sbj)\n",
        "\n",
        "    results = {}\n",
        "    results['subject'] = Subject\n",
        "    results['history'] = History\n",
        "    results['accuracy'] = Acc\n",
        "\n",
        "    with open('Results_BCI2a_'+Experiment+'_'+model_name+Version+'.p','wb') as handle:\n",
        "        pickle.dump(results,handle)\n",
        "    \n",
        "    del cv,callbacks"
      ],
      "execution_count": null,
      "outputs": []
    },
    {
      "cell_type": "markdown",
      "metadata": {
        "id": "jc57RFoppu6I"
      },
      "source": [
        "# Exp 3: Schirmeister 2021"
      ]
    },
    {
      "cell_type": "code",
      "metadata": {
        "id": "e3zhvmwHpyJ2",
        "execution": {
          "iopub.status.busy": "2021-09-24T03:18:13.112271Z",
          "iopub.status.idle": "2021-09-24T03:18:13.112757Z",
          "shell.execute_reply.started": "2021-09-24T03:18:13.112497Z",
          "shell.execute_reply": "2021-09-24T03:18:13.112522Z"
        },
        "trusted": true
      },
      "source": [
        "opt_args = {'lr': 0.01,'beta_1': 0.9}\n",
        "optimizer = get_optimizer('Adam',opt_args)\n",
        "\n",
        "loss = get_loss('CategoricalCrossentropy')\n",
        "\n",
        "metrics = ['accuracy']\n",
        "\n",
        "callbacks_names = {'checkpoint_valid':'checkpoint',\n",
        "                   'early_stopping_valid':'early_stopping'}\n",
        "\n",
        "\n",
        "Experiment = 'schirrmeister2021'\n",
        "model_name = 'ShallowConvNet'\n",
        "Version='2018'\n",
        "\n",
        "subjects = np.arange(1,10)\n",
        "Acc = []\n",
        "History = []\n",
        "Subject = []\n",
        "for sbj in subjects:\n",
        "    print('Subject: {:d} of {:d}'.format(sbj,len(subjects)))\n",
        "\n",
        "    X_train,y_train,X_valid,y_valid,fs = load_dataset(dataset_name=\"BNCI2014001\", subject_id=sbj)\n",
        "    fs_new = 128\n",
        "    X_train = resample(X_train,int((X_train.shape[-2]/fs)*fs_new),axis=-2)    \n",
        "    X_valid = resample(X_valid,int((X_valid.shape[-2]/fs)*fs_new),axis=-2)    \n",
        "    model_args = {'nb_classes':4,'Chans':X_train.shape[1],'Samples':X_train.shape[2],'dropoutRate':0.5,'version':Version}\n",
        "    model = get_model(model_name,model_args)\n",
        "    \n",
        "    \n",
        "\n",
        "    call_args = [\n",
        "            {'filepath':'/kaggle/tmp/checkpoint_'+str(sbj),\n",
        "            'save_format':'tf',\n",
        "            'monitor':'val_accuracy',\n",
        "            'verbose':1,\n",
        "            'save_weights_only':True,\n",
        "            'save_best_only':True},\n",
        "            {'monitor':'val_accuracy',\n",
        "            'patience':100,\n",
        "            'min_delta':0.001,\n",
        "            'mode':'max',\n",
        "            'verbose':1,\n",
        "            'restore_best_weights':True}]\n",
        "                \n",
        "    callbacks = get_callbacks(callbacks_names,call_args)\n",
        "\n",
        "    cv = train_model_cv(model,optimizer,loss,metrics,callbacks=callbacks)\n",
        "\n",
        "    history = cv.fit_validation(X_train,y_train,X_val=X_valid,y_val=y_valid,batch_size=64,epochs=1000,verbose=1,val_mode=Experiment)\n",
        "    acc = cv.get_accuracy()\n",
        "    print('Subject accuracy: {:f}'.format(acc))\n",
        "    Acc.append(acc)\n",
        "    History.append(History)\n",
        "    Subject.append(sbj)\n",
        "\n",
        "    results = {}\n",
        "    results['subject'] = Subject\n",
        "    results['history'] = History\n",
        "    results['accuracy'] = Acc\n",
        "\n",
        "    with open('Results_BCI2a_'+Experiment+'_'+model_name+Version+'.p','wb') as handle:\n",
        "        pickle.dump(results,handle)\n",
        "    \n",
        "    del cv,callbacks"
      ],
      "execution_count": null,
      "outputs": []
    },
    {
      "cell_type": "markdown",
      "metadata": {
        "id": "3AYFMYo_qWks"
      },
      "source": [
        "# Exp 4: 4-fold CV\n"
      ]
    },
    {
      "cell_type": "code",
      "metadata": {
        "id": "FPWVi22jqf-U",
        "execution": {
          "iopub.status.busy": "2021-09-24T03:18:13.114398Z",
          "iopub.status.idle": "2021-09-24T03:18:13.114881Z",
          "shell.execute_reply.started": "2021-09-24T03:18:13.114632Z",
          "shell.execute_reply": "2021-09-24T03:18:13.114657Z"
        },
        "trusted": true
      },
      "source": [
        "opt_args = {'lr': 0.01,'beta_1': 0.9}\n",
        "optimizer = get_optimizer('Adam',opt_args)\n",
        "\n",
        "loss = get_loss('CategoricalCrossentropy')\n",
        "\n",
        "metrics = ['accuracy']\n",
        "\n",
        "callbacks_names = {'checkpoint_train1':'checkpoint','checkpoint_train2':'checkpoint','checkpoint_train3':'checkpoint','checkpoint_train4':'checkpoint'}\n",
        "\n",
        "\n",
        "Experiment = 'lawhern2018'\n",
        "model_name = 'ShallowConvNet'\n",
        "Version='2018'\n",
        "\n",
        "fs_new = 128\n",
        "\n",
        "\n",
        "subjects = np.arange(1,10)\n",
        "Acc = []\n",
        "History = []\n",
        "Subject = []\n",
        "for sbj in subjects:\n",
        "    print('Subject: {:d} of {:d}'.format(sbj,len(subjects)))\n",
        "\n",
        "    X_train,y_train,X_valid,y_valid,fs = load_dataset(dataset_name=\"BNCI2014001\", subject_id=sbj)\n",
        "    fs_new = 128\n",
        "    X_train = resample(X_train,int((X_train.shape[-2]/fs)*fs_new),axis=-2)    \n",
        "    X_valid = resample(X_valid,int((X_valid.shape[-2]/fs)*fs_new),axis=-2)    \n",
        "    model_args = {'nb_classes':4,'Chans':X_train.shape[1],'Samples':X_train.shape[2],'dropoutRate':0.5,'version':Version}\n",
        "    model = get_model(model_name,model_args)\n",
        "\n",
        "    call_args = [\n",
        "            \n",
        "            {'filepath':'/kaggle/tmp/checkpoint1_'+str(sbj),\n",
        "            'save_format':'tf',\n",
        "            'monitor':'val_accuracy',\n",
        "            'verbose':1,\n",
        "            'save_weights_only':True,\n",
        "            'save_best_only':True},\n",
        "             {'filepath':'/kaggle/tmp/checkpoint2_'+str(sbj),\n",
        "            'save_format':'tf',\n",
        "            'monitor':'val_accuracy',\n",
        "            'verbose':1,\n",
        "            'save_weights_only':True,\n",
        "            'save_best_only':True},\n",
        "             {'filepath':'/kaggle/tmp/checkpoint3_'+str(sbj),\n",
        "            'save_format':'tf',\n",
        "            'monitor':'val_accuracy',\n",
        "            'verbose':1,\n",
        "            'save_weights_only':True,\n",
        "            'save_best_only':True},\n",
        "             {'filepath':'/kaggle/tmp/checkpoint4_'+str(sbj),\n",
        "            'save_format':'tf',\n",
        "            'monitor':'val_accuracy',\n",
        "            'verbose':1,\n",
        "            'save_weights_only':True,\n",
        "            'save_best_only':True}]\n",
        "                \n",
        "    callbacks = get_callbacks(callbacks_names,call_args)\n",
        "\n",
        "    cv = train_model_cv(model,optimizer,loss,metrics,callbacks=callbacks)\n",
        "\n",
        "    history = cv.fit_validation(X_train,y_train,X_val=X_valid,y_val=y_valid,batch_size=64,epochs=1000,verbose=1,val_mode=Experiment)\n",
        "    acc = cv.get_accuracy()\n",
        "    print('Subject accuracy: {:f}'.format(acc))\n",
        "    Acc.append(acc)\n",
        "    History.append(History)\n",
        "    Subject.append(sbj)\n",
        "\n",
        "    results = {}\n",
        "    results['subject'] = Subject\n",
        "    results['history'] = History\n",
        "    results['accuracy'] = Acc\n",
        "\n",
        "    with open('Results_BCI2a_'+Experiment+'_'+model_name+Version+'.p','wb') as handle:\n",
        "        pickle.dump(results,handle)\n",
        "    \n",
        "    del cv,callbacks"
      ],
      "execution_count": null,
      "outputs": []
    }
  ]
}