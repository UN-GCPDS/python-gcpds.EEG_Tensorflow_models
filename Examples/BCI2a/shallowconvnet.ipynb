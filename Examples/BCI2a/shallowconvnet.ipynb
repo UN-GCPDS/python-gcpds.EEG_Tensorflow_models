{
  "cells": [
    {
      "cell_type": "markdown",
      "metadata": {
        "colab_type": "text",
        "id": "view-in-github"
      },
      "source": [
        "<a href=\"https://colab.research.google.com/github/UN-GCPDS/python-gcpds.EEG_Tensorflow_models/blob/main/Examples/BCI2a/shallowconvnet.ipynb\" target=\"_parent\"><img src=\"https://colab.research.google.com/assets/colab-badge.svg\" alt=\"Open In Colab\"/></a>"
      ]
    },
    {
      "cell_type": "markdown",
      "metadata": {
        "id": "pLD2zi6MxgIf"
      },
      "source": [
        "# BCI2a"
      ]
    },
    {
      "cell_type": "code",
      "execution_count": 2,
      "metadata": {
        "execution": {
          "iopub.execute_input": "2021-09-26T17:13:06.016428Z",
          "iopub.status.busy": "2021-09-26T17:13:06.016145Z",
          "iopub.status.idle": "2021-09-26T17:13:16.770073Z",
          "shell.execute_reply": "2021-09-26T17:13:16.769348Z",
          "shell.execute_reply.started": "2021-09-26T17:13:06.016399Z"
        },
        "id": "VFg-1frxcagM",
        "trusted": true
      },
      "outputs": [],
      "source": [
        "from EEG_Tensorflow_models.Utils.LoadData import load_dataset,get_classes,get_data_from_BaseConcatDataset\n",
        "from EEG_Tensorflow_models.Utils.Callbacks import get_callbacks\n",
        "from EEG_Tensorflow_models.Utils.TrainingModels import get_loss,get_model,get_optimizer,train_model_cv\n",
        "import tensorflow as tf\n",
        "from EEG_Tensorflow_models.Utils.Attention_maps import Attention_maps"
      ]
    },
    {
      "cell_type": "code",
      "execution_count": 3,
      "metadata": {
        "execution": {
          "iopub.execute_input": "2021-09-26T17:13:16.77197Z",
          "iopub.status.busy": "2021-09-26T17:13:16.771145Z",
          "iopub.status.idle": "2021-09-26T17:13:16.830566Z",
          "shell.execute_reply": "2021-09-26T17:13:16.829975Z",
          "shell.execute_reply.started": "2021-09-26T17:13:16.77194Z"
        },
        "id": "HGbDskCzfluR",
        "trusted": true
      },
      "outputs": [],
      "source": [
        "import numpy as np\n",
        "import pickle\n",
        "from scipy.signal import resample\n",
        "import functools\n",
        "import json"
      ]
    },
    {
      "cell_type": "markdown",
      "metadata": {
        "id": "yER2E281fKti"
      },
      "source": [
        "# Exp 1: Schirmeister 2017"
      ]
    },
    {
      "cell_type": "code",
      "execution_count": null,
      "metadata": {
        "execution": {
          "iopub.execute_input": "2021-09-26T17:27:36.055302Z",
          "iopub.status.busy": "2021-09-26T17:27:36.054952Z",
          "iopub.status.idle": "2021-09-26T17:30:03.568757Z",
          "shell.execute_reply": "2021-09-26T17:30:03.56567Z",
          "shell.execute_reply.started": "2021-09-26T17:27:36.055268Z"
        },
        "id": "7k3LXi8vcVgI",
        "trusted": true
      },
      "outputs": [],
      "source": [
        "with tf.device('/cpu:0'):\n",
        "    opt_args = {'lr': 0.01,'beta_1': 0.9}\n",
        "    optimizer = get_optimizer('Adam',opt_args)\n",
        "\n",
        "    loss = get_loss('CategoricalCrossentropy')\n",
        "\n",
        "    metrics = ['accuracy']\n",
        "\n",
        "    callbacks_names = {'early_stopping_train':'early_stopping','checkpoint_train':'checkpoint',\n",
        "                    'Threshold_valid':'Threshold','checkpoint_valid':'checkpoint',\n",
        "                    'early_stopping_valid':'early_stopping'}\n",
        "\n",
        "\n",
        "    Experiment = 'schirrmeister2017'\n",
        "    model_name = 'ShallowConvNet'\n",
        "    Version='2018'\n",
        "\n",
        "    subjects = np.arange(1,10)\n",
        "    Acc = []\n",
        "    History = []\n",
        "    Subject = []\n",
        "    new_fs = 128.0\n",
        "    for sbj in [8]:#subjects:\n",
        "        print('Subject: {:d} of {:d}'.format(sbj,len(subjects)))\n",
        "\n",
        "        classes = [\"left_hand\", \"right_hand\"]#[\"feet\", \"left_hand\", \"right_hand\", \"tongue\"]\n",
        "        windows_dataset = load_dataset(dataset_name=\"BNCI2014001\", subject_id=sbj)\n",
        "        sessions = windows_dataset.split('session')\n",
        "        train_set = sessions['session_T']\n",
        "        valid_set = sessions['session_E']\n",
        "        X_train, y_train = get_data_from_BaseConcatDataset(train_set)\n",
        "        X_valid, y_valid = get_data_from_BaseConcatDataset(valid_set)\n",
        "\n",
        "        mapping_classes = train_set.datasets[0].windows.event_id\n",
        "        if len(classes) != len(mapping_classes):\n",
        "            classes_id = [mapping_classes[cls] for cls in classes]\n",
        "            X_train, y_train = get_classes(X_train, y_train, classes_id)\n",
        "            X_valid, y_valid = get_classes(X_valid, y_valid, classes_id)\n",
        "        info = windows_dataset.datasets[0].windows.info\n",
        "\n",
        "        #It is generally recommended not to epoch downsampled data,\n",
        "        #but instead epoch and then downsample, as epoching\n",
        "        #downsampled data jitters triggers. -> mne.io.Raw.resample()\n",
        "        if new_fs == info[\"sfreq\"]:\n",
        "            print('No resampling, since new sampling rate same.')\n",
        "        else:\n",
        "            print(\"Resampling from {:f} to {:f} Hz.\".format(info[\"sfreq\"], new_fs))\n",
        "            X_train = resample(X_train,int((X_train.shape[-2]/info[\"sfreq\"])*new_fs),axis=-2)    \n",
        "            X_valid = resample(X_valid,int((X_valid.shape[-2]/info[\"sfreq\"])*new_fs),axis=-2)    \n",
        "            info['sfreq'] = new_fs   \n",
        "        \n",
        "\n",
        "        model_args = {'nb_classes':2,'Chans':X_train.shape[1],'Samples':X_train.shape[2],'dropoutRate':0.5,'version':Version}\n",
        "        model = get_model(model_name,model_args)\n",
        "        \n",
        "\n",
        "        #model_args = {'nb_classes':4,'Chans':X_train.shape[1],'Samples':X_train.shape[2],'dropoutRate':0.5,'version':'2017'}\n",
        "        #model = get_model(model_name,model_args)\n",
        "        \n",
        "        call_args = [{'monitor':'val_accuracy','patience':100,'min_delta':0.001,'mode':'max','verbose':1,'restore_best_weights':False},\n",
        "                    {'filepath':'./tmp/checkpoint_sbj_'+str(sbj)+'_cls_'+str(len(classes)),'save_format':'tf','monitor':'val_accuracy','verbose':1,'save_weights_only':False,'save_best_only':True},\n",
        "                    {'threshold':None},\n",
        "                    {'filepath':'./tmp/checkpoint_2_sbj_'+str(sbj)+'_cls_'+str(len(classes)),'save_format':'tf','monitor':'val_accuracy','verbose':1,'save_weights_only':False,'save_best_only':True},\n",
        "                    {'monitor':'val_accuracy','patience':None,'min_delta':0.001,'mode':'max','verbose':1,'restore_best_weights':True}]\n",
        "                    \n",
        "        callbacks = get_callbacks(callbacks_names,call_args)\n",
        "\n",
        "        cv = train_model_cv(model,optimizer,loss,metrics,callbacks=callbacks)\n",
        "\n",
        "        history = cv.fit_validation(X_train,y_train,X_val=X_valid,y_val=y_valid,batch_size=64,epochs=1000,verbose=0,val_mode=Experiment)\n",
        "        acc = cv.get_accuracy()\n",
        "        print('Subject accuracy: {:f}'.format(acc))\n",
        "        Acc.append(acc)\n",
        "        History.append(history)\n",
        "        Subject.append(sbj)\n",
        "\n",
        "        results = {}\n",
        "        results['subject'] = Subject\n",
        "        results['history'] = History\n",
        "        results['accuracy'] = Acc\n",
        "\n",
        "        with open('Results_BCI2a_'+Experiment+'_'+model_name+Version+'_cls_'+str(len(classes))+'.p','wb') as handle:\n",
        "            pickle.dump(results,handle)\n",
        "        \n",
        "        #del cv,callbacks,X_train,y_train,X_valid,y_valid,fs"
      ]
    },
    {
      "cell_type": "code",
      "execution_count": 45,
      "metadata": {},
      "outputs": [],
      "source": [
        "# perform arctivation class over all subjects\n",
        "def Confidence_index(model,x_train,y_train,tmpr):\n",
        "    y_tilde=[]\n",
        "    y=[]\n",
        "    labels=[]\n",
        "    for i in np.unique(y_train):\n",
        "        idx = y_train==i\n",
        "        labels.append(y_train[idx])\n",
        "        x = x_train[idx]\n",
        "        y_tilde.append(model.predict(x*tmpr[0,i,:,:,np.newaxis]))\n",
        "        y.append(model.predict(x))\n",
        "    y_all = functools.reduce(lambda x,y:np.concatenate([x,y],axis=0),y)\n",
        "    labels_all = functools.reduce(lambda x,y:np.concatenate([x,y],axis=0),labels)\n",
        "    y_tilde_all = functools.reduce(lambda x,y:np.concatenate([x,y],axis=0),y_tilde)\n",
        "    result=[]\n",
        "    for j in range(len(y_all)):\n",
        "        if np.argmax(y_tilde_all[j])!=labels_all[j]:\n",
        "            result.append(-1)\n",
        "        elif y_tilde_all[j][labels_all[j]]>y_all[j][labels_all[j]]:\n",
        "            result.append(1)\n",
        "        else:\n",
        "            result.append(0) \n",
        "    return result\n",
        "# perform arctivation class over all subjects\n",
        "def Confidence_index_2(model,x_train,y_train,relM):\n",
        "    y_tilde=[]\n",
        "    y=[]\n",
        "    labels=[]\n",
        "    for i in np.unique(y_train):\n",
        "        idx = y_train==i\n",
        "        labels.append(y_train[idx])\n",
        "        x = x_train[idx]\n",
        "        y_tilde.append(model.predict(x*relM[0,i,:,:,:,np.newaxis]))\n",
        "        y.append(model.predict(x))\n",
        "    y_all = functools.reduce(lambda x,y:np.concatenate([x,y],axis=0),y)\n",
        "    labels_all = functools.reduce(lambda x,y:np.concatenate([x,y],axis=0),labels)\n",
        "    y_tilde_all = functools.reduce(lambda x,y:np.concatenate([x,y],axis=0),y_tilde)\n",
        "    result=[]\n",
        "    for j in range(len(y_all)):\n",
        "        if np.argmax(y_tilde_all[j])!=labels_all[j]:\n",
        "            result.append(-1)\n",
        "        elif y_tilde_all[j][labels_all[j]]>y_all[j][labels_all[j]]:\n",
        "            result.append(1)\n",
        "        else:\n",
        "            result.append(0) \n",
        "    return result"
      ]
    },
    {
      "cell_type": "code",
      "execution_count": null,
      "metadata": {},
      "outputs": [],
      "source": [
        "subjects = np.arange(1,10)\n",
        "new_fs = 128\n",
        "with tf.device('/cpu:0'):\n",
        "    for sbj in [8]:#,2,3,4,5,6,7,8,9]:\n",
        "        print('Subject: {:d} of {:d}'.format(sbj,len(subjects)))\n",
        "        classes = [\"left_hand\", \"right_hand\"]#[\"feet\", \"left_hand\", \"right_hand\", \"tongue\"]\n",
        "        windows_dataset = load_dataset(dataset_name=\"BNCI2014001\", subject_id=sbj)\n",
        "        sessions = windows_dataset.split('session')\n",
        "        train_set = sessions['session_T']\n",
        "        valid_set = sessions['session_E']\n",
        "        X_train, y_train = get_data_from_BaseConcatDataset(train_set)\n",
        "        #X_valid, y_valid = get_data_from_BaseConcatDataset(valid_set)\n",
        "\n",
        "        mapping_classes = train_set.datasets[0].windows.event_id\n",
        "        if len(classes) != len(mapping_classes):\n",
        "            classes_id = [mapping_classes[cls] for cls in classes]\n",
        "            X_train, y_train = get_classes(X_train, y_train, classes_id)\n",
        "            #X_valid, y_valid = get_classes(X_valid, y_valid, classes_id)\n",
        "        info = windows_dataset.datasets[0].windows.info\n",
        "        y_train=y_train.astype(int)\n",
        "\n",
        "        #It is generally recommended not to epoch downsampled data,\n",
        "        #but instead epoch and then downsample, as epoching\n",
        "        #downsampled data jitters triggers. -> mne.io.Raw.resample()\n",
        "        if new_fs == info[\"sfreq\"]:\n",
        "            print('No resampling, since new sampling rate same.')\n",
        "        else:\n",
        "            print(\"Resampling from {:f} to {:f} Hz.\".format(info[\"sfreq\"], new_fs))\n",
        "            X_train = resample(X_train,int((X_train.shape[-2]/info[\"sfreq\"])*new_fs),axis=-2)    \n",
        "            #X_valid = resample(X_valid,int((X_valid.shape[-2]/info[\"sfreq\"])*new_fs),axis=-2)    \n",
        "            info['sfreq'] = new_fs   \n",
        "        \n",
        "        model = tf.keras.models.load_model(f'/home/daniel/Documents/python-gcpds.EEG_Tensorflow_models/Examples/BCI2a/tmp/checkpoint_2_sbj_{sbj}_cls_2') #\n",
        "        #checkpoint_2_sbj_'+str(sbj)+'_cls_'+str(len(classes))\n",
        "        ## falta agregar aqui como cargar Xraw y cargar el modelo que es con el _cls_2 par ael caso izq derecha.. y hacer el confidence\n",
        "        # using cpu if needed.\n",
        "\n",
        "        rel_model_name = ['Gradcam++'] #Gradcam, Gradcam++, Saliency, Scorecam\n",
        "        layer_name =  ['Conv2D_1','Conv2D_2'] #'conv\\w*\\s' ---errors, check...\n",
        "        relM_,tmpr_ = Attention_maps(rel_model_name,layer_name,model,\n",
        "                                            X_train,y_train,function_combination=np.prod,\n",
        "                                            norm_c=False,norm_max_min=False,\n",
        "                                            plot_int=False,transpose=False)\n",
        "        new_model = tf.keras.Model(inputs=model.input,outputs=model.get_layer('output').output)\n",
        "        tmpr_=tmpr_/(1e-8+tmpr_.max())\n",
        "        result = {'result_tmpr':Confidence_index(model,X_train,y_train,tmpr_),\n",
        "                'result_relM': Confidence_index_2(model,X_train,y_train,relM_)}\n",
        "        with open(f'/home/daniel/Documents/python-gcpds.EEG_Tensorflow_models/Examples/BCI2a/tmp/confidence{sbj}_cls_2.json','w') as f:\n",
        "            json.dump(result,f)\n",
        "        print(f'saved subjetc {sbj}')"
      ]
    },
    {
      "cell_type": "code",
      "execution_count": 68,
      "metadata": {},
      "outputs": [
        {
          "data": {
            "text/plain": [
              "<AxesSubplot:>"
            ]
          },
          "execution_count": 68,
          "metadata": {},
          "output_type": "execute_result"
        },
        {
          "data": {
            "image/png": "[encoded data removed]",
            "text/plain": [
              "<Figure size 432x288 with 1 Axes>"
            ]
          },
          "metadata": {
            "needs_background": "light"
          },
          "output_type": "display_data"
        },
        {
          "data": {
            "image/png": "[encoded data removed]",
            "text/plain": [
              "<Figure size 432x288 with 1 Axes>"
            ]
          },
          "metadata": {
            "needs_background": "light"
          },
          "output_type": "display_data"
        }
      ],
      "source": [
        "import pandas as pd\n",
        "pd.DataFrame(history[0].history).plot()\n",
        "pd.DataFrame(history[1].history).plot()"
      ]
    },
    {
      "cell_type": "code",
      "execution_count": 79,
      "metadata": {},
      "outputs": [
        {
          "name": "stdout",
          "output_type": "stream",
          "text": [
            "Gradcam++ class 0 layer Conv2D_1\n",
            "Gradcam++ class 0 layer Conv2D_2\n",
            "Gradcam++ class 1 layer Conv2D_1\n",
            "Gradcam++ class 1 layer Conv2D_2\n"
          ]
        },
        {
          "data": {
            "image/png": "[encoded data removed]",
            "text/plain": [
              "<Figure size 720x360 with 2 Axes>"
            ]
          },
          "metadata": {
            "needs_background": "light"
          },
          "output_type": "display_data"
        }
      ],
      "source": [
        "rel_model_name = ['Gradcam++'] #Gradcam, Gradcam++, Saliency, Scorecam\n",
        "layer_name =  ['Conv2D_1','Conv2D_2'] #'conv\\w*\\s' ---errors, check...\n",
        "relM_,tmpr_ = Attention_maps(rel_model_name,layer_name,model,\n",
        "                                    X_train,y_train.astype(int),function_combination=np.prod,\n",
        "                                    norm_c=False,norm_max_min=False,\n",
        "                                    plot_int=False,transpose=False)"
      ]
    },
    {
      "cell_type": "code",
      "execution_count": 80,
      "metadata": {},
      "outputs": [
        {
          "data": {
            "text/plain": [
              "(1, 2, 72, 22, 448)"
            ]
          },
          "execution_count": 80,
          "metadata": {},
          "output_type": "execute_result"
        }
      ],
      "source": [
        "relM_.shape"
      ]
    },
    {
      "cell_type": "code",
      "execution_count": 66,
      "metadata": {},
      "outputs": [],
      "source": [
        "model.get_layer('out_activation')\n",
        "new_model = tf.keras.Model(inputs=model.input,outputs=model.get_layer('output').output)"
      ]
    },
    {
      "cell_type": "code",
      "execution_count": 63,
      "metadata": {},
      "outputs": [],
      "source": [
        "yy=np.argmax(model.predict(X_valid),axis=1)\n"
      ]
    },
    {
      "cell_type": "code",
      "execution_count": 85,
      "metadata": {},
      "outputs": [],
      "source": [
        "indx_ord = np.argsort(y_train)\n",
        "new_y = y_train[indx_ord]\n",
        "c=1\n",
        "new_x=relM_[0,c,:,:,:,np.newaxis]*X_train[indx_ord][new_y==c]"
      ]
    },
    {
      "cell_type": "code",
      "execution_count": 86,
      "metadata": {},
      "outputs": [
        {
          "data": {
            "text/plain": [
              "(72, 22, 448, 1)"
            ]
          },
          "execution_count": 86,
          "metadata": {},
          "output_type": "execute_result"
        }
      ],
      "source": [
        "new_x.shape"
      ]
    },
    {
      "cell_type": "code",
      "execution_count": 88,
      "metadata": {},
      "outputs": [
        {
          "data": {
            "text/plain": [
              "array([[-3.4452221 ,  3.4452224 ],\n",
              "       [-0.65697634,  0.6569764 ],\n",
              "       [-3.3872433 ,  3.3872435 ],\n",
              "       [-2.2119231 ,  2.211923  ],\n",
              "       [-3.877306  ,  3.8773062 ],\n",
              "       [-0.6580288 ,  0.6580287 ],\n",
              "       [-3.3366811 ,  3.3366811 ],\n",
              "       [-1.7189256 ,  1.7189258 ],\n",
              "       [-3.0755262 ,  3.075526  ],\n",
              "       [-2.053638  ,  2.053638  ],\n",
              "       [-3.546307  ,  3.5463076 ],\n",
              "       [-1.4340204 ,  1.4340206 ],\n",
              "       [-2.4399884 ,  2.4399877 ],\n",
              "       [-3.3698654 ,  3.3698652 ],\n",
              "       [-2.4210782 ,  2.4210782 ],\n",
              "       [-1.4264984 ,  1.4264985 ],\n",
              "       [-1.3163005 ,  1.3163004 ],\n",
              "       [-3.8289614 ,  3.8289618 ],\n",
              "       [-4.11277   ,  4.1127696 ],\n",
              "       [-3.061793  ,  3.061793  ],\n",
              "       [-4.6048055 ,  4.604806  ],\n",
              "       [-3.175758  ,  3.1757584 ],\n",
              "       [-1.6112657 ,  1.6112658 ],\n",
              "       [-2.290064  ,  2.2900643 ],\n",
              "       [-2.5932078 ,  2.593208  ],\n",
              "       [-3.227458  ,  3.2274575 ],\n",
              "       [-3.7847767 ,  3.7847767 ],\n",
              "       [-5.864941  ,  5.864941  ],\n",
              "       [-2.8746843 ,  2.8746846 ],\n",
              "       [-2.8331718 ,  2.8331714 ],\n",
              "       [-3.2597618 ,  3.2597616 ],\n",
              "       [-3.1080778 ,  3.108078  ],\n",
              "       [-1.7714998 ,  1.7715    ],\n",
              "       [-3.3658304 ,  3.365831  ],\n",
              "       [-2.8987358 ,  2.8987365 ],\n",
              "       [-2.2096534 ,  2.2096539 ],\n",
              "       [-3.9547112 ,  3.9547117 ],\n",
              "       [-4.746651  ,  4.746651  ],\n",
              "       [-1.9294477 ,  1.929447  ],\n",
              "       [-1.4522647 ,  1.4522649 ],\n",
              "       [-2.8177361 ,  2.8177357 ],\n",
              "       [-1.4641978 ,  1.4641978 ],\n",
              "       [-4.3369527 ,  4.3369527 ],\n",
              "       [-5.635467  ,  5.635467  ],\n",
              "       [-1.9681547 ,  1.968155  ],\n",
              "       [-1.5613598 ,  1.5613599 ],\n",
              "       [-2.3135839 ,  2.3135834 ],\n",
              "       [-2.8345742 ,  2.8345742 ],\n",
              "       [-2.7035236 ,  2.7035239 ],\n",
              "       [-3.789926  ,  3.7899263 ],\n",
              "       [-4.9509187 ,  4.9509187 ],\n",
              "       [-0.7052245 ,  0.7052245 ],\n",
              "       [-4.597737  ,  4.597737  ],\n",
              "       [-2.1428056 ,  2.1428056 ],\n",
              "       [-3.746016  ,  3.7460158 ],\n",
              "       [-0.99762744,  0.99762696],\n",
              "       [-2.4909966 ,  2.4909964 ],\n",
              "       [-1.7111493 ,  1.7111493 ],\n",
              "       [-3.492395  ,  3.4923952 ],\n",
              "       [-3.4963129 ,  3.4963126 ],\n",
              "       [-2.1720703 ,  2.1720705 ],\n",
              "       [-3.0685549 ,  3.0685546 ],\n",
              "       [-2.163105  ,  2.163105  ],\n",
              "       [-3.8987541 ,  3.8987541 ],\n",
              "       [-1.8112413 ,  1.8112415 ],\n",
              "       [-3.8719358 ,  3.871936  ],\n",
              "       [-3.081637  ,  3.081637  ],\n",
              "       [-2.887403  ,  2.887403  ],\n",
              "       [-5.7901797 ,  5.7901797 ],\n",
              "       [-4.2451043 ,  4.245104  ],\n",
              "       [-2.6121807 ,  2.6121807 ],\n",
              "       [-3.115907  ,  3.115907  ]], dtype=float32)"
            ]
          },
          "execution_count": 88,
          "metadata": {},
          "output_type": "execute_result"
        }
      ],
      "source": [
        "new_model.predict(X_train[indx_ord][new_y==c])"
      ]
    },
    {
      "cell_type": "code",
      "execution_count": 87,
      "metadata": {},
      "outputs": [
        {
          "data": {
            "text/plain": [
              "array([[  7.416916 ,  -7.4169164],\n",
              "       [ 10.946332 , -10.946333 ],\n",
              "       [  9.00318  ,  -9.003178 ],\n",
              "       [  6.541586 ,  -6.5415883],\n",
              "       [  6.6376796,  -6.6376815],\n",
              "       [  8.208433 ,  -8.208434 ],\n",
              "       [  9.581654 ,  -9.581654 ],\n",
              "       [  9.062418 ,  -9.06242  ],\n",
              "       [  9.822076 ,  -9.822076 ],\n",
              "       [  6.0689607,  -6.06896  ],\n",
              "       [  9.114246 ,  -9.114248 ],\n",
              "       [  7.3134828,  -7.313483 ],\n",
              "       [  8.723571 ,  -8.723573 ],\n",
              "       [  5.909876 ,  -5.9098754],\n",
              "       [  8.275515 ,  -8.2755165],\n",
              "       [  9.349104 ,  -9.349106 ],\n",
              "       [  9.752008 ,  -9.75201  ],\n",
              "       [  6.9658494,  -6.965849 ],\n",
              "       [ 10.412748 , -10.412748 ],\n",
              "       [  7.935015 ,  -7.935017 ],\n",
              "       [  8.302408 ,  -8.302408 ],\n",
              "       [ 10.516855 , -10.516854 ],\n",
              "       [  9.159761 ,  -9.159761 ],\n",
              "       [ 10.780491 , -10.780494 ],\n",
              "       [  7.361549 ,  -7.36155  ],\n",
              "       [  8.529979 ,  -8.529978 ],\n",
              "       [  6.6093917,  -6.6093926],\n",
              "       [  6.4233437,  -6.4233437],\n",
              "       [  9.641306 ,  -9.641307 ],\n",
              "       [  8.53516  ,  -8.53516  ],\n",
              "       [  7.7217727,  -7.721773 ],\n",
              "       [  6.9586453,  -6.958648 ],\n",
              "       [  8.428187 ,  -8.428188 ],\n",
              "       [  9.725874 ,  -9.725876 ],\n",
              "       [  7.345762 ,  -7.3457627],\n",
              "       [  7.887882 ,  -7.8878837],\n",
              "       [  8.9042015,  -8.9042015],\n",
              "       [  7.8339977,  -7.833999 ],\n",
              "       [  8.950848 ,  -8.950848 ],\n",
              "       [  9.534574 ,  -9.534575 ],\n",
              "       [  9.805113 ,  -9.805115 ],\n",
              "       [  7.602269 ,  -7.6022706],\n",
              "       [  8.027042 ,  -8.027043 ],\n",
              "       [  9.045528 ,  -9.045529 ],\n",
              "       [  7.6956396,  -7.6956406],\n",
              "       [ 10.182531 , -10.182533 ],\n",
              "       [  9.924244 ,  -9.924244 ],\n",
              "       [  8.688543 ,  -8.688545 ],\n",
              "       [ 10.520569 , -10.52057  ],\n",
              "       [  7.810064 ,  -7.810064 ],\n",
              "       [  7.60008  ,  -7.600082 ],\n",
              "       [  9.889009 ,  -9.88901  ],\n",
              "       [  8.004801 ,  -8.004802 ],\n",
              "       [  9.940529 ,  -9.940528 ],\n",
              "       [  6.4907436,  -6.490746 ],\n",
              "       [  9.54583  ,  -9.545832 ],\n",
              "       [  7.7951508,  -7.795151 ],\n",
              "       [  7.6421776,  -7.642179 ],\n",
              "       [  6.0526857,  -6.0526853],\n",
              "       [  7.4425664,  -7.442567 ],\n",
              "       [  9.003149 ,  -9.00315  ],\n",
              "       [  7.7663994,  -7.766401 ],\n",
              "       [  8.746822 ,  -8.746824 ],\n",
              "       [  8.520731 ,  -8.520733 ],\n",
              "       [  8.163862 ,  -8.163862 ],\n",
              "       [  7.139029 ,  -7.139029 ],\n",
              "       [  9.305767 ,  -9.305768 ],\n",
              "       [  8.497759 ,  -8.497759 ],\n",
              "       [  7.4840684,  -7.4840684],\n",
              "       [  8.186161 ,  -8.186161 ],\n",
              "       [  8.07901  ,  -8.07901  ],\n",
              "       [  9.037047 ,  -9.037048 ]], dtype=float32)"
            ]
          },
          "execution_count": 87,
          "metadata": {},
          "output_type": "execute_result"
        }
      ],
      "source": [
        "new_model.predict(new_x)"
      ]
    },
    {
      "cell_type": "code",
      "execution_count": 64,
      "metadata": {},
      "outputs": [
        {
          "data": {
            "text/plain": [
              "array([ True,  True,  True,  True,  True,  True,  True,  True,  True,\n",
              "        True,  True,  True,  True,  True,  True,  True,  True,  True,\n",
              "        True,  True,  True,  True,  True,  True,  True,  True,  True,\n",
              "        True, False,  True,  True, False,  True,  True,  True,  True,\n",
              "        True,  True,  True,  True,  True,  True,  True,  True,  True,\n",
              "        True,  True,  True,  True, False,  True,  True,  True,  True,\n",
              "        True,  True,  True,  True,  True,  True,  True,  True,  True,\n",
              "        True,  True,  True,  True,  True,  True,  True,  True,  True,\n",
              "        True,  True,  True,  True,  True,  True,  True,  True,  True,\n",
              "        True,  True,  True,  True,  True,  True,  True,  True,  True,\n",
              "        True,  True,  True,  True,  True,  True,  True,  True,  True,\n",
              "        True,  True,  True,  True,  True,  True,  True,  True,  True,\n",
              "        True,  True,  True,  True,  True,  True,  True,  True,  True,\n",
              "        True,  True,  True,  True,  True,  True,  True,  True,  True,\n",
              "        True,  True,  True,  True,  True,  True,  True,  True,  True,\n",
              "       False,  True,  True,  True,  True,  True,  True,  True,  True])"
            ]
          },
          "execution_count": 64,
          "metadata": {},
          "output_type": "execute_result"
        }
      ],
      "source": [
        "yy==y_valid"
      ]
    },
    {
      "cell_type": "code",
      "execution_count": 53,
      "metadata": {},
      "outputs": [
        {
          "data": {
            "text/plain": [
              "array([[0.99869424, 0.00130581]], dtype=float32)"
            ]
          },
          "execution_count": 53,
          "metadata": {},
          "output_type": "execute_result"
        }
      ],
      "source": [
        "clas=1\n",
        "idx = y_train==0\n",
        "xx=X_train[idx]\n",
        "with tf.device('/cpu:0'):\n",
        "    out_=model.predict(xx[10][np.newaxis,...])\n",
        "out_"
      ]
    },
    {
      "cell_type": "code",
      "execution_count": 25,
      "metadata": {},
      "outputs": [
        {
          "data": {
            "text/plain": [
              "[[...], [...], [...], [...], [...], [...], [...], [...], [...]]"
            ]
          },
          "execution_count": 25,
          "metadata": {},
          "output_type": "execute_result"
        }
      ],
      "source": [
        "relM_,tmpr_ = Attention_maps(rel_model_name,layer_name,model,\n",
        "                                            X_train,y_train,function_combination=np.prod,\n",
        "                                            norm_c=False,norm_max_min=False,\n",
        "                                            plot_int=False,transpose=False)\n",
        "        new_model = tf.keras.Model(inputs=model.input,outputs=model.get_layer('output').output)"
      ]
    },
    {
      "cell_type": "code",
      "execution_count": 23,
      "metadata": {},
      "outputs": [
        {
          "data": {
            "text/plain": [
              "(1, 2, 72, 22, 448)"
            ]
          },
          "execution_count": 23,
          "metadata": {},
          "output_type": "execute_result"
        }
      ],
      "source": [
        "relM_.shape"
      ]
    },
    {
      "cell_type": "code",
      "execution_count": 12,
      "metadata": {},
      "outputs": [
        {
          "data": {
            "text/plain": [
              "(1, 4, 22, 576)"
            ]
          },
          "execution_count": 12,
          "metadata": {},
          "output_type": "execute_result"
        }
      ],
      "source": [
        "tmpr_.shape"
      ]
    },
    {
      "cell_type": "code",
      "execution_count": 13,
      "metadata": {},
      "outputs": [],
      "source": [
        "indx_ord = np.argsort(y_train)\n",
        "relM_ravel = relM_.reshape([1,288,22,576]).squeeze()\n",
        "X_train_ord=X_train[indx_ord].squeeze()"
      ]
    },
    {
      "cell_type": "code",
      "execution_count": 14,
      "metadata": {},
      "outputs": [
        {
          "data": {
            "text/plain": [
              "((288, 22, 576), (288, 22, 576))"
            ]
          },
          "execution_count": 14,
          "metadata": {},
          "output_type": "execute_result"
        }
      ],
      "source": [
        "relM_ravel.shape,X_train_ord.shape"
      ]
    },
    {
      "cell_type": "code",
      "execution_count": 15,
      "metadata": {},
      "outputs": [],
      "source": [
        "new_map = relM_ravel*X_train_ord"
      ]
    },
    {
      "cell_type": "code",
      "execution_count": 17,
      "metadata": {},
      "outputs": [
        {
          "data": {
            "text/plain": [
              "(288, 22, 576)"
            ]
          },
          "execution_count": 17,
          "metadata": {},
          "output_type": "execute_result"
        }
      ],
      "source": [
        "new_map.shape"
      ]
    },
    {
      "cell_type": "code",
      "execution_count": 24,
      "metadata": {},
      "outputs": [
        {
          "data": {
            "text/plain": [
              "<matplotlib.colorbar.Colorbar at 0x7fa3cf3e86d0>"
            ]
          },
          "execution_count": 24,
          "metadata": {},
          "output_type": "execute_result"
        },
        {
          "data": {
            "image/png": "[encoded data removed]",
            "text/plain": [
              "<Figure size 432x288 with 2 Axes>"
            ]
          },
          "metadata": {
            "needs_background": "light"
          },
          "output_type": "display_data"
        },
        {
          "data": {
            "image/png": "[encoded data removed]",
            "text/plain": [
              "<Figure size 432x288 with 2 Axes>"
            ]
          },
          "metadata": {
            "needs_background": "light"
          },
          "output_type": "display_data"
        },
        {
          "data": {
            "image/png": "[encoded data removed]",
            "text/plain": [
              "<Figure size 432x288 with 2 Axes>"
            ]
          },
          "metadata": {
            "needs_background": "light"
          },
          "output_type": "display_data"
        }
      ],
      "source": [
        "import matplotlib.pyplot as plt\n",
        "tr=0\n",
        "plt.figure()\n",
        "plt.imshow(new_map[tr,:,:],aspect='auto')\n",
        "plt.colorbar()\n",
        "plt.figure()\n",
        "plt.imshow(X_train_ord[tr,:,:],aspect='auto')\n",
        "plt.colorbar()\n",
        "plt.figure()\n",
        "plt.imshow(relM_ravel[tr,:,:],aspect='auto')\n",
        "plt.colorbar()"
      ]
    },
    {
      "cell_type": "code",
      "execution_count": 26,
      "metadata": {},
      "outputs": [],
      "source": [
        "out_1=new_model.predict(X_train_ord[...,np.newaxis])\n",
        "out_2=new_model.predict(new_map[...,np.newaxis])"
      ]
    },
    {
      "cell_type": "code",
      "execution_count": 44,
      "metadata": {},
      "outputs": [
        {
          "data": {
            "text/plain": [
              "(array([ 3.7348657, -1.6506932, -1.5351267, -1.674215 ], dtype=float32),\n",
              " array([ -5.4884124,  22.801523 ,  23.269934 , -47.28788  ], dtype=float32))"
            ]
          },
          "execution_count": 44,
          "metadata": {},
          "output_type": "execute_result"
        }
      ],
      "source": [
        "out_1[0],out_2[0]"
      ]
    },
    {
      "cell_type": "code",
      "execution_count": 43,
      "metadata": {},
      "outputs": [
        {
          "data": {
            "text/plain": [
              "<StemContainer object of 3 artists>"
            ]
          },
          "execution_count": 43,
          "metadata": {},
          "output_type": "execute_result"
        },
        {
          "data": {
            "image/png": "[encoded data removed]",
            "text/plain": [
              "<Figure size 432x288 with 1 Axes>"
            ]
          },
          "metadata": {
            "needs_background": "light"
          },
          "output_type": "display_data"
        }
      ],
      "source": [
        "plt.stem(out_1[:72,0],linefmt='r')\n",
        "plt.stem(out_2[:72,0])"
      ]
    },
    {
      "cell_type": "code",
      "execution_count": 84,
      "metadata": {},
      "outputs": [
        {
          "name": "stdout",
          "output_type": "stream",
          "text": [
            "para sujeto 1 resulttados result_tmpr (array([-1,  1]), array([72, 72]))\n",
            "para sujeto 1 resulttados result_relM (array([-1,  1]), array([72, 72]))\n",
            "para sujeto 2 resulttados result_tmpr (array([-1,  1]), array([72, 72]))\n",
            "para sujeto 2 resulttados result_relM (array([-1,  0,  1]), array([72,  2, 70]))\n",
            "para sujeto 3 resulttados result_tmpr (array([-1,  1]), array([72, 72]))\n",
            "para sujeto 3 resulttados result_relM (array([-1,  1]), array([72, 72]))\n",
            "para sujeto 4 resulttados result_tmpr (array([-1,  1]), array([72, 72]))\n",
            "para sujeto 4 resulttados result_relM (array([-1,  1]), array([72, 72]))\n",
            "para sujeto 5 resulttados result_tmpr (array([-1,  0,  1]), array([62, 40, 42]))\n",
            "para sujeto 5 resulttados result_relM (array([-1,  0,  1]), array([55, 30, 59]))\n",
            "para sujeto 6 resulttados result_tmpr (array([-1,  0,  1]), array([72,  1, 71]))\n",
            "para sujeto 6 resulttados result_relM (array([-1,  1]), array([72, 72]))\n",
            "para sujeto 7 resulttados result_tmpr (array([-1,  1]), array([72, 72]))\n",
            "para sujeto 7 resulttados result_relM (array([-1,  1]), array([72, 72]))\n",
            "para sujeto 8 resulttados result_tmpr (array([-1,  0,  1]), array([ 11, 119,  14]))\n",
            "para sujeto 8 resulttados result_relM (array([-1,  0,  1]), array([67,  8, 69]))\n",
            "para sujeto 9 resulttados result_tmpr (array([-1,  1]), array([72, 72]))\n",
            "para sujeto 9 resulttados result_relM (array([-1,  1]), array([72, 72]))\n"
          ]
        }
      ],
      "source": [
        "subjects = np.arange(1,10)\n",
        "n1 = 'result_tmpr'\n",
        "n2 ='result_relM'\n",
        "for sbj in subjects:\n",
        "    with open(f'/home/daniel/Documents/python-gcpds.EEG_Tensorflow_models/Examples/BCI2a/tmp/confidence{sbj}_cls_2.json','r') as f:\n",
        "        data=json.load(f)\n",
        "    print(f'para sujeto {sbj} resulttados {n1} {np.unique(data[n1],return_counts=True)}')\n",
        "    print(f'para sujeto {sbj} resulttados {n2} {np.unique(data[n2],return_counts=True)}')"
      ]
    },
    {
      "cell_type": "code",
      "execution_count": 45,
      "metadata": {},
      "outputs": [
        {
          "ename": "UnicodeDecodeError",
          "evalue": "'utf-8' codec can't decode byte 0x80 in position 0: invalid start byte",
          "output_type": "error",
          "traceback": [
            "\u001b[0;31m---------------------------------------------------------------------------\u001b[0m",
            "\u001b[0;31mUnicodeDecodeError\u001b[0m                        Traceback (most recent call last)",
            "\u001b[1;32m/home/daniel/Documents/python-gcpds.EEG_Tensorflow_models/Examples/BCI2a/shallowconvnet.ipynb Cell 19'\u001b[0m in \u001b[0;36m<cell line: 1>\u001b[0;34m()\u001b[0m\n\u001b[1;32m      <a href='vscode-notebook-cell:/home/daniel/Documents/python-gcpds.EEG_Tensorflow_models/Examples/BCI2a/shallowconvnet.ipynb#ch0000008?line=0'>1</a>\u001b[0m \u001b[39mwith\u001b[39;00m \u001b[39mopen\u001b[39m(\u001b[39m'\u001b[39m\u001b[39m/home/daniel/Documents/python-gcpds.EEG_Tensorflow_models/Examples/BCI2a/Results_BCI2a_schirrmeister2017_ShallowConvNet2018.p\u001b[39m\u001b[39m'\u001b[39m,\u001b[39m'\u001b[39m\u001b[39mr\u001b[39m\u001b[39m'\u001b[39m) \u001b[39mas\u001b[39;00m handle:\n\u001b[0;32m----> <a href='vscode-notebook-cell:/home/daniel/Documents/python-gcpds.EEG_Tensorflow_models/Examples/BCI2a/shallowconvnet.ipynb#ch0000008?line=1'>2</a>\u001b[0m             data\u001b[39m=\u001b[39mpickle\u001b[39m.\u001b[39;49mload(handle)\n",
            "File \u001b[0;32m~/anaconda3/envs/gcpds/lib/python3.8/codecs.py:322\u001b[0m, in \u001b[0;36mBufferedIncrementalDecoder.decode\u001b[0;34m(self, input, final)\u001b[0m\n\u001b[1;32m    <a href='file:///home/daniel/anaconda3/envs/gcpds/lib/python3.8/codecs.py?line=318'>319</a>\u001b[0m \u001b[39mdef\u001b[39;00m \u001b[39mdecode\u001b[39m(\u001b[39mself\u001b[39m, \u001b[39minput\u001b[39m, final\u001b[39m=\u001b[39m\u001b[39mFalse\u001b[39;00m):\n\u001b[1;32m    <a href='file:///home/daniel/anaconda3/envs/gcpds/lib/python3.8/codecs.py?line=319'>320</a>\u001b[0m     \u001b[39m# decode input (taking the buffer into account)\u001b[39;00m\n\u001b[1;32m    <a href='file:///home/daniel/anaconda3/envs/gcpds/lib/python3.8/codecs.py?line=320'>321</a>\u001b[0m     data \u001b[39m=\u001b[39m \u001b[39mself\u001b[39m\u001b[39m.\u001b[39mbuffer \u001b[39m+\u001b[39m \u001b[39minput\u001b[39m\n\u001b[0;32m--> <a href='file:///home/daniel/anaconda3/envs/gcpds/lib/python3.8/codecs.py?line=321'>322</a>\u001b[0m     (result, consumed) \u001b[39m=\u001b[39m \u001b[39mself\u001b[39;49m\u001b[39m.\u001b[39;49m_buffer_decode(data, \u001b[39mself\u001b[39;49m\u001b[39m.\u001b[39;49merrors, final)\n\u001b[1;32m    <a href='file:///home/daniel/anaconda3/envs/gcpds/lib/python3.8/codecs.py?line=322'>323</a>\u001b[0m     \u001b[39m# keep undecoded input until the next call\u001b[39;00m\n\u001b[1;32m    <a href='file:///home/daniel/anaconda3/envs/gcpds/lib/python3.8/codecs.py?line=323'>324</a>\u001b[0m     \u001b[39mself\u001b[39m\u001b[39m.\u001b[39mbuffer \u001b[39m=\u001b[39m data[consumed:]\n",
            "\u001b[0;31mUnicodeDecodeError\u001b[0m: 'utf-8' codec can't decode byte 0x80 in position 0: invalid start byte"
          ]
        }
      ],
      "source": [
        "with open('/home/daniel/Documents/python-gcpds.EEG_Tensorflow_models/Examples/BCI2a/Results_BCI2a_schirrmeister2017_ShallowConvNet2018.p','r') as handle:\n",
        "            data=pickle.load(handle)"
      ]
    },
    {
      "cell_type": "code",
      "execution_count": 63,
      "metadata": {},
      "outputs": [
        {
          "data": {
            "text/plain": [
              "[1,\n",
              " 1,\n",
              " 1,\n",
              " 1,\n",
              " 1,\n",
              " 1,\n",
              " 1,\n",
              " 1,\n",
              " 1,\n",
              " 1,\n",
              " 1,\n",
              " 1,\n",
              " 1,\n",
              " 1,\n",
              " 1,\n",
              " 1,\n",
              " 1,\n",
              " 1,\n",
              " 1,\n",
              " 1,\n",
              " 1,\n",
              " 1,\n",
              " 1,\n",
              " 1,\n",
              " 1,\n",
              " 1,\n",
              " 1,\n",
              " 1,\n",
              " -1,\n",
              " -1,\n",
              " -1,\n",
              " -1,\n",
              " -1,\n",
              " -1,\n",
              " -1,\n",
              " -1,\n",
              " -1,\n",
              " -1,\n",
              " -1,\n",
              " -1,\n",
              " -1,\n",
              " -1,\n",
              " -1,\n",
              " -1,\n",
              " -1,\n",
              " -1,\n",
              " -1,\n",
              " -1,\n",
              " -1,\n",
              " -1,\n",
              " -1,\n",
              " -1,\n",
              " -1,\n",
              " -1,\n",
              " -1,\n",
              " -1,\n",
              " -1,\n",
              " -1,\n",
              " -1,\n",
              " -1,\n",
              " -1,\n",
              " -1,\n",
              " -1,\n",
              " -1,\n",
              " -1,\n",
              " -1,\n",
              " -1,\n",
              " -1,\n",
              " -1,\n",
              " -1,\n",
              " -1,\n",
              " -1,\n",
              " -1,\n",
              " -1,\n",
              " -1,\n",
              " -1,\n",
              " -1,\n",
              " -1,\n",
              " -1,\n",
              " -1,\n",
              " -1,\n",
              " -1,\n",
              " -1,\n",
              " -1,\n",
              " -1,\n",
              " -1,\n",
              " -1,\n",
              " -1,\n",
              " -1,\n",
              " -1,\n",
              " -1,\n",
              " -1,\n",
              " -1,\n",
              " -1,\n",
              " -1,\n",
              " -1,\n",
              " -1,\n",
              " -1,\n",
              " -1,\n",
              " -1]"
            ]
          },
          "execution_count": 63,
          "metadata": {},
          "output_type": "execute_result"
        }
      ],
      "source": []
    },
    {
      "cell_type": "code",
      "execution_count": 44,
      "metadata": {},
      "outputs": [
        {
          "data": {
            "text/plain": [
              "(array([ 3.6580381 , -1.112581  , -3.0839155 , -0.44693738], dtype=float32),\n",
              " array([  4.5897655,   7.1232233,  19.013948 , -27.87566  ], dtype=float32))"
            ]
          },
          "execution_count": 44,
          "metadata": {},
          "output_type": "execute_result"
        }
      ],
      "source": [
        "y_all[0],y_tilde_all[0]"
      ]
    },
    {
      "cell_type": "code",
      "execution_count": 12,
      "metadata": {},
      "outputs": [
        {
          "name": "stdout",
          "output_type": "stream",
          "text": [
            "[ 4. 79. 11.  6.]\n",
            "[ 0. 88. 12.  0.]\n"
          ]
        }
      ],
      "source": [
        "with tf.device('/cpu:0'):\n",
        "    print(np.round(tf.nn.softmax([0.1,3,1,0.5])*100))\n",
        "    print(np.round(tf.nn.softmax([1.0,23,21,5])*100))"
      ]
    },
    {
      "cell_type": "code",
      "execution_count": null,
      "metadata": {},
      "outputs": [],
      "source": [
        "tf.nn.softmax([1,23,21,5])"
      ]
    },
    {
      "cell_type": "code",
      "execution_count": null,
      "metadata": {},
      "outputs": [],
      "source": []
    },
    {
      "cell_type": "code",
      "execution_count": null,
      "metadata": {},
      "outputs": [],
      "source": [
        "# get new model dropping last activation function, select input layer and output layers (\n",
        "# all models are standarized to have output -2 layer and out_activation for the last layer (the activation one)\n",
        "new_model = tf.keras.Model(inputs=model.input,outputs=model.get_layer('output').output)"
      ]
    },
    {
      "cell_type": "code",
      "execution_count": null,
      "metadata": {},
      "outputs": [],
      "source": [
        "tmpr_.shape,relM_.shape"
      ]
    },
    {
      "cell_type": "code",
      "execution_count": null,
      "metadata": {},
      "outputs": [],
      "source": [
        "cl=y_train[0]\n",
        "new_model(X_train[:1]),y_train[:1],cl"
      ]
    },
    {
      "cell_type": "code",
      "execution_count": null,
      "metadata": {},
      "outputs": [],
      "source": [
        "new_model(X_train[:1]*relM_[0,cl,0,:,:,np.newaxis])"
      ]
    },
    {
      "cell_type": "code",
      "execution_count": null,
      "metadata": {},
      "outputs": [],
      "source": [
        "new_model(X_train[:1]*tmpr_[0,cl,:,:,np.newaxis])"
      ]
    },
    {
      "cell_type": "code",
      "execution_count": null,
      "metadata": {},
      "outputs": [],
      "source": [
        "X_train.shape"
      ]
    },
    {
      "cell_type": "code",
      "execution_count": null,
      "metadata": {},
      "outputs": [],
      "source": []
    },
    {
      "cell_type": "code",
      "execution_count": null,
      "metadata": {},
      "outputs": [],
      "source": []
    },
    {
      "cell_type": "markdown",
      "metadata": {
        "id": "xkmyULdHpERD"
      },
      "source": [
        "# Exp 2: Schirmeister 2017_legal"
      ]
    },
    {
      "cell_type": "code",
      "execution_count": null,
      "metadata": {
        "execution": {
          "iopub.status.busy": "2021-09-24T03:18:13.110208Z",
          "iopub.status.idle": "2021-09-24T03:18:13.110692Z",
          "shell.execute_reply": "2021-09-24T03:18:13.11046Z",
          "shell.execute_reply.started": "2021-09-24T03:18:13.110427Z"
        },
        "id": "KxxJHDIJfjhr",
        "trusted": true
      },
      "outputs": [],
      "source": [
        "opt_args = {'lr': 0.01,'beta_1': 0.9}\n",
        "optimizer = get_optimizer('Adam',opt_args)\n",
        "\n",
        "loss = get_loss('CategoricalCrossentropy')\n",
        "\n",
        "metrics = ['accuracy']\n",
        "\n",
        "callbacks_names = {'early_stopping_train':'early_stopping','checkpoint_train':'checkpoint',\n",
        "                'Threshold_valid':'Threshold','checkpoint_valid':'checkpoint',\n",
        "                'early_stopping_valid':'early_stopping'}\n",
        "\n",
        "\n",
        "Experiment = 'schirrmeister2017_legal'\n",
        "model_name = 'ShallowConvNet'\n",
        "Version='2018'\n",
        "\n",
        "subjects = np.arange(1,10)\n",
        "Acc = []\n",
        "History = []\n",
        "Subject = []\n",
        "for sbj in subjects:\n",
        "    print('Subject: {:d} of {:d}'.format(sbj,len(subjects)))\n",
        "\n",
        "    X_train,y_train,X_valid,y_valid,fs = load_dataset(dataset_name=\"BNCI2014001\", subject_id=sbj)\n",
        "    fs_new = 128\n",
        "    X_train = resample(X_train,int((X_train.shape[-2]/fs)*fs_new),axis=-2)    \n",
        "    X_valid = resample(X_valid,int((X_valid.shape[-2]/fs)*fs_new),axis=-2)    \n",
        "    model_args = {'nb_classes':4,'Chans':X_train.shape[1],'Samples':X_train.shape[2],'dropoutRate':0.5,'version':Version}\n",
        "    model = get_model(model_name,model_args)\n",
        "\n",
        "\n",
        "    call_args = [{'monitor':'val_accuracy','patience':100,'min_delta':0.001,'mode':'max','verbose':1,'restore_best_weights':False},\n",
        "                {'filepath':'/kaggle/tmp/checkpoint_sbj_'+str(sbj),'save_format':'tf','monitor':'val_accuracy','verbose':1,'save_weights_only':True,'save_best_only':True},\n",
        "                {'threshold':None},\n",
        "                {'filepath':'/kaggle/tmp/checkpoint_2_sbj_'+str(sbj),'save_format':'tf','monitor':'val_accuracy','verbose':1,'save_weights_only':True,'save_best_only':True},\n",
        "                {'monitor':'val_accuracy','patience':None,'min_delta':0.001,'mode':'max','verbose':1,'restore_best_weights':True}]\n",
        "                \n",
        "    callbacks = get_callbacks(callbacks_names,call_args)\n",
        "\n",
        "    cv = train_model_cv(model,optimizer,loss,metrics,callbacks=callbacks)\n",
        "\n",
        "    history = cv.fit_validation(X_train,y_train,X_val=X_valid,y_val=y_valid,batch_size=64,epochs=1000,verbose=1,val_mode=Experiment)\n",
        "    acc = cv.get_accuracy()\n",
        "    print('Subject accuracy: {:f}'.format(acc))\n",
        "    Acc.append(acc)\n",
        "    History.append(History)\n",
        "    Subject.append(sbj)\n",
        "\n",
        "    results = {}\n",
        "    results['subject'] = Subject\n",
        "    results['history'] = History\n",
        "    results['accuracy'] = Acc\n",
        "\n",
        "    with open('Results_BCI2a_'+Experiment+'_'+model_name+Version+'.p','wb') as handle:\n",
        "        pickle.dump(results,handle)\n",
        "    \n",
        "    del cv,callbacks"
      ]
    },
    {
      "cell_type": "markdown",
      "metadata": {
        "id": "jc57RFoppu6I"
      },
      "source": [
        "# Exp 3: Schirmeister 2021"
      ]
    },
    {
      "cell_type": "code",
      "execution_count": null,
      "metadata": {
        "execution": {
          "iopub.status.busy": "2021-09-24T03:18:13.112271Z",
          "iopub.status.idle": "2021-09-24T03:18:13.112757Z",
          "shell.execute_reply": "2021-09-24T03:18:13.112522Z",
          "shell.execute_reply.started": "2021-09-24T03:18:13.112497Z"
        },
        "id": "e3zhvmwHpyJ2",
        "trusted": true
      },
      "outputs": [],
      "source": [
        "opt_args = {'lr': 0.01,'beta_1': 0.9}\n",
        "optimizer = get_optimizer('Adam',opt_args)\n",
        "\n",
        "loss = get_loss('CategoricalCrossentropy')\n",
        "\n",
        "metrics = ['accuracy']\n",
        "\n",
        "callbacks_names = {'checkpoint_valid':'checkpoint',\n",
        "                   'early_stopping_valid':'early_stopping'}\n",
        "\n",
        "\n",
        "Experiment = 'schirrmeister2021'\n",
        "model_name = 'ShallowConvNet'\n",
        "Version='2018'\n",
        "\n",
        "subjects = np.arange(1,10)\n",
        "Acc = []\n",
        "History = []\n",
        "Subject = []\n",
        "for sbj in subjects:\n",
        "    print('Subject: {:d} of {:d}'.format(sbj,len(subjects)))\n",
        "\n",
        "    X_train,y_train,X_valid,y_valid,fs = load_dataset(dataset_name=\"BNCI2014001\", subject_id=sbj)\n",
        "    fs_new = 128\n",
        "    X_train = resample(X_train,int((X_train.shape[-2]/fs)*fs_new),axis=-2)    \n",
        "    X_valid = resample(X_valid,int((X_valid.shape[-2]/fs)*fs_new),axis=-2)    \n",
        "    model_args = {'nb_classes':4,'Chans':X_train.shape[1],'Samples':X_train.shape[2],'dropoutRate':0.5,'version':Version}\n",
        "    model = get_model(model_name,model_args)\n",
        "    \n",
        "    \n",
        "\n",
        "    call_args = [\n",
        "            {'filepath':'/kaggle/tmp/checkpoint_'+str(sbj),\n",
        "            'save_format':'tf',\n",
        "            'monitor':'val_accuracy',\n",
        "            'verbose':1,\n",
        "            'save_weights_only':True,\n",
        "            'save_best_only':True},\n",
        "            {'monitor':'val_accuracy',\n",
        "            'patience':100,\n",
        "            'min_delta':0.001,\n",
        "            'mode':'max',\n",
        "            'verbose':1,\n",
        "            'restore_best_weights':True}]\n",
        "                \n",
        "    callbacks = get_callbacks(callbacks_names,call_args)\n",
        "\n",
        "    cv = train_model_cv(model,optimizer,loss,metrics,callbacks=callbacks)\n",
        "\n",
        "    history = cv.fit_validation(X_train,y_train,X_val=X_valid,y_val=y_valid,batch_size=64,epochs=1000,verbose=1,val_mode=Experiment)\n",
        "    acc = cv.get_accuracy()\n",
        "    print('Subject accuracy: {:f}'.format(acc))\n",
        "    Acc.append(acc)\n",
        "    History.append(History)\n",
        "    Subject.append(sbj)\n",
        "\n",
        "    results = {}\n",
        "    results['subject'] = Subject\n",
        "    results['history'] = History\n",
        "    results['accuracy'] = Acc\n",
        "\n",
        "    with open('Results_BCI2a_'+Experiment+'_'+model_name+Version+'.p','wb') as handle:\n",
        "        pickle.dump(results,handle)\n",
        "    \n",
        "    del cv,callbacks"
      ]
    },
    {
      "cell_type": "markdown",
      "metadata": {
        "id": "3AYFMYo_qWks"
      },
      "source": [
        "# Exp 4: 4-fold CV\n"
      ]
    },
    {
      "cell_type": "code",
      "execution_count": null,
      "metadata": {
        "execution": {
          "iopub.status.busy": "2021-09-24T03:18:13.114398Z",
          "iopub.status.idle": "2021-09-24T03:18:13.114881Z",
          "shell.execute_reply": "2021-09-24T03:18:13.114657Z",
          "shell.execute_reply.started": "2021-09-24T03:18:13.114632Z"
        },
        "id": "FPWVi22jqf-U",
        "trusted": true
      },
      "outputs": [],
      "source": [
        "opt_args = {'lr': 0.01,'beta_1': 0.9}\n",
        "optimizer = get_optimizer('Adam',opt_args)\n",
        "\n",
        "loss = get_loss('CategoricalCrossentropy')\n",
        "\n",
        "metrics = ['accuracy']\n",
        "\n",
        "callbacks_names = {'checkpoint_train1':'checkpoint','checkpoint_train2':'checkpoint','checkpoint_train3':'checkpoint','checkpoint_train4':'checkpoint'}\n",
        "\n",
        "\n",
        "Experiment = 'lawhern2018'\n",
        "model_name = 'ShallowConvNet'\n",
        "Version='2018'\n",
        "\n",
        "fs_new = 128\n",
        "\n",
        "\n",
        "subjects = np.arange(1,10)\n",
        "Acc = []\n",
        "History = []\n",
        "Subject = []\n",
        "for sbj in subjects:\n",
        "    print('Subject: {:d} of {:d}'.format(sbj,len(subjects)))\n",
        "\n",
        "    X_train,y_train,X_valid,y_valid,fs = load_dataset(dataset_name=\"BNCI2014001\", subject_id=sbj)\n",
        "    fs_new = 128\n",
        "    X_train = resample(X_train,int((X_train.shape[-2]/fs)*fs_new),axis=-2)    \n",
        "    X_valid = resample(X_valid,int((X_valid.shape[-2]/fs)*fs_new),axis=-2)    \n",
        "    model_args = {'nb_classes':4,'Chans':X_train.shape[1],'Samples':X_train.shape[2],'dropoutRate':0.5,'version':Version}\n",
        "    model = get_model(model_name,model_args)\n",
        "\n",
        "    call_args = [\n",
        "            \n",
        "            {'filepath':'/kaggle/tmp/checkpoint1_'+str(sbj),\n",
        "            'save_format':'tf',\n",
        "            'monitor':'val_accuracy',\n",
        "            'verbose':1,\n",
        "            'save_weights_only':True,\n",
        "            'save_best_only':True},\n",
        "             {'filepath':'/kaggle/tmp/checkpoint2_'+str(sbj),\n",
        "            'save_format':'tf',\n",
        "            'monitor':'val_accuracy',\n",
        "            'verbose':1,\n",
        "            'save_weights_only':True,\n",
        "            'save_best_only':True},\n",
        "             {'filepath':'/kaggle/tmp/checkpoint3_'+str(sbj),\n",
        "            'save_format':'tf',\n",
        "            'monitor':'val_accuracy',\n",
        "            'verbose':1,\n",
        "            'save_weights_only':True,\n",
        "            'save_best_only':True},\n",
        "             {'filepath':'/kaggle/tmp/checkpoint4_'+str(sbj),\n",
        "            'save_format':'tf',\n",
        "            'monitor':'val_accuracy',\n",
        "            'verbose':1,\n",
        "            'save_weights_only':True,\n",
        "            'save_best_only':True}]\n",
        "                \n",
        "    callbacks = get_callbacks(callbacks_names,call_args)\n",
        "\n",
        "    cv = train_model_cv(model,optimizer,loss,metrics,callbacks=callbacks)\n",
        "\n",
        "    history = cv.fit_validation(X_train,y_train,X_val=X_valid,y_val=y_valid,batch_size=64,epochs=1000,verbose=1,val_mode=Experiment)\n",
        "    acc = cv.get_accuracy()\n",
        "    print('Subject accuracy: {:f}'.format(acc))\n",
        "    Acc.append(acc)\n",
        "    History.append(History)\n",
        "    Subject.append(sbj)\n",
        "\n",
        "    results = {}\n",
        "    results['subject'] = Subject\n",
        "    results['history'] = History\n",
        "    results['accuracy'] = Acc\n",
        "\n",
        "    with open('Results_BCI2a_'+Experiment+'_'+model_name+Version+'.p','wb') as handle:\n",
        "        pickle.dump(results,handle)\n",
        "    \n",
        "    del cv,callbacks"
      ]
    }
  ],
  "metadata": {
    "colab": {
      "include_colab_link": true,
      "name": "shallowconvnet.ipynb",
      "provenance": []
    },
    "kernelspec": {
      "display_name": "Python 3",
      "language": "python",
      "name": "python3"
    },
    "language_info": {
      "codemirror_mode": {
        "name": "ipython",
        "version": 3
      },
      "file_extension": ".py",
      "mimetype": "text/x-python",
      "name": "python",
      "nbconvert_exporter": "python",
      "pygments_lexer": "ipython3",
      "version": "3.8.12"
    }
  },
  "nbformat": 4,
  "nbformat_minor": 0
}
