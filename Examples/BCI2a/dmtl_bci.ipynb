{
  "nbformat": 4,
  "nbformat_minor": 5,
  "metadata": {
    "kernelspec": {
      "display_name": "Python 3",
      "language": "python",
      "name": "python3"
    },
    "language_info": {
      "codemirror_mode": {
        "name": "ipython",
        "version": 3
      },
      "file_extension": ".py",
      "mimetype": "text/x-python",
      "name": "python",
      "nbconvert_exporter": "python",
      "pygments_lexer": "ipython3",
      "version": "3.7.10"
    },
    "papermill": {
      "default_parameters": {},
      "duration": 10545.126618,
      "end_time": "2021-09-29T07:07:02.759289",
      "environment_variables": {},
      "exception": null,
      "input_path": "__notebook__.ipynb",
      "output_path": "__notebook__.ipynb",
      "parameters": {},
      "start_time": "2021-09-29T04:11:17.632671",
      "version": "2.3.3"
    },
    "colab": {
      "name": "dmtl-bci.ipynb",
      "provenance": [],
      "include_colab_link": true
    }
  },
  "cells": [
    {
      "cell_type": "markdown",
      "metadata": {
        "id": "view-in-github",
        "colab_type": "text"
      },
      "source": [
        "<a href=\"https://colab.research.google.com/github/UN-GCPDS/python-gcpds.EEG_Tensorflow_models/blob/main/Examples/BCI2a/dmtl_bci.ipynb\" target=\"_parent\"><img src=\"https://colab.research.google.com/assets/colab-badge.svg\" alt=\"Open In Colab\"/></a>"
      ]
    },
    {
      "cell_type": "code",
      "metadata": {
        "_cell_guid": "b1076dfc-b9ad-4769-8c92-a6c4dae69d19",
        "_uuid": "8f2839f25d086af736a60e9eeb907d3b93b6e0e5",
        "execution": {
          "iopub.execute_input": "2021-09-29T04:11:23.989681Z",
          "iopub.status.busy": "2021-09-29T04:11:23.988937Z",
          "iopub.status.idle": "2021-09-29T04:11:39.514545Z",
          "shell.execute_reply": "2021-09-29T04:11:39.514952Z"
        },
        "papermill": {
          "duration": 15.613481,
          "end_time": "2021-09-29T04:11:39.515281",
          "exception": false,
          "start_time": "2021-09-29T04:11:23.901800",
          "status": "completed"
        },
        "tags": [],
        "id": "141f1b66"
      },
      "source": [
        "!pip install -U git+https://github.com/UN-GCPDS/python-gcpds.EEG_Tensorflow_models.git >/dev/null"
      ],
      "id": "141f1b66",
      "execution_count": null,
      "outputs": []
    },
    {
      "cell_type": "code",
      "metadata": {
        "execution": {
          "iopub.execute_input": "2021-09-29T04:11:39.537186Z",
          "iopub.status.busy": "2021-09-29T04:11:39.536427Z",
          "iopub.status.idle": "2021-09-29T04:11:50.088386Z",
          "shell.execute_reply": "2021-09-29T04:11:50.087876Z"
        },
        "papermill": {
          "duration": 10.562453,
          "end_time": "2021-09-29T04:11:50.088523",
          "exception": false,
          "start_time": "2021-09-29T04:11:39.526070",
          "status": "completed"
        },
        "tags": [],
        "id": "9c18d4cf"
      },
      "source": [
        "from EEG_Tensorflow_models.Utils.LoadData import load_dataset\n",
        "from EEG_Tensorflow_models.Utils.Callbacks import get_callbacks\n",
        "from EEG_Tensorflow_models.Utils.TrainingModels import get_loss,get_model,get_optimizer,train_model_cv\n",
        "from EEG_Tensorflow_models.Models import DMTL_BCI"
      ],
      "id": "9c18d4cf",
      "execution_count": null,
      "outputs": []
    },
    {
      "cell_type": "code",
      "metadata": {
        "execution": {
          "iopub.execute_input": "2021-09-29T04:11:50.109168Z",
          "iopub.status.busy": "2021-09-29T04:11:50.108589Z",
          "iopub.status.idle": "2021-09-29T04:11:50.164645Z",
          "shell.execute_reply": "2021-09-29T04:11:50.164140Z"
        },
        "papermill": {
          "duration": 0.067798,
          "end_time": "2021-09-29T04:11:50.164754",
          "exception": false,
          "start_time": "2021-09-29T04:11:50.096956",
          "status": "completed"
        },
        "tags": [],
        "id": "e58270dd"
      },
      "source": [
        "import numpy as np\n",
        "import pickle\n",
        "from scipy.signal import resample"
      ],
      "id": "e58270dd",
      "execution_count": null,
      "outputs": []
    },
    {
      "cell_type": "markdown",
      "metadata": {
        "papermill": {
          "duration": 0.008338,
          "end_time": "2021-09-29T04:11:50.181410",
          "exception": false,
          "start_time": "2021-09-29T04:11:50.173072",
          "status": "completed"
        },
        "tags": [],
        "id": "09075dbe"
      },
      "source": [
        "# Exp 1: Schirrmeister2017"
      ],
      "id": "09075dbe"
    },
    {
      "cell_type": "code",
      "metadata": {
        "execution": {
          "iopub.execute_input": "2021-09-29T04:11:50.212901Z",
          "iopub.status.busy": "2021-09-29T04:11:50.212239Z",
          "iopub.status.idle": "2021-09-29T04:43:41.856636Z",
          "shell.execute_reply": "2021-09-29T04:43:41.856209Z"
        },
        "papermill": {
          "duration": 1911.666871,
          "end_time": "2021-09-29T04:43:41.856758",
          "exception": false,
          "start_time": "2021-09-29T04:11:50.189887",
          "status": "completed"
        },
        "tags": [],
        "id": "77ff7573"
      },
      "source": [
        "opt_args = {'lr': 0.001,'beta_1': 0.9}\n",
        "optimizer = get_optimizer('Adam',opt_args)\n",
        "\n",
        "loss = get_loss(['mse','CategoricalCrossentropy'])\n",
        "\n",
        "metrics = ['accuracy']\n",
        "\n",
        "callbacks_names = {'early_stopping_train':'early_stopping','checkpoint_train':'checkpoint',\n",
        "                'Threshold_valid':'Threshold','checkpoint_valid':'checkpoint',\n",
        "                'early_stopping_valid':'early_stopping'}\n",
        "\n",
        "\n",
        "Experiment = 'schirrmeister2017'\n",
        "model_name = 'DMTL_BCI'\n",
        "\n",
        "subjects = np.arange(1,10)\n",
        "Acc = []\n",
        "History = []\n",
        "Subject = []\n",
        "\n",
        "for sbj in subjects:\n",
        "    print('Subject: {:d} of {:d}'.format(sbj,len(subjects)))\n",
        "\n",
        "    X_train,y_train,X_valid,y_valid,fs = load_dataset(dataset_name=\"BNCI2014001\", subject_id=sbj)   \n",
        "    X_train = X_train[:,:,0:-1,:]\n",
        "    X_valid = X_valid[:,:,0:-1,:]\n",
        "    \n",
        "    model_args = {'nb_classes':4,'Chans':X_train.shape[1],'Samples':X_train.shape[2],'dropoutRate':0.5}\n",
        "    model = get_model(model_name,model_args)\n",
        "    \n",
        "    call_args = [{'monitor':'val_Classif_accuracy','patience':30,'min_delta':0.001,'mode':'max','verbose':1,'restore_best_weights':False},\n",
        "                {'filepath':Experiment+'checkpoint_sbj_'+str(sbj),'save_format':'tf','monitor':'val_Classif_accuracy','verbose':1,'save_weights_only':True,'save_best_only':True},\n",
        "                {'threshold':None},\n",
        "                {'filepath':Experiment+'checkpoint_2_sbj_'+str(sbj),'save_format':'tf','monitor':'val_Classif_accuracy','verbose':1,'save_weights_only':True,'save_best_only':True},\n",
        "                {'monitor':'val_Classif_accuracy','patience':None,'min_delta':0.001,'mode':'max','verbose':1,'restore_best_weights':True}]\n",
        "                \n",
        "    callbacks = get_callbacks(callbacks_names,call_args)\n",
        "\n",
        "    cv = train_model_cv(model,optimizer,loss,metrics,callbacks=callbacks,loss_weights=[2.5,1])\n",
        "\n",
        "    history = cv.fit_validation(X_train,y = y_train,X_val=X_valid,y_val=y_valid,batch_size=30,epochs=300,verbose=1,val_mode=Experiment,autoencoder=True)\n",
        "    acc = cv.get_accuracy()\n",
        "    print('Subject accuracy: {:f}'.format(acc))\n",
        "    Acc.append(acc)\n",
        "    History.append(History)\n",
        "    Subject.append(sbj)\n",
        "\n",
        "    results = {}\n",
        "    results['subject'] = Subject\n",
        "    results['history'] = History\n",
        "    results['accuracy'] = Acc\n",
        "\n",
        "    with open('Results_BCI2a_'+Experiment+'_'+model_name+'.p','wb') as handle:\n",
        "        pickle.dump(results,handle)\n",
        "    \n",
        "    del cv,callbacks,X_train,y_train,X_valid,y_valid,fs"
      ],
      "id": "77ff7573",
      "execution_count": null,
      "outputs": []
    },
    {
      "cell_type": "markdown",
      "metadata": {
        "papermill": {
          "duration": 5.415187,
          "end_time": "2021-09-29T04:43:52.831181",
          "exception": false,
          "start_time": "2021-09-29T04:43:47.415994",
          "status": "completed"
        },
        "tags": [],
        "id": "a1a26959"
      },
      "source": [
        "# Exp 2: Shirrmeister2017 legal\n"
      ],
      "id": "a1a26959"
    },
    {
      "cell_type": "code",
      "metadata": {
        "execution": {
          "iopub.execute_input": "2021-09-29T04:44:03.960712Z",
          "iopub.status.busy": "2021-09-29T04:44:03.959918Z",
          "iopub.status.idle": "2021-09-29T04:58:07.920874Z",
          "shell.execute_reply": "2021-09-29T04:58:07.921264Z"
        },
        "papermill": {
          "duration": 849.254798,
          "end_time": "2021-09-29T04:58:07.921422",
          "exception": false,
          "start_time": "2021-09-29T04:43:58.666624",
          "status": "completed"
        },
        "tags": [],
        "id": "ce9786a1"
      },
      "source": [
        "opt_args = {'lr': 0.001,'beta_1': 0.9}\n",
        "optimizer = get_optimizer('Adam',opt_args)\n",
        "\n",
        "loss = get_loss(['mse','CategoricalCrossentropy'])\n",
        "\n",
        "metrics = ['accuracy']\n",
        "\n",
        "callbacks_names = {'early_stopping_train':'early_stopping','checkpoint_train':'checkpoint',\n",
        "                'Threshold_valid':'Threshold','checkpoint_valid':'checkpoint',\n",
        "                'early_stopping_valid':'early_stopping'}\n",
        "\n",
        "\n",
        "Experiment = 'schirrmeister2017_legal'\n",
        "model_name = 'DMTL_BCI'\n",
        "\n",
        "subjects = np.arange(1,10)\n",
        "Acc = []\n",
        "History = []\n",
        "Subject = []\n",
        "for sbj in subjects:\n",
        "    print('Subject: {:d} of {:d}'.format(sbj,len(subjects)))\n",
        "\n",
        "    X_train,y_train,X_valid,y_valid,fs = load_dataset(dataset_name=\"BNCI2014001\", subject_id=sbj)\n",
        "    X_train = X_train[:,:,0:-1,:]\n",
        "    X_valid = X_valid[:,:,0:-1,:]\n",
        "\n",
        "    model_args = {'nb_classes':4,'Chans':X_train.shape[1],'Samples':X_train.shape[2],'dropoutRate':0.5}\n",
        "    model = get_model(model_name,model_args)\n",
        "\n",
        "\n",
        "    call_args = [{'monitor':'val_Classif_accuracy','patience':30,'min_delta':0.001,'mode':'max','verbose':1,'restore_best_weights':False},\n",
        "                {'filepath':Experiment+'checkpoint_sbj_'+str(sbj),'save_format':'tf','monitor':'val_Classif_accuracy','verbose':1,'save_weights_only':True,'save_best_only':True},\n",
        "                {'threshold':None},\n",
        "                {'filepath':Experiment+'checkpoint_2_sbj_'+str(sbj),'save_format':'tf','monitor':'val_Classif_accuracy','verbose':1,'save_weights_only':True,'save_best_only':True},\n",
        "                {'monitor':'val_Classif_accuracy','patience':None,'min_delta':0.001,'mode':'max','verbose':1,'restore_best_weights':True}]\n",
        "                \n",
        "    callbacks = get_callbacks(callbacks_names,call_args)\n",
        "\n",
        "    cv = train_model_cv(model,optimizer,loss,metrics,callbacks=callbacks,loss_weights=[2.5,1])\n",
        "\n",
        "    history = cv.fit_validation(X_train,y = y_train,X_val=X_valid,y_val=y_valid,batch_size=30,epochs=300,verbose=1,val_mode=Experiment,autoencoder=True)\n",
        "    acc = cv.get_accuracy()\n",
        "    print('Subject accuracy: {:f}'.format(acc))\n",
        "    Acc.append(acc)\n",
        "    History.append(History)\n",
        "    Subject.append(sbj)\n",
        "\n",
        "    results = {}\n",
        "    results['subject'] = Subject\n",
        "    results['history'] = History\n",
        "    results['accuracy'] = Acc\n",
        "\n",
        "    with open('Results_BCI2a_'+Experiment+'_'+model_name+'.p','wb') as handle:\n",
        "        pickle.dump(results,handle)\n",
        "    \n",
        "    del cv,callbacks,X_train,y_train,X_valid,y_valid,fs"
      ],
      "id": "ce9786a1",
      "execution_count": null,
      "outputs": []
    },
    {
      "cell_type": "markdown",
      "metadata": {
        "papermill": {
          "duration": 9.406381,
          "end_time": "2021-09-29T04:58:26.185929",
          "exception": false,
          "start_time": "2021-09-29T04:58:16.779548",
          "status": "completed"
        },
        "tags": [],
        "id": "68a4ef51"
      },
      "source": [
        "# Exp 3: Shirrmeister 2021"
      ],
      "id": "68a4ef51"
    },
    {
      "cell_type": "code",
      "metadata": {
        "execution": {
          "iopub.execute_input": "2021-09-29T04:58:43.624635Z",
          "iopub.status.busy": "2021-09-29T04:58:43.623784Z",
          "iopub.status.idle": "2021-09-29T05:27:42.441520Z",
          "shell.execute_reply": "2021-09-29T05:27:42.441038Z"
        },
        "papermill": {
          "duration": 1747.656158,
          "end_time": "2021-09-29T05:27:42.441660",
          "exception": false,
          "start_time": "2021-09-29T04:58:34.785502",
          "status": "completed"
        },
        "tags": [],
        "id": "8fbdcd7a"
      },
      "source": [
        "opt_args = {'lr': 0.001,'beta_1': 0.9}\n",
        "optimizer = get_optimizer('Adam',opt_args)\n",
        "\n",
        "loss = get_loss(['mse','CategoricalCrossentropy'])\n",
        "\n",
        "metrics = ['accuracy']\n",
        "\n",
        "callbacks_names = {'checkpoint_valid':'checkpoint',\n",
        "                   'early_stopping_valid':'early_stopping'}\n",
        "\n",
        "\n",
        "Experiment = 'schirrmeister2021'\n",
        "model_name = 'DMTL_BCI'\n",
        "\n",
        "subjects = np.arange(1,10)\n",
        "Acc = []\n",
        "History = []\n",
        "Subject = []\n",
        "for sbj in subjects:\n",
        "    print('Subject: {:d} of {:d}'.format(sbj,len(subjects)))\n",
        "\n",
        "    X_train,y_train,X_valid,y_valid,fs = load_dataset(dataset_name=\"BNCI2014001\", subject_id=sbj)\n",
        "    X_train = X_train[:,:,0:-1,:]\n",
        "    X_valid = X_valid[:,:,0:-1,:]\n",
        "    \n",
        "    model_args = {'nb_classes':4,'Chans':X_train.shape[1],'Samples':X_train.shape[2],'dropoutRate':0.5}\n",
        "    model = get_model(model_name,model_args)\n",
        "    \n",
        "    call_args = [\n",
        "            {'filepath':Experiment+'checkpoint_'+str(sbj),\n",
        "            'save_format':'tf',\n",
        "            'monitor':'val_Classif_accuracy',\n",
        "            'verbose':1,\n",
        "            'save_weights_only':True,\n",
        "            'save_best_only':True},\n",
        "            {'monitor':'val_Classif_accuracy',\n",
        "            'patience':30,\n",
        "            'min_delta':0.001,\n",
        "            'mode':'max',\n",
        "            'verbose':1,\n",
        "            'restore_best_weights':True}]\n",
        "                \n",
        "    callbacks = get_callbacks(callbacks_names,call_args)\n",
        "\n",
        "    cv = train_model_cv(model,optimizer,loss,metrics,callbacks=callbacks,loss_weights=[2.5,1])\n",
        "\n",
        "    history = cv.fit_validation(X_train,y_train,X_val=X_valid,y_val=y_valid,batch_size=30,epochs=300,verbose=1,val_mode=Experiment,autoencoder=True)\n",
        "    acc = cv.get_accuracy()\n",
        "    print('Subject accuracy: {:f}'.format(acc))\n",
        "    Acc.append(acc)\n",
        "    History.append(History)\n",
        "    Subject.append(sbj)\n",
        "\n",
        "    results = {}\n",
        "    results['subject'] = Subject\n",
        "    results['history'] = History\n",
        "    results['accuracy'] = Acc\n",
        "\n",
        "    with open('Results_BCI2a_'+Experiment+'_'+model_name+'.p','wb') as handle:\n",
        "        pickle.dump(results,handle)\n",
        "    \n",
        "    del cv,callbacks,X_train,y_train,X_valid,y_valid,fs"
      ],
      "id": "8fbdcd7a",
      "execution_count": null,
      "outputs": []
    },
    {
      "cell_type": "markdown",
      "metadata": {
        "papermill": {
          "duration": 13.579157,
          "end_time": "2021-09-29T05:28:09.708474",
          "exception": false,
          "start_time": "2021-09-29T05:27:56.129317",
          "status": "completed"
        },
        "tags": [],
        "id": "58fd6624"
      },
      "source": [
        "# Exp 4: 4-fold CV"
      ],
      "id": "58fd6624"
    },
    {
      "cell_type": "code",
      "metadata": {
        "execution": {
          "iopub.execute_input": "2021-09-29T05:28:37.266914Z",
          "iopub.status.busy": "2021-09-29T05:28:37.266101Z",
          "iopub.status.idle": "2021-09-29T07:06:24.986079Z",
          "shell.execute_reply": "2021-09-29T07:06:24.986760Z"
        },
        "papermill": {
          "duration": 5881.139595,
          "end_time": "2021-09-29T07:06:24.986926",
          "exception": false,
          "start_time": "2021-09-29T05:28:23.847331",
          "status": "completed"
        },
        "tags": [],
        "id": "7d854f76"
      },
      "source": [
        "opt_args = {'lr': 0.001,'beta_1': 0.9}\n",
        "optimizer = get_optimizer('Adam',opt_args)\n",
        "\n",
        "loss = get_loss(['mse','CategoricalCrossentropy'])\n",
        "\n",
        "metrics = ['accuracy']\n",
        "\n",
        "callbacks_names = {'checkpoint_train1':'checkpoint','checkpoint_train2':'checkpoint','checkpoint_train3':'checkpoint','checkpoint_train4':'checkpoint'}\n",
        "\n",
        "\n",
        "Experiment = 'lawhern2018'\n",
        "model_name = 'DMTL_BCI'\n",
        "\n",
        "\n",
        "subjects = np.arange(1,10)\n",
        "Acc = []\n",
        "History = []\n",
        "Subject = []\n",
        "for sbj in subjects:\n",
        "    print('Subject: {:d} of {:d}'.format(sbj,len(subjects)))\n",
        "\n",
        "    X_train,y_train,X_valid,y_valid,fs = load_dataset(dataset_name=\"BNCI2014001\", subject_id=sbj)\n",
        "    X_train = X_train[:,:,0:-1,:]\n",
        "    X_valid = X_valid[:,:,0:-1,:]\n",
        "   \n",
        "    model_args = {'nb_classes':4,'Chans':X_train.shape[1],'Samples':X_train.shape[2],'dropoutRate':0.5}\n",
        "    model = get_model(model_name,model_args)\n",
        "\n",
        "    call_args = [\n",
        "            \n",
        "            {'filepath':Experiment+'checkpoint1_'+str(sbj),\n",
        "            'save_format':'tf',\n",
        "            'monitor':'val_Classif_accuracy',\n",
        "            'verbose':1,\n",
        "            'save_weights_only':True,\n",
        "            'save_best_only':True},\n",
        "             {'filepath':Experiment+'checkpoint2_'+str(sbj),\n",
        "            'save_format':'tf',\n",
        "            'monitor':'val_Classif_accuracy',\n",
        "            'verbose':1,\n",
        "            'save_weights_only':True,\n",
        "            'save_best_only':True},\n",
        "             {'filepath':Experiment+'checkpoint3_'+str(sbj),\n",
        "            'save_format':'tf',\n",
        "            'monitor':'val_Classif_accuracy',\n",
        "            'verbose':1,\n",
        "            'save_weights_only':True,\n",
        "            'save_best_only':True},\n",
        "             {'filepath':Experiment+'checkpoint4_'+str(sbj),\n",
        "            'save_format':'tf',\n",
        "            'monitor':'val_Classif_accuracy',\n",
        "            'verbose':1,\n",
        "            'save_weights_only':True,\n",
        "            'save_best_only':True}]\n",
        "                \n",
        "    callbacks = get_callbacks(callbacks_names,call_args)\n",
        "\n",
        "    cv = train_model_cv(model,optimizer,loss,metrics,callbacks=callbacks,loss_weights=[2.5,1])\n",
        "\n",
        "    history = cv.fit_validation(X_train,y_train,X_val=X_valid,y_val=y_valid,batch_size=30,epochs=300,verbose=1,val_mode=Experiment,autoencoder=True)\n",
        "    acc = cv.get_accuracy()\n",
        "    print('Subject accuracy: {:f}'.format(acc))\n",
        "    Acc.append(acc)\n",
        "    History.append(History)\n",
        "    Subject.append(sbj)\n",
        "\n",
        "    results = {}\n",
        "    results['subject'] = Subject\n",
        "    results['history'] = History\n",
        "    results['accuracy'] = Acc\n",
        "\n",
        "    with open('Results_BCI2a_'+Experiment+'_'+model_name+'.p','wb') as handle:\n",
        "        pickle.dump(results,handle)\n",
        "    \n",
        "    del cv,callbacks,X_train,y_train,X_valid,y_valid,fs"
      ],
      "id": "7d854f76",
      "execution_count": null,
      "outputs": []
    }
  ]
}