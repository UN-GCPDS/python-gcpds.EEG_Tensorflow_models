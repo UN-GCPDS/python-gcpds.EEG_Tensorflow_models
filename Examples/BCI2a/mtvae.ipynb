{
  "nbformat": 4,
  "nbformat_minor": 5,
  "metadata": {
    "kernelspec": {
      "display_name": "Python 3",
      "language": "python",
      "name": "python3"
    },
    "language_info": {
      "codemirror_mode": {
        "name": "ipython",
        "version": 3
      },
      "file_extension": ".py",
      "mimetype": "text/x-python",
      "name": "python",
      "nbconvert_exporter": "python",
      "pygments_lexer": "ipython3",
      "version": "3.7.10"
    },
    "papermill": {
      "default_parameters": {},
      "duration": 8759.337862,
      "end_time": "2021-10-13T06:11:08.276200",
      "environment_variables": {},
      "exception": null,
      "input_path": "__notebook__.ipynb",
      "output_path": "__notebook__.ipynb",
      "parameters": {},
      "start_time": "2021-10-13T03:45:08.938338",
      "version": "2.3.3"
    },
    "colab": {
      "name": "mtvae.ipynb",
      "provenance": [],
      "include_colab_link": true
    }
  },
  "cells": [
    {
      "cell_type": "markdown",
      "metadata": {
        "id": "view-in-github",
        "colab_type": "text"
      },
      "source": [
        "<a href=\"https://colab.research.google.com/github/UN-GCPDS/python-gcpds.EEG_Tensorflow_models/blob/main/Examples/BCI2a/mtvae.ipynb\" target=\"_parent\"><img src=\"https://colab.research.google.com/assets/colab-badge.svg\" alt=\"Open In Colab\"/></a>"
      ]
    },
    {
      "cell_type": "code",
      "metadata": {
        "_cell_guid": "b1076dfc-b9ad-4769-8c92-a6c4dae69d19",
        "_uuid": "8f2839f25d086af736a60e9eeb907d3b93b6e0e5",
        "execution": {
          "iopub.execute_input": "2021-10-13T03:45:15.350906Z",
          "iopub.status.busy": "2021-10-13T03:45:15.349408Z",
          "iopub.status.idle": "2021-10-13T03:45:34.151999Z",
          "shell.execute_reply": "2021-10-13T03:45:34.151415Z"
        },
        "papermill": {
          "duration": 18.814427,
          "end_time": "2021-10-13T03:45:34.152154",
          "exception": false,
          "start_time": "2021-10-13T03:45:15.337727",
          "status": "completed"
        },
        "tags": [],
        "id": "ba4a9fe2"
      },
      "source": [
        "!pip install -U git+https://github.com/UN-GCPDS/python-gcpds.EEG_Tensorflow_models.git >/dev/null"
      ],
      "id": "ba4a9fe2",
      "execution_count": null,
      "outputs": []
    },
    {
      "cell_type": "code",
      "metadata": {
        "execution": {
          "iopub.execute_input": "2021-10-13T03:45:34.173915Z",
          "iopub.status.busy": "2021-10-13T03:45:34.173165Z",
          "iopub.status.idle": "2021-10-13T03:45:44.872739Z",
          "shell.execute_reply": "2021-10-13T03:45:44.872234Z"
        },
        "papermill": {
          "duration": 10.711915,
          "end_time": "2021-10-13T03:45:44.872909",
          "exception": false,
          "start_time": "2021-10-13T03:45:34.160994",
          "status": "completed"
        },
        "tags": [],
        "id": "0b8b3695"
      },
      "source": [
        "from EEG_Tensorflow_models.Utils.LoadData import load_dataset\n",
        "from EEG_Tensorflow_models.Utils.Callbacks import get_callbacks\n",
        "from EEG_Tensorflow_models.Utils.TrainingModels import get_loss,get_model,get_optimizer,train_model_cv\n",
        "from EEG_Tensorflow_models.Models import MTVAE"
      ],
      "id": "0b8b3695",
      "execution_count": null,
      "outputs": []
    },
    {
      "cell_type": "code",
      "metadata": {
        "execution": {
          "iopub.execute_input": "2021-10-13T03:45:44.894821Z",
          "iopub.status.busy": "2021-10-13T03:45:44.893110Z",
          "iopub.status.idle": "2021-10-13T03:45:44.896694Z",
          "shell.execute_reply": "2021-10-13T03:45:44.897120Z"
        },
        "papermill": {
          "duration": 0.015002,
          "end_time": "2021-10-13T03:45:44.897247",
          "exception": false,
          "start_time": "2021-10-13T03:45:44.882245",
          "status": "completed"
        },
        "tags": [],
        "id": "08217d0a"
      },
      "source": [
        "import numpy as np\n",
        "import pickle"
      ],
      "id": "08217d0a",
      "execution_count": null,
      "outputs": []
    },
    {
      "cell_type": "markdown",
      "metadata": {
        "papermill": {
          "duration": 0.008066,
          "end_time": "2021-10-13T03:45:44.913530",
          "exception": false,
          "start_time": "2021-10-13T03:45:44.905464",
          "status": "completed"
        },
        "tags": [],
        "id": "992aca74"
      },
      "source": [
        "# Exp 1: Schirrmeister2017"
      ],
      "id": "992aca74"
    },
    {
      "cell_type": "code",
      "metadata": {
        "execution": {
          "iopub.execute_input": "2021-10-13T03:45:44.943802Z",
          "iopub.status.busy": "2021-10-13T03:45:44.943299Z",
          "iopub.status.idle": "2021-10-13T04:12:11.663121Z",
          "shell.execute_reply": "2021-10-13T04:12:11.662650Z"
        },
        "papermill": {
          "duration": 1586.741567,
          "end_time": "2021-10-13T04:12:11.663262",
          "exception": false,
          "start_time": "2021-10-13T03:45:44.921695",
          "status": "completed"
        },
        "tags": [],
        "id": "71712402"
      },
      "source": [
        "opt_args = {'lr': 0.001,'beta_1': 0.9}\n",
        "optimizer = get_optimizer('Adam',opt_args)\n",
        "\n",
        "loss = get_loss(['mse','CategoricalCrossentropy'])\n",
        "\n",
        "metrics = ['accuracy']\n",
        "\n",
        "callbacks_names = {'early_stopping_train':'early_stopping','checkpoint_train':'checkpoint',\n",
        "                'Threshold_valid':'Threshold','checkpoint_valid':'checkpoint',\n",
        "                'early_stopping_valid':'early_stopping'}\n",
        "\n",
        "\n",
        "Experiment = 'schirrmeister2017'\n",
        "model_name = 'MTVAE'\n",
        "\n",
        "subjects = np.arange(1,10)\n",
        "Acc = []\n",
        "History = []\n",
        "Subject = []\n",
        "\n",
        "for sbj in subjects:\n",
        "    print('Subject: {:d} of {:d}'.format(sbj,len(subjects)))\n",
        "\n",
        "    X_train,y_train,X_valid,y_valid,fs = load_dataset(dataset_name=\"BNCI2014001\", subject_id=sbj)   \n",
        "    X_train = X_train[:,:,0:-1,:]\n",
        "    X_valid = X_valid[:,:,0:-1,:]\n",
        "    \n",
        "    model_args = {'nb_classes':4,'Chans':X_train.shape[1],'Samples':X_train.shape[2],'dropoutRate':0.5}\n",
        "    model = get_model(model_name,model_args)\n",
        "    \n",
        "    call_args = [{'monitor':'val_Classif_accuracy','patience':100,'min_delta':0.001,'mode':'max','verbose':1,'restore_best_weights':False},\n",
        "                {'filepath':Experiment+'checkpoint_sbj_'+str(sbj),'save_format':'tf','monitor':'val_Classif_accuracy','verbose':1,'save_weights_only':True,'save_best_only':True},\n",
        "                {'threshold':None},\n",
        "                {'filepath':Experiment+'checkpoint_2_sbj_'+str(sbj),'save_format':'tf','monitor':'val_Classif_accuracy','verbose':1,'save_weights_only':True,'save_best_only':True},\n",
        "                {'monitor':'val_Classif_accuracy','patience':None,'min_delta':0.001,'mode':'max','verbose':1,'restore_best_weights':True}]\n",
        "                \n",
        "    callbacks = get_callbacks(callbacks_names,call_args)\n",
        "\n",
        "    cv = train_model_cv(model,optimizer,loss,metrics,callbacks=callbacks,loss_weights=[2.5,1])\n",
        "\n",
        "    history = cv.fit_validation(X_train,y = y_train,X_val=X_valid,y_val=y_valid,batch_size=30,epochs=1000,verbose=1,val_mode=Experiment,autoencoder=True)\n",
        "    acc = cv.get_accuracy()\n",
        "    print('Subject accuracy: {:f}'.format(acc))\n",
        "    Acc.append(acc)\n",
        "    History.append(History)\n",
        "    Subject.append(sbj)\n",
        "\n",
        "    results = {}\n",
        "    results['subject'] = Subject\n",
        "    results['history'] = History\n",
        "    results['accuracy'] = Acc\n",
        "\n",
        "    with open('Results_BCI2a_'+Experiment+'_'+model_name+'.p','wb') as handle:\n",
        "        pickle.dump(results,handle)\n",
        "    \n",
        "    del cv,X_train,y_train,X_valid,y_valid,fs"
      ],
      "id": "71712402",
      "execution_count": null,
      "outputs": []
    },
    {
      "cell_type": "markdown",
      "metadata": {
        "papermill": {
          "duration": 6.817091,
          "end_time": "2021-10-13T04:12:25.602700",
          "exception": false,
          "start_time": "2021-10-13T04:12:18.785609",
          "status": "completed"
        },
        "tags": [],
        "id": "b16d6a8e"
      },
      "source": [
        "# Exp 2: Shirrmeister2017 legal\n"
      ],
      "id": "b16d6a8e"
    },
    {
      "cell_type": "code",
      "metadata": {
        "execution": {
          "iopub.execute_input": "2021-10-13T04:12:40.264999Z",
          "iopub.status.busy": "2021-10-13T04:12:40.264322Z",
          "iopub.status.idle": "2021-10-13T04:23:34.495702Z",
          "shell.execute_reply": "2021-10-13T04:23:34.495261Z"
        },
        "papermill": {
          "duration": 661.411436,
          "end_time": "2021-10-13T04:23:34.495854",
          "exception": false,
          "start_time": "2021-10-13T04:12:33.084418",
          "status": "completed"
        },
        "tags": [],
        "id": "9e288b5d"
      },
      "source": [
        "opt_args = {'lr': 0.001,'beta_1': 0.9}\n",
        "optimizer = get_optimizer('Adam',opt_args)\n",
        "\n",
        "loss = get_loss(['mse','CategoricalCrossentropy'])\n",
        "\n",
        "metrics = ['accuracy']\n",
        "\n",
        "callbacks_names = {'early_stopping_train':'early_stopping','checkpoint_train':'checkpoint',\n",
        "                'Threshold_valid':'Threshold','checkpoint_valid':'checkpoint',\n",
        "                'early_stopping_valid':'early_stopping'}\n",
        "\n",
        "\n",
        "Experiment = 'schirrmeister2017_legal'\n",
        "model_name = 'MTVAE'\n",
        "\n",
        "subjects = np.arange(1,10)\n",
        "Acc = []\n",
        "History = []\n",
        "Subject = []\n",
        "for sbj in subjects:\n",
        "    print('Subject: {:d} of {:d}'.format(sbj,len(subjects)))\n",
        "\n",
        "    X_train,y_train,X_valid,y_valid,fs = load_dataset(dataset_name=\"BNCI2014001\", subject_id=sbj)\n",
        "    X_train = X_train[:,:,0:-1,:]\n",
        "    X_valid = X_valid[:,:,0:-1,:]\n",
        "\n",
        "    model_args = {'nb_classes':4,'Chans':X_train.shape[1],'Samples':X_train.shape[2],'dropoutRate':0.5}\n",
        "    model = get_model(model_name,model_args)\n",
        "\n",
        "\n",
        "    call_args = [{'monitor':'val_Classif_accuracy','patience':100,'min_delta':0.001,'mode':'max','verbose':1,'restore_best_weights':False},\n",
        "                {'filepath':Experiment+'checkpoint_sbj_'+str(sbj),'save_format':'tf','monitor':'val_Classif_accuracy','verbose':1,'save_weights_only':True,'save_best_only':True},\n",
        "                {'threshold':None},\n",
        "                {'filepath':Experiment+'checkpoint_2_sbj_'+str(sbj),'save_format':'tf','monitor':'val_Classif_accuracy','verbose':1,'save_weights_only':True,'save_best_only':True},\n",
        "                {'monitor':'val_Classif_accuracy','patience':None,'min_delta':0.001,'mode':'max','verbose':1,'restore_best_weights':True}]\n",
        "                \n",
        "    callbacks = get_callbacks(callbacks_names,call_args)\n",
        "\n",
        "    cv = train_model_cv(model,optimizer,loss,metrics,callbacks=callbacks,loss_weights=[2.5,1])\n",
        "\n",
        "    history = cv.fit_validation(X_train,y = y_train,X_val=X_valid,y_val=y_valid,batch_size=30,epochs=1000,verbose=1,val_mode=Experiment,autoencoder=True)\n",
        "    acc = cv.get_accuracy()\n",
        "    print('Subject accuracy: {:f}'.format(acc))\n",
        "    Acc.append(acc)\n",
        "    History.append(History)\n",
        "    Subject.append(sbj)\n",
        "\n",
        "    results = {}\n",
        "    results['subject'] = Subject\n",
        "    results['history'] = History\n",
        "    results['accuracy'] = Acc\n",
        "\n",
        "    with open('Results_BCI2a_'+Experiment+'_'+model_name+'.p','wb') as handle:\n",
        "        pickle.dump(results,handle)\n",
        "    \n",
        "    del cv,X_train,y_train,X_valid,y_valid,fs"
      ],
      "id": "9e288b5d",
      "execution_count": null,
      "outputs": []
    },
    {
      "cell_type": "markdown",
      "metadata": {
        "papermill": {
          "duration": 11.288423,
          "end_time": "2021-10-13T04:23:56.884112",
          "exception": false,
          "start_time": "2021-10-13T04:23:45.595689",
          "status": "completed"
        },
        "tags": [],
        "id": "e76dda5e"
      },
      "source": [
        "# Exp 3: Shirrmeister 2021"
      ],
      "id": "e76dda5e"
    },
    {
      "cell_type": "code",
      "metadata": {
        "execution": {
          "iopub.execute_input": "2021-10-13T04:24:19.235211Z",
          "iopub.status.busy": "2021-10-13T04:24:19.228793Z",
          "iopub.status.idle": "2021-10-13T04:41:53.068039Z",
          "shell.execute_reply": "2021-10-13T04:41:53.068425Z"
        },
        "papermill": {
          "duration": 1064.947059,
          "end_time": "2021-10-13T04:41:53.068586",
          "exception": false,
          "start_time": "2021-10-13T04:24:08.121527",
          "status": "completed"
        },
        "tags": [],
        "id": "f6db6f00"
      },
      "source": [
        "opt_args = {'lr': 0.001,'beta_1': 0.9}\n",
        "optimizer = get_optimizer('Adam',opt_args)\n",
        "\n",
        "loss = get_loss(['mse','CategoricalCrossentropy'])\n",
        "\n",
        "metrics = ['accuracy']\n",
        "\n",
        "callbacks_names = {'checkpoint_valid':'checkpoint',\n",
        "                   'early_stopping_valid':'early_stopping'}\n",
        "\n",
        "\n",
        "Experiment = 'schirrmeister2021'\n",
        "model_name = 'MTVAE'\n",
        "\n",
        "subjects = np.arange(1,10)\n",
        "Acc = []\n",
        "History = []\n",
        "Subject = []\n",
        "for sbj in subjects:\n",
        "    print('Subject: {:d} of {:d}'.format(sbj,len(subjects)))\n",
        "\n",
        "    X_train,y_train,X_valid,y_valid,fs = load_dataset(dataset_name=\"BNCI2014001\", subject_id=sbj)\n",
        "    X_train = X_train[:,:,0:-1,:]\n",
        "    X_valid = X_valid[:,:,0:-1,:]\n",
        "    \n",
        "    model_args = {'nb_classes':4,'Chans':X_train.shape[1],'Samples':X_train.shape[2],'dropoutRate':0.5}\n",
        "    model = get_model(model_name,model_args)\n",
        "    \n",
        "    call_args = [\n",
        "            {'filepath':Experiment+'checkpoint_'+str(sbj),\n",
        "            'save_format':'tf',\n",
        "            'monitor':'val_Classif_accuracy',\n",
        "            'verbose':1,\n",
        "            'save_weights_only':True,\n",
        "            'save_best_only':True},\n",
        "            {'monitor':'val_Classif_accuracy',\n",
        "            'patience':100,\n",
        "            'min_delta':0.001,\n",
        "            'mode':'max',\n",
        "            'verbose':1,\n",
        "            'restore_best_weights':True}]\n",
        "                \n",
        "    callbacks = get_callbacks(callbacks_names,call_args)\n",
        "\n",
        "    cv = train_model_cv(model,optimizer,loss,metrics,callbacks=callbacks,loss_weights=[2.5,1])\n",
        "\n",
        "    history = cv.fit_validation(X_train,y_train,X_val=X_valid,y_val=y_valid,batch_size=30,epochs=1000,verbose=1,val_mode=Experiment,autoencoder=True)\n",
        "    acc = cv.get_accuracy()\n",
        "    print('Subject accuracy: {:f}'.format(acc))\n",
        "    Acc.append(acc)\n",
        "    History.append(History)\n",
        "    Subject.append(sbj)\n",
        "\n",
        "    results = {}\n",
        "    results['subject'] = Subject\n",
        "    results['history'] = History\n",
        "    results['accuracy'] = Acc\n",
        "\n",
        "    with open('Results_BCI2a_'+Experiment+'_'+model_name+'.p','wb') as handle:\n",
        "        pickle.dump(results,handle)\n",
        "    \n",
        "    del cv,X_train,y_train,X_valid,y_valid,fs"
      ],
      "id": "f6db6f00",
      "execution_count": null,
      "outputs": []
    },
    {
      "cell_type": "markdown",
      "metadata": {
        "papermill": {
          "duration": 16.094817,
          "end_time": "2021-10-13T04:42:24.382571",
          "exception": false,
          "start_time": "2021-10-13T04:42:08.287754",
          "status": "completed"
        },
        "tags": [],
        "id": "7122f50d"
      },
      "source": [
        "# Exp 4: 4-fold CV"
      ],
      "id": "7122f50d"
    },
    {
      "cell_type": "code",
      "metadata": {
        "execution": {
          "iopub.execute_input": "2021-10-13T04:42:55.688722Z",
          "iopub.status.busy": "2021-10-13T04:42:55.687854Z",
          "iopub.status.idle": "2021-10-13T06:10:27.202432Z",
          "shell.execute_reply": "2021-10-13T06:10:27.202814Z"
        },
        "papermill": {
          "duration": 5267.455612,
          "end_time": "2021-10-13T06:10:27.203010",
          "exception": false,
          "start_time": "2021-10-13T04:42:39.747398",
          "status": "completed"
        },
        "tags": [],
        "id": "00158dc6"
      },
      "source": [
        "opt_args = {'lr': 0.001,'beta_1': 0.9}\n",
        "optimizer = get_optimizer('Adam',opt_args)\n",
        "\n",
        "loss = get_loss(['mse','CategoricalCrossentropy'])\n",
        "\n",
        "metrics = ['accuracy']\n",
        "\n",
        "callbacks_names = {'checkpoint_train1':'checkpoint','checkpoint_train2':'checkpoint','checkpoint_train3':'checkpoint','checkpoint_train4':'checkpoint'}\n",
        "\n",
        "\n",
        "Experiment = 'lawhern2018'\n",
        "model_name = 'MTVAE'\n",
        "\n",
        "\n",
        "subjects = np.arange(1,10)\n",
        "Acc = []\n",
        "History = []\n",
        "Subject = []\n",
        "for sbj in subjects:\n",
        "    print('Subject: {:d} of {:d}'.format(sbj,len(subjects)))\n",
        "\n",
        "    X_train,y_train,X_valid,y_valid,fs = load_dataset(dataset_name=\"BNCI2014001\", subject_id=sbj)\n",
        "    X_train = X_train[:,:,0:-1,:]\n",
        "    X_valid = X_valid[:,:,0:-1,:]\n",
        "   \n",
        "    model_args = {'nb_classes':4,'Chans':X_train.shape[1],'Samples':X_train.shape[2],'dropoutRate':0.5}\n",
        "    model = get_model(model_name,model_args)\n",
        "\n",
        "    call_args = [\n",
        "            \n",
        "            {'filepath':Experiment+'checkpoint1_'+str(sbj),\n",
        "            'save_format':'tf',\n",
        "            'monitor':'val_Classif_accuracy',\n",
        "            'verbose':1,\n",
        "            'save_weights_only':True,\n",
        "            'save_best_only':True},\n",
        "             {'filepath':Experiment+'checkpoint2_'+str(sbj),\n",
        "            'save_format':'tf',\n",
        "            'monitor':'val_Classif_accuracy',\n",
        "            'verbose':1,\n",
        "            'save_weights_only':True,\n",
        "            'save_best_only':True},\n",
        "             {'filepath':Experiment+'checkpoint3_'+str(sbj),\n",
        "            'save_format':'tf',\n",
        "            'monitor':'val_Classif_accuracy',\n",
        "            'verbose':1,\n",
        "            'save_weights_only':True,\n",
        "            'save_best_only':True},\n",
        "             {'filepath':Experiment+'checkpoint4_'+str(sbj),\n",
        "            'save_format':'tf',\n",
        "            'monitor':'val_Classif_accuracy',\n",
        "            'verbose':1,\n",
        "            'save_weights_only':True,\n",
        "            'save_best_only':True}]\n",
        "                \n",
        "    callbacks = get_callbacks(callbacks_names,call_args)\n",
        "\n",
        "    cv = train_model_cv(model,optimizer,loss,metrics,callbacks=callbacks,loss_weights=[2.5,1])\n",
        "\n",
        "    history = cv.fit_validation(X_train,y_train,X_val=X_valid,y_val=y_valid,batch_size=100,epochs=1000,verbose=1,val_mode=Experiment,autoencoder=True)\n",
        "    acc = cv.get_accuracy()\n",
        "    print('Subject accuracy: {:f}'.format(acc))\n",
        "    Acc.append(acc)\n",
        "    History.append(History)\n",
        "    Subject.append(sbj)\n",
        "\n",
        "    results = {}\n",
        "    results['subject'] = Subject\n",
        "    results['history'] = History\n",
        "    results['accuracy'] = Acc\n",
        "\n",
        "    with open('Results_BCI2a_'+Experiment+'_'+model_name+'.p','wb') as handle:\n",
        "        pickle.dump(results,handle)\n",
        "    \n",
        "    del cv,X_train,y_train,X_valid,y_valid,fs"
      ],
      "id": "00158dc6",
      "execution_count": null,
      "outputs": []
    }
  ]
}