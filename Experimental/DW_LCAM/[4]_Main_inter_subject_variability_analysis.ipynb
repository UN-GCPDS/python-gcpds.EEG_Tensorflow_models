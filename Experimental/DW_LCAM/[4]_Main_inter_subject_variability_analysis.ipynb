{
  "nbformat": 4,
  "nbformat_minor": 0,
  "metadata": {
    "colab": {
      "name": "[4]_Main_inter_subject_variability_analysis.ipynb",
      "provenance": [],
      "collapsed_sections": [
        "00YWi5XZD1bA",
        "3T5m0elZVAle",
        "0YlXMppMeU_u",
        "Ndcdo-iVi6yG",
        "EtZWDe61j_a6",
        "0GLxumtKln72",
        "Tcbb2lr2mxQS"
      ],
      "include_colab_link": true
    },
    "kernelspec": {
      "display_name": "Python 3",
      "language": "python",
      "name": "python3"
    },
    "language_info": {
      "codemirror_mode": {
        "name": "ipython",
        "version": 3
      },
      "file_extension": ".py",
      "mimetype": "text/x-python",
      "name": "python",
      "nbconvert_exporter": "python",
      "pygments_lexer": "ipython3",
      "version": "3.7.7"
    }
  },
  "cells": [
    {
      "cell_type": "markdown",
      "metadata": {
        "id": "view-in-github",
        "colab_type": "text"
      },
      "source": [
        "<a href=\"https://colab.research.google.com/github/UN-GCPDS/python-gcpds.EEG_Tensorflow_models/blob/main/Experimental/DW_LCAM/%5B4%5D_Main_inter_subject_variability_analysis.ipynb\" target=\"_parent\"><img src=\"https://colab.research.google.com/assets/colab-badge.svg\" alt=\"Open In Colab\"/></a>"
      ]
    },
    {
      "cell_type": "markdown",
      "metadata": {
        "id": "Si3756n3xnQh"
      },
      "source": [
        "# Load drive"
      ]
    },
    {
      "cell_type": "code",
      "metadata": {
        "id": "XUjvvh9Vxm-p",
        "colab": {
          "base_uri": "https://localhost:8080/"
        },
        "outputId": "c15d9b89-6c4b-4ee5-a2a7-2b6c345059a8"
      },
      "source": [
        "#-------------------------------------------------------------------------------\n",
        "from google.colab import drive\n",
        "drive.mount('/content/drive')\n",
        "#-------------------------------------------------------------------------------"
      ],
      "execution_count": null,
      "outputs": [
        {
          "output_type": "stream",
          "name": "stdout",
          "text": [
            "Mounted at /content/drive\n"
          ]
        }
      ]
    },
    {
      "cell_type": "markdown",
      "metadata": {
        "id": "zQrwoiJbxqTY"
      },
      "source": [
        "# Supporting modules"
      ]
    },
    {
      "cell_type": "code",
      "metadata": {
        "id": "qePz_s64pqIj"
      },
      "source": [
        "#-------------------------------------------------------------------------------\n",
        "import numpy as np\n",
        "import scipy.io as sio\n",
        "import matplotlib.pyplot as plt\n",
        "import tensorflow as tf\n",
        "import pickle\n",
        "from matplotlib import cm\n",
        "from sklearn.model_selection import ShuffleSplit\n",
        "from tensorflow import keras\n",
        "from tensorflow.keras.constraints import max_norm\n",
        "from tensorflow.keras import backend as K\n",
        "from sklearn.preprocessing import MinMaxScaler\n",
        "from sklearn.preprocessing import StandardScaler\n",
        "from sklearn.manifold import TSNE\n",
        "from sklearn.decomposition import KernelPCA\n",
        "from sklearn.metrics import pairwise_distances\n",
        "from sklearn.preprocessing import StandardScaler\n",
        "from sklearn.manifold import TSNE\n",
        "from sklearn.decomposition import PCA\n",
        "%matplotlib inline\n",
        "#-------------------------------------------------------------------------------"
      ],
      "execution_count": null,
      "outputs": []
    },
    {
      "cell_type": "markdown",
      "metadata": {
        "id": "Plu4I_-dMorV"
      },
      "source": [
        "# Load attention maps data \n",
        "\n",
        "\n"
      ]
    },
    {
      "cell_type": "code",
      "metadata": {
        "id": "FwCSY1t6J8s8"
      },
      "source": [
        "Nsbj = [1,2,3,4,5,6,7,8,9,10,11,12,13,14,15,16,17,18,19,20,21,22,23,24,25,\n",
        "        26,27,28,30,31,32,33,35,36,37,38,39,40,41,42,43,44,45,46,47,48,49,50,51,52]\n",
        "rel_model_name = ['Gradcam++','Scorecam','Saliency'] \n",
        "\n",
        "Xw  = []\n",
        "Xgc = []\n",
        "Xsc = []\n",
        "Xsm = []\n",
        "Xt  = []\n",
        "for sbj in range(len(Nsbj)):\n",
        "  print('Subject:', Nsbj[sbj])\n",
        "  # load weight data\n",
        "  path_0= '/content/drive/MyDrive/Colab Notebooks/GradCam_Paper/GigaData/results/resulting_attention_maps/score_wmaps_'+str(Nsbj[sbj])+'.pickle'  \n",
        "  with open(path_0, 'rb') as f:\n",
        "    scores_w = pickle.load(f)\n",
        "  tmp_ = scores_w[1][0]\n",
        "  Xw.append(tmp_.reshape(-1))\n",
        "  # load attention maps data\n",
        "  path_= '/content/drive/MyDrive/Colab Notebooks/GradCam_Paper/GigaData/results/resulting_attention_maps/score_attmaps_'+str(Nsbj[sbj])+'.pickle'  \n",
        "  with open(path_, 'rb') as f:\n",
        "    scores = pickle.load(f)\n",
        "  # Gradcam++\n",
        "  tmp0 = scores[1][0]\n",
        "  Xgc.append(tmp0.reshape(-1))\n",
        "  # Scorecam\n",
        "  tmp1 = scores[1][1]\n",
        "  Xsc.append(tmp1.reshape(-1))\n",
        "  # saliency\n",
        "  tmp2 = scores[1][2]\n",
        "  Xsm.append(tmp2.reshape(-1))\n",
        "  # hadamard product\n",
        "  tmp3 = np.multiply(tmp_,tmp0)\n",
        "  tmp4 = np.multiply(tmp3,tmp1)\n",
        "  tmp5 = np.multiply(tmp4,tmp2)\n",
        "  Xt.append(tmp5.reshape(-1))\n",
        "# from list to array\n",
        "Xw  = np.array(Xw)\n",
        "Xgc = np.array(Xgc)\n",
        "Xsc = np.array(Xsc)\n",
        "Xsm = np.array(Xsm)\n",
        "Xt  = np.array(Xt)"
      ],
      "execution_count": null,
      "outputs": []
    },
    {
      "cell_type": "markdown",
      "metadata": {
        "id": "mRQ-7i1-Q_2n"
      },
      "source": [
        "# CKA"
      ]
    },
    {
      "cell_type": "code",
      "metadata": {
        "id": "hv3dGKGKRBvn"
      },
      "source": [
        "# -*- coding: utf-8 -*-\n",
        "import tensorflow as tf\n",
        "import matplotlib.pyplot as plt\n",
        "#from tensorflow.keras.wrappers.scikit_learn import KerasClassifier\n",
        "import tensorflow_probability as tfp\n",
        "from sklearn.decomposition import PCA\n",
        "from tensorflow.keras import regularizers\n",
        "from sklearn.base import  BaseEstimator, TransformerMixin, ClassifierMixin\n",
        "from sklearn.model_selection import train_test_split\n",
        "tf.keras.backend.clear_session()\n",
        "tf.random.set_seed(123)\n",
        "import types\n",
        "import tempfile\n",
        "class Keras_CKA2(BaseEstimator, TransformerMixin):\n",
        "\tdef __init__(self,epochs=200,batch_size=30,Q=0.9,learning_rate=1e-3,optimizer='Adam',\n",
        "\t\t  l1_param=0,l2_param=0,validation_split=0.2,gamma=1.0,verbose=1,init_='def_keras',gamma_y=1e-13):\n",
        "\t\tself.epochs = epochs\n",
        "\t\tself.gamma = gamma\n",
        "\t\tself.gamma_y = gamma_y\n",
        "\t\tself.batch_size = batch_size\n",
        "\t\tself.learning_rate=learning_rate \n",
        "\t\tself.l1_param=l1_param \n",
        "\t\tself.l2_param=l2_param\n",
        "\t\tself.validation_split = validation_split\n",
        "\t\tself.verbose = verbose\n",
        "\t\tself.optimizer = optimizer\n",
        "\t\tself.Q=Q\n",
        "\t\tself.init_=init_\n",
        "  \t# Define custom loss\n",
        "\tdef custom_cka_loss(self,y_true,y_pred): #ytrue labels, ypred  = Xw\n",
        "\t\t####gradiente##########################################\n",
        "\t\tscalar_kernel = tfp.math.psd_kernels.ExponentiatedQuadratic(amplitude=1, length_scale=self.gamma)\n",
        "\t\tscalar_kernely = tfp.math.psd_kernels.ExponentiatedQuadratic(amplitude=1, length_scale=self.gamma_y)\n",
        "\t\tk = scalar_kernel.matrix(y_pred, y_pred)\n",
        "\t\tl = scalar_kernely.matrix(y_true, y_true)\n",
        "\t\t######################################################\n",
        "\t\tN = tf.shape(l)[0]\n",
        "\t\tN2 = tf.cast(tf.shape(l)[0],dtype=tf.float32)\n",
        "\t\th = tf.eye(N) - (1.0/N2)*tf.ones([N,1])*tf.ones([1,N]) #matrix for centered kernel\n",
        "\t\ttrkl = tf.linalg.trace(tf.matmul(tf.matmul(k,h),tf.matmul(l,h)))\n",
        "\t\ttrkk = tf.linalg.trace(tf.matmul(tf.matmul(k,h),tf.matmul(k,h)))\n",
        "\t\ttrll = tf.linalg.trace(tf.matmul(tf.matmul(l,h),tf.matmul(l,h)))\n",
        "\t\t#####funcion de costo############################################3\n",
        "\t\tf     = -trkl/tf.sqrt(trkk*trll)# negative cka cost function (minimizing) f \\in [-1,0]\n",
        "\t\treturn f\n",
        "\tdef fit(self,X,Y):\n",
        "\t\t#input X numpy array first dimension Trials x features1 x features2.\n",
        "\t\t#input Y numpy array vector len = Trials.\n",
        "\t\tif self.optimizer == \"Adam\":\n",
        "\t\t\topt = tf.keras.optimizers.Adam(learning_rate=self.learning_rate)\n",
        "\t\telif self.optimizer == \"SGD\":\n",
        "\t\t\topt = tf.keras.optimizers.SGD(learning_rate=self.learning_rate)\n",
        "\t\telse:\n",
        "\t\t\topt=self.optimizer\n",
        "\t\t# split train and test\n",
        "\t\tX_train, X_test, y_train, y_test = train_test_split(X, Y, test_size=self.validation_split, random_state=0)\n",
        "\t\tif self.init_ == 'pca':\n",
        "\t\t\tpca_2 = PCA(n_components=self.Q, random_state = 0)\n",
        "\t\t\tpca_2.fit(X_train.reshape((X_train.shape[0],-1)))\n",
        "\t\t\tself.init_ = pca_2.components_.T\n",
        "\t\t\tself.Q = pca_2.n_components_\n",
        "\t\telse:\n",
        "\t\t\tif self.Q<1:\n",
        "\t\t\t\tpca_1 = PCA(n_components=self.Q, random_state = 0)\n",
        "\t\t\t\tpca_1.fit(X_train.reshape((X_train.shape[0],-1)))\n",
        "\t\t\t\tself.Q = pca_1.n_components_\n",
        "\t\tif len(tf.shape(X_train))>2:\n",
        "\t\t\tinput_layer = tf.keras.layers.Input(shape=[X_train.shape[1],X_train.shape[2]])\n",
        "\t\t\tflatten_layer = tf.keras.layers.Flatten(input_shape=(X_train.shape[1],X_train.shape[2]))(input_layer)\n",
        "\t\t\tif self.init_ == 'def_keras':\n",
        "\t\t\t\toutput_layer = tf.keras.layers.Dense(self.Q, activation=\"linear\", \n",
        "\t\t\t\t\tkernel_regularizer=regularizers.l1_l2(l1=self.l1_param, l2=self.l2_param), \n",
        "\t\t\t\t\tuse_bias=False, kernel_initializer=tf.keras.initializers.GlorotNormal(seed=0), name= 'Proj')(flatten_layer)\n",
        "\t\t\telse:\n",
        "\t\t\t\toutput_layer = tf.keras.layers.Dense(self.Q, activation=\"linear\", \n",
        "\t\t\t\t\tkernel_regularizer=regularizers.l1_l2(l1=self.l1_param, l2=self.l2_param),\n",
        "\t\t\t\t\tuse_bias=False, weights=[self.init_], name= 'Proj')(flatten_layer)\n",
        "\t\telse:\n",
        "\t\t\tinput_layer = tf.keras.layers.Input(shape = [X_train.shape[1]])\n",
        "\t\t\tif self.init_ == 'def_keras':\n",
        "\t\t\t\toutput_layer = tf.keras.layers.Dense(self.Q, activation=\"linear\", \n",
        "\t\t\t\t\tkernel_regularizer=regularizers.l1_l2(l1=self.l1_param, l2=self.l2_param), \n",
        "\t\t\t\t\tuse_bias=False, kernel_initializer=tf.keras.initializers.GlorotNormal(seed=0), name= 'Proj')(input_layer)\n",
        "\t\t\telse:\n",
        "\t\t\t\toutput_layer = tf.keras.layers.Dense(self.Q, activation=\"linear\", \n",
        "\t\t\t\t\tkernel_regularizer=regularizers.l1_l2(l1=self.l1_param, l2=self.l2_param),\n",
        "\t\t\t\t\tuse_bias=False, weights=[self.init_], name= 'Proj')(input_layer)\n",
        "\t\tself.model = tf.keras.Model(inputs=input_layer,outputs=output_layer)\n",
        "\t\tself.model.compile(loss=self.custom_cka_loss, optimizer=opt)\n",
        "\t\tkeys = [weight.name for layer in self.model.layers for weight in layer.weights]\n",
        "\t\tweights_in = self.model.get_weights()\n",
        "\t\tself.A_in = {}\n",
        "\t\tfor key, weight in zip(keys, weights_in):\n",
        "\t\t\tself.A_in[key] = weight \n",
        "\t\tself.history = self.model.fit(X_train, y_train, epochs=self.epochs,\n",
        "\t\t\t\t\tvalidation_data=(X_test, y_test),batch_size=self.batch_size,\n",
        "\t\t\t\t\t\t\t\t\t\tverbose=self.verbose)\n",
        "\t\tweights_out = self.model.get_weights()\n",
        "\t\tself.A_out = {}\n",
        "\t\tfor key, weight in zip(keys, weights_out):\n",
        "\t\t\tself.A_out[key] = weight\n",
        "\t\treturn self\n",
        "\tdef transform(self, X, *_):\n",
        "\t\tXr = self.model.predict(X)\n",
        "\t\treturn  Xr\n",
        "\tdef fit_transform(self,X,y):\n",
        "\t\tself.fit(X,y)\n",
        "\t\treturn  self.transform(X)\n",
        "\tdef plot_history(self):\n",
        "\t\tplt.plot(self.history.history['loss'],label='loss')\n",
        "\t\tplt.plot(self.history.history['val_loss'],label='val_loss')\n",
        "\t\tplt.legend()\n",
        "\t\treturn\n",
        "\tdef __getstate__(self):\n",
        "\t\tmodel_str = \"\"\n",
        "\t\twith tempfile.NamedTemporaryFile(suffix='.h5', delete=True) as fd:\n",
        "\t\t\ttry:\n",
        "\t\t\t\tself.model.save(fd.name,save_format='h5')\n",
        "\t\t\t\tmodel_str = fd.read()\n",
        "\t\t\texcept:\n",
        "\t\t\t\tmodel_str='model no trained'\n",
        "\t\t\t\tself.A_out='model no trained'\n",
        "\t\t\t\tself.A_in='model no trained'\n",
        "\t\td = { 'model_str': model_str,\n",
        "\t\t'A_in':self.A_in,\n",
        "\t\t'A_out':self.A_out,\n",
        "\t\t'gamma':self.gamma,\n",
        "\t\t'gamma_y':self.gamma_y,\n",
        "\t\t'epochs':self.epochs,\n",
        "\t\t'batch_size':self.batch_size,\n",
        "\t\t'learning_rate':self.learning_rate,\n",
        "\t\t'l1_param':self.l1_param,\n",
        "\t\t'l2_param':self.l2_param,\n",
        "\t\t'validation_split':self.validation_split,\n",
        "\t\t'verbose':self.verbose,\n",
        "\t\t'optimizer':self.optimizer,\n",
        "\t\t'Q':self.Q,\n",
        "\t\t'init_':self.init_}\n",
        "\t\treturn d\n",
        "\tdef __setstate__(self, state):\n",
        "\t\tself.gamma=state['gamma']\n",
        "\t\tself.gamma_y=state['gamma_y']\n",
        "\t\tself.epochs=state['epochs']\n",
        "\t\tself.batch_size=state['batch_size']\n",
        "\t\tself.learning_rate=state['learning_rate']\n",
        "\t\tself.l1_param=state['l1_param']\n",
        "\t\tself.l2_param=state['l2_param']\n",
        "\t\tself.validation_split=state['validation_split']\n",
        "\t\tself.verbose=state['verbose']\n",
        "\t\tself.optimizer=state['optimizer']\n",
        "\t\tself.Q=state['Q']\n",
        "\t\tself.init_=state['init_']\n",
        "\t\twith tempfile.NamedTemporaryFile(suffix='.h5', delete=True) as fd:\n",
        "\t\t\ttry:\n",
        "\t\t\t\tfd.write(state['model_str'])\n",
        "\t\t\t\tfd.flush()\n",
        "\t\t\t\tself.model = tf.keras.models.load_model(fd.name,custom_objects={'custom_cka_loss': self.custom_cka_loss})\t\n",
        "\t\t\t\tself.A_in=state['A_in']\n",
        "\t\t\t\tself.A_out=state['A_out']\n",
        "\t\t\texcept:\n",
        "\t\t\t\tself.mode=state['model_str']\n",
        "\t\t\t\t#print(state['model_str'])"
      ],
      "execution_count": null,
      "outputs": []
    },
    {
      "cell_type": "code",
      "metadata": {
        "id": "pb-mE3sBoIDj"
      },
      "source": [
        "#-------------------------------------------------------------------------------\n",
        "def plot_attention(tmpr_,rel_model_name,layer_name,list_class,figsize=(10,5), transpose=False):\n",
        "    \n",
        "    names_feats = [r'CWT-$\\mu$-TW1',r'CWT-$\\beta$-TW1',r'CWT-$\\mu$-TW2',r'CWT-$\\beta$-TW2',r'CWT-$\\mu$-TW3',r'CWT-$\\beta$-TW3',r'CWT-$\\mu$-TW4',r'CWT-$\\beta$-TW4',r'CWT-$\\mu$-TW5',r'CWT-$\\beta$-TW5',\n",
        "                   r'CSP-$\\mu$-TW1',r'CSP-$\\beta$-TW1',r'CSP-$\\mu$-TW2',r'CSP-$\\beta$-TW2',r'CSP-$\\mu$-TW3',r'CSP-$\\beta$-TW3',r'CSP-$\\mu$-TW4',r'CSP-$\\beta$-TW4',r'CSP-$\\mu$-TW5',r'CSP-$\\beta$-TW5']\n",
        "    if transpose:\n",
        "      x_label_list = layer_name \n",
        "      nC = len(list_class)\n",
        "      nl = len(layer_name)\n",
        "      ncols,nrows = tmpr_.shape\n",
        "\n",
        "      y_label_list = []\n",
        "      for ii in range(nC):\n",
        "          y_label_list += str(list_class[ii])\n",
        "\n",
        "      dw = nrows/nl\n",
        "      list_xticks = []\n",
        "      for ii in range(nl):\n",
        "        list_xticks += [int(dw*(0.5+ii))]\n",
        "      dw = ncols/nC\n",
        "      list_yticks = []\n",
        "      for ii in range(nC):\n",
        "        list_yticks += [int(dw*(0.5+ii))]\n",
        "\n",
        "    else:\n",
        "      y_label_list = layer_name \n",
        "      nC = len(list_class)\n",
        "      nl = len(layer_name)\n",
        "      nrows,ncols = tmpr_.shape\n",
        "\n",
        "      x_label_list = []\n",
        "      for ii in range(nC):\n",
        "          x_label_list += str(list_class[ii])\n",
        "\n",
        "      dw = nrows/nl\n",
        "      list_yticks = []\n",
        "      for ii in range(nl):\n",
        "        list_yticks += [int(dw*(0.5+ii))]\n",
        "      dw = ncols/nC\n",
        "      list_xticks = []\n",
        "      for ii in range(nC):\n",
        "        list_xticks += [int(dw*(0.5+ii))]\n",
        "    \n",
        "    plt.figure(figsize=figsize)\n",
        "    ax = plt.gca()\n",
        "    im = ax.imshow(tmpr_)#,vmin=0.0, vmax=0.3\n",
        "    im = ax.imshow(tmpr_)#,vmin=0.0, vmax=0.3\n",
        "    ax.set_yticks(list_yticks)\n",
        "    ax.set_yticklabels(y_label_list)\n",
        "    ax.set_xticks(list_xticks)\n",
        "    ax.set_xticklabels(names_feats, rotation='vertical')\n",
        "    #divider = make_axes_locatable(ax)\n",
        "    #cax = divider.append_axes(\"right\", size=\"5%\", pad=0.1)\n",
        "        \n",
        "    #plt.colorbar(im, cax=cax,extend='both',\n",
        "    #             ticks=[np.round(tmpr_.min(),3), np.round(0.5*(tmpr_.max()-tmpr_.min()),3), np.round(tmpr_.max(),3)])\n",
        "    #plt.xticks(rotation=90)\n",
        "    #plt.savefig('/content/drive/MyDrive/Colab Notebooks/GradCam_Paper/GigaData/results/relevance_attention_map_w.svg', format='svg')\n",
        "    #plt.savefig('/content/drive/MyDrive/Colab Notebooks/GradCam_Paper/GigaData/results/average_map_g3.svg', format='svg')\n",
        "       \n",
        "    plt.tight_layout()    \n",
        "    plt.show()\n",
        "#-------------------------------------------------------------------------------"
      ],
      "execution_count": null,
      "outputs": []
    },
    {
      "cell_type": "markdown",
      "metadata": {
        "id": "e3evwWnhivIU"
      },
      "source": [
        "# Data for CKA"
      ]
    },
    {
      "cell_type": "code",
      "metadata": {
        "id": "cfNV1XSig9BN"
      },
      "source": [
        "#-------------------------------------------------------------------------------\n",
        "sc      = StandardScaler()\n",
        "acc_sbj = [81.7,50.0,98.3,81.7,86.7,81.5,56.9,68.3,77.8,78.3,\n",
        "           61.6,88.9,75.0,93.3,87.7,66.7,66.7,63.3,73.3,66.7, \n",
        "           90.0,78.3,71.6,70.0,76.6,81.6,75.4,88.3,69.2,76.6,\n",
        "           56.6,65.0,80.0,91.6,71.6,60.0,76.6,58.3,96.6,71.6,\n",
        "           91.6,81.6,76.6,84.7,75.0,81.6,80.0,90.0,73.3,66.6]\n",
        "acc_sbj1 = acc_sbj.copy()\n",
        "# attetion maps concatenados\n",
        "#Xraw = np.concatenate((Xgc,Xsc,Xsm),axis=1)\n",
        "#-------------------------------------------------------------------------------\n",
        "from sklearn.model_selection import KFold\n",
        "from scipy.spatial.distance import pdist, squareform\n",
        "# estimating average gamma_y value using 10 subsets\n",
        "skf     = KFold(n_splits=10, shuffle=True, random_state=123)\n",
        "#-------------------------------------------------------------------------------\n",
        "acc_sbj = np.array(acc_sbj).reshape(-1, 1)\n",
        "acc_sbj = sc.fit_transform(acc_sbj)\n",
        "gamma_y = []\n",
        "for train_index, valid_index in skf.split(acc_sbj):\n",
        "  dd = pairwise_distances(acc_sbj[valid_index],acc_sbj[valid_index])\n",
        "  d  = 0.5*(dd+dd.T) \n",
        "  d  = d-np.diag(np.diag(d))  \n",
        "  gamma_y.append(np.median(squareform(d)))\n",
        "gamma_y_YT = np.mean(np.array(gamma_y))\n",
        "print('Average gamma_y using accuracies:',gamma_y_YT)\n",
        "gamma_y_YT = np.float32(gamma_y_YT)\n",
        "#-------------------------------------------------------------------------------"
      ],
      "execution_count": null,
      "outputs": []
    },
    {
      "cell_type": "markdown",
      "metadata": {
        "id": "Ur2QeEMhOzDD"
      },
      "source": [
        "# CKA Xraw W"
      ]
    },
    {
      "cell_type": "code",
      "metadata": {
        "id": "Kgf5rVEdO4D4"
      },
      "source": [
        "#-------------------------------------------------------------------------------\n",
        "# define cka parameters\n",
        "epochs           = 300\n",
        "batch_size       = 256\n",
        "learning_rate    = 1e-3\n",
        "l1               = 5e-3\n",
        "l2               = l1\n",
        "validation_split = 0.1\n",
        "verbose          = 50\n",
        "Q                = 0.9 # num of subjects to fix dimensions\n",
        "#-------------------------------------------------------------------------------\n",
        "# define cka\n",
        "redcka           = Keras_CKA2(epochs=epochs,batch_size=batch_size,Q=Q,learning_rate=learning_rate,\n",
        "                              l1_param=l1,l2_param=l2,validation_split=validation_split,verbose=verbose,gamma_y=gamma_y_YT)\n",
        "#-------------------------------------------------------------------------------\n",
        "# apply cka to data\n",
        "redcka.fit_transform(Xw,acc_sbj)\n",
        "#-------------------------------------------------------------------------------\n",
        "# apply cka to data\n",
        "zxtt  = redcka.transform(Xw)\n",
        "zxtt2 = PCA(n_components=2).fit_transform(zxtt)\n",
        "# computing rho (relevance feature vector)\n",
        "rho   = abs(redcka.A_out['Proj/kernel:0']).sum(axis=1)\n",
        "rho   -= min(rho)\n",
        "rho   /=max(rho)\n",
        "print('rho dimension:',rho.shape)\n",
        "#-------------------------------------------------------------------------------\n",
        "# plotting results\n",
        "plt.figure(figsize=(10,10))\n",
        "# cka performance\n",
        "plt.subplot(221)\n",
        "redcka.plot_history()\n",
        "plt.title('cka loss')\n",
        "# projected cka in pca 2d using probs as color\n",
        "plt.subplot(222)\n",
        "plt.scatter(zxtt2[:,0],zxtt2[:,1],c=acc_sbj1)\n",
        "plt.colorbar()\n",
        "plt.title('cka+pca 2D eeg features-c=Accs')\n",
        "# relevance vector rho\n",
        "plt.subplot(223)\n",
        "plt.plot(rho)\n",
        "plt.xlabel('eeg_cnn_feature')\n",
        "plt.ylabel('cka_relevance')\n",
        "plt.title('cka relevance')\n",
        "# projected cka in pca 2d using id subjects as color\n",
        "plt.subplot(224)\n",
        "plt.scatter(zxtt2[:,0],zxtt2[:,1],c=Nsbj)\n",
        "plt.colorbar()\n",
        "plt.title('cka+pca 2D eeg features-c=sID')\n",
        "\n",
        "plt.subplots_adjust(hspace=0.3,wspace=0.4)\n",
        "plt.savefig('/content/drive/MyDrive/Colab Notebooks/GradCam_Paper/GigaData/results/cka_attention_map_w.svg', format='svg')\n",
        "plt.show()\n",
        "\n",
        "#-------------------------------------------------------------------------------"
      ],
      "execution_count": null,
      "outputs": []
    },
    {
      "cell_type": "code",
      "metadata": {
        "id": "9Y5Kz9W0PdoQ"
      },
      "source": [
        "# correlation\n",
        "np.corrcoef(zxtt2[:,0].reshape(-1),acc_sbj.reshape(-1))"
      ],
      "execution_count": null,
      "outputs": []
    },
    {
      "cell_type": "code",
      "metadata": {
        "id": "2jXnIH-8QISg"
      },
      "source": [
        "# reshape rho vector\n",
        "new_rho = rho.reshape((80,800))\n",
        "layer_name     = ['conv2d','conv2d_1','conv2d_2','conv2d_3','conv2d_4','conv2d_5','conv2d_6','conv2d_7','conv2d_8','conv2d_9','conv2d_10',\n",
        "                   'conv2d_11','conv2d_12','conv2d_13','conv2d_14','conv2d_15','conv2d_16','conv2d_17','conv2d_18','conv2d_19']\n",
        "list_class = [0,1]\n",
        "plot_attention(new_rho,'Weights',layer_name,list_class,transpose=True)\n",
        "#-------------------------------------------------------------------------------"
      ],
      "execution_count": null,
      "outputs": []
    },
    {
      "cell_type": "markdown",
      "metadata": {
        "id": "3EwBHKREoP_b"
      },
      "source": [
        "# CKA Xraw gc"
      ]
    },
    {
      "cell_type": "code",
      "metadata": {
        "id": "fLlcDCiNoPw4"
      },
      "source": [
        "#-------------------------------------------------------------------------------\n",
        "# define cka parameters\n",
        "epochs           = 300\n",
        "batch_size       = 256\n",
        "learning_rate    = 1e-3\n",
        "l1               = 5e-3\n",
        "l2               = l1\n",
        "validation_split = 0.2\n",
        "verbose          = 50\n",
        "Q                = 0.9 # num of subjects to fix dimensions\n",
        "#-------------------------------------------------------------------------------\n",
        "# define cka\n",
        "redcka           = Keras_CKA2(epochs=epochs,batch_size=batch_size,Q=Q,learning_rate=learning_rate,\n",
        "                              l1_param=l1,l2_param=l2,validation_split=validation_split,verbose=verbose,gamma_y=gamma_y_YT)\n",
        "#-------------------------------------------------------------------------------\n",
        "# apply cka to data\n",
        "redcka.fit_transform(Xgc,acc_sbj)\n",
        "#-------------------------------------------------------------------------------\n",
        "# apply cka to data\n",
        "zxtt  = redcka.transform(Xgc)\n",
        "zxtt2 = PCA(n_components=2).fit_transform(zxtt)\n",
        "# computing rho (relevance feature vector)\n",
        "rho   = abs(redcka.A_out['Proj/kernel:0']).sum(axis=1)\n",
        "rho   -= min(rho)\n",
        "rho   /=max(rho)\n",
        "print('rho dimension:',rho.shape)\n",
        "#-------------------------------------------------------------------------------\n",
        "# plotting results\n",
        "plt.figure(figsize=(10,10))\n",
        "# cka performance\n",
        "plt.subplot(221)\n",
        "redcka.plot_history()\n",
        "plt.title('cka loss')\n",
        "# projected cka in pca 2d using probs as color\n",
        "plt.subplot(222)\n",
        "plt.scatter(zxtt2[:,0],zxtt2[:,1],c=acc_sbj1)\n",
        "plt.colorbar()\n",
        "plt.title('cka+pca 2D eeg features-c=Accs')\n",
        "# relevance vector rho\n",
        "plt.subplot(223)\n",
        "plt.plot(rho)\n",
        "plt.xlabel('eeg_cnn_feature')\n",
        "plt.ylabel('cka_relevance')\n",
        "plt.title('cka relevance')\n",
        "# projected cka in pca 2d using id subjects as color\n",
        "plt.subplot(224)\n",
        "plt.scatter(zxtt2[:,0],zxtt2[:,1],c=Nsbj)\n",
        "plt.colorbar()\n",
        "plt.title('cka+pca 2D eeg features-c=sID')\n",
        "\n",
        "plt.subplots_adjust(hspace=0.3,wspace=0.4)\n",
        "plt.savefig('/content/drive/MyDrive/Colab Notebooks/GradCam_Paper/GigaData/results/cka_attention_map_gc.svg', format='svg')\n",
        "plt.show()\n",
        "\n",
        "#-------------------------------------------------------------------------------"
      ],
      "execution_count": null,
      "outputs": []
    },
    {
      "cell_type": "code",
      "metadata": {
        "id": "n89o-v4R1PDn"
      },
      "source": [
        "# correlation\n",
        "np.corrcoef(zxtt2[:,0].reshape(-1),acc_sbj.reshape(-1))"
      ],
      "execution_count": null,
      "outputs": []
    },
    {
      "cell_type": "code",
      "metadata": {
        "id": "1gBTyphR7GS6"
      },
      "source": [
        "# reshape rho vector\n",
        "new_rho = rho.reshape((80,800))\n",
        "layer_name     = ['conv2d','conv2d_1','conv2d_2','conv2d_3','conv2d_4','conv2d_5','conv2d_6','conv2d_7','conv2d_8','conv2d_9','conv2d_10',\n",
        "                   'conv2d_11','conv2d_12','conv2d_13','conv2d_14','conv2d_15','conv2d_16','conv2d_17','conv2d_18','conv2d_19']\n",
        "list_class = [0,1]\n",
        "plot_attention(new_rho,'GradCam++',layer_name,list_class,transpose=True)\n",
        "#-------------------------------------------------------------------------------"
      ],
      "execution_count": null,
      "outputs": []
    },
    {
      "cell_type": "markdown",
      "metadata": {
        "id": "Z5JT4KBEoqzS"
      },
      "source": [
        "# CKA Xraw sc"
      ]
    },
    {
      "cell_type": "code",
      "metadata": {
        "id": "I6T6FRY1orHB"
      },
      "source": [
        "#-------------------------------------------------------------------------------\n",
        "# define cka parameters\n",
        "epochs           = 300\n",
        "batch_size       = 256\n",
        "learning_rate    = 1e-3\n",
        "l1               = 5e-3\n",
        "l2               = l1\n",
        "validation_split = 0.2\n",
        "verbose          = 50\n",
        "Q                = 0.9 # num of subjects to fix dimensions\n",
        "#-------------------------------------------------------------------------------\n",
        "# define cka\n",
        "redcka           = Keras_CKA2(epochs=epochs,batch_size=batch_size,Q=Q,learning_rate=learning_rate,\n",
        "                              l1_param=l1,l2_param=l2,validation_split=validation_split,verbose=verbose,gamma_y=gamma_y_YT)\n",
        "#-------------------------------------------------------------------------------\n",
        "# apply cka to data\n",
        "redcka.fit_transform(Xsc,acc_sbj)\n",
        "#-------------------------------------------------------------------------------\n",
        "# apply cka to data\n",
        "zxtt  = redcka.transform(Xsc)\n",
        "zxtt2 = PCA(n_components=2).fit_transform(zxtt)\n",
        "# computing rho (relevance feature vector)\n",
        "rho   = abs(redcka.A_out['Proj/kernel:0']).sum(axis=1)\n",
        "rho   -= min(rho)\n",
        "rho   /=max(rho)\n",
        "print('rho dimension:',rho.shape)\n",
        "#-------------------------------------------------------------------------------\n",
        "# plotting results\n",
        "plt.figure(figsize=(10,10))\n",
        "# cka performance\n",
        "plt.subplot(221)\n",
        "redcka.plot_history()\n",
        "plt.title('cka loss')\n",
        "# projected cka in pca 2d using probs as color\n",
        "plt.subplot(222)\n",
        "plt.scatter(zxtt2[:,0],zxtt2[:,1],c=acc_sbj1)\n",
        "plt.colorbar()\n",
        "plt.title('cka+pca 2D eeg features-c=Accs')\n",
        "# relevance vector rho\n",
        "plt.subplot(223)\n",
        "plt.plot(rho)\n",
        "plt.xlabel('eeg_cnn_feature')\n",
        "plt.ylabel('cka_relevance')\n",
        "plt.title('cka relevance')\n",
        "# projected cka in pca 2d using id subjects as color\n",
        "plt.subplot(224)\n",
        "plt.scatter(zxtt2[:,0],zxtt2[:,1],c=Nsbj)\n",
        "plt.colorbar()\n",
        "plt.title('cka+pca 2D eeg features-c=sID')\n",
        "\n",
        "plt.subplots_adjust(hspace=0.3,wspace=0.4)\n",
        "plt.savefig('/content/drive/MyDrive/Colab Notebooks/GradCam_Paper/GigaData/results/cka_attention_map_sc.svg', format='svg')\n",
        "plt.show()\n",
        "\n",
        "#-------------------------------------------------------------------------------"
      ],
      "execution_count": null,
      "outputs": []
    },
    {
      "cell_type": "code",
      "metadata": {
        "id": "3PERXNay1-wY"
      },
      "source": [
        "# correlation\n",
        "np.corrcoef(zxtt2[:,0].reshape(-1),acc_sbj.reshape(-1))"
      ],
      "execution_count": null,
      "outputs": []
    },
    {
      "cell_type": "code",
      "metadata": {
        "id": "Nozwv1mjvV6H"
      },
      "source": [
        "# reshape rho vector\n",
        "new_rho = rho.reshape((80,800))\n",
        "layer_name     = ['conv2d','conv2d_1','conv2d_2','conv2d_3','conv2d_4','conv2d_5','conv2d_6','conv2d_7','conv2d_8','conv2d_9','conv2d_10',\n",
        "                   'conv2d_11','conv2d_12','conv2d_13','conv2d_14','conv2d_15','conv2d_16','conv2d_17','conv2d_18','conv2d_19']\n",
        "list_class = [0,1]\n",
        "plot_attention(new_rho,'ScoreCam',layer_name,list_class,transpose=True)"
      ],
      "execution_count": null,
      "outputs": []
    },
    {
      "cell_type": "markdown",
      "metadata": {
        "id": "M9adyTpSpT08"
      },
      "source": [
        "# CKA Xraw sm"
      ]
    },
    {
      "cell_type": "code",
      "metadata": {
        "id": "Y4YneiYipUGy"
      },
      "source": [
        "#-------------------------------------------------------------------------------\n",
        "# define cka parameters\n",
        "epochs           = 300\n",
        "batch_size       = 256\n",
        "learning_rate    = 1e-3\n",
        "l1               = 5e-3\n",
        "l2               = l1\n",
        "validation_split = 0.1\n",
        "verbose          = 50\n",
        "Q                = 0.9 # num of subjects to fix dimensions\n",
        "#-------------------------------------------------------------------------------\n",
        "# define cka\n",
        "redcka           = Keras_CKA2(epochs=epochs,batch_size=batch_size,Q=Q,learning_rate=learning_rate,\n",
        "                              l1_param=l1,l2_param=l2,validation_split=validation_split,verbose=verbose,gamma_y=gamma_y_YT)\n",
        "#-------------------------------------------------------------------------------\n",
        "# apply cka to data\n",
        "redcka.fit_transform(Xsm,acc_sbj)\n",
        "#-------------------------------------------------------------------------------\n",
        "# apply cka to data\n",
        "zxtt  = redcka.transform(Xsm)\n",
        "zxtt2 = PCA(n_components=2).fit_transform(zxtt)\n",
        "# computing rho (relevance feature vector)\n",
        "rho   = abs(redcka.A_out['Proj/kernel:0']).sum(axis=1)\n",
        "rho   -= min(rho)\n",
        "rho   /=max(rho)\n",
        "print('rho dimension:',rho.shape)\n",
        "#-------------------------------------------------------------------------------\n",
        "# plotting results\n",
        "plt.figure(figsize=(10,10))\n",
        "# cka performance\n",
        "plt.subplot(221)\n",
        "redcka.plot_history()\n",
        "plt.title('cka loss')\n",
        "# projected cka in pca 2d using probs as color\n",
        "plt.subplot(222)\n",
        "plt.scatter(zxtt2[:,0],zxtt2[:,1],c=acc_sbj1)\n",
        "plt.colorbar()\n",
        "plt.title('cka+pca 2D eeg features-c=Accs')\n",
        "# relevance vector rho\n",
        "plt.subplot(223)\n",
        "plt.plot(rho)\n",
        "plt.xlabel('eeg_cnn_feature')\n",
        "plt.ylabel('cka_relevance')\n",
        "plt.title('cka relevance')\n",
        "# projected cka in pca 2d using id subjects as color\n",
        "plt.subplot(224)\n",
        "plt.scatter(zxtt2[:,0],zxtt2[:,1],c=Nsbj)\n",
        "plt.colorbar()\n",
        "plt.title('cka+pca 2D eeg features-c=sID')\n",
        "\n",
        "plt.subplots_adjust(hspace=0.3,wspace=0.4)\n",
        "plt.savefig('/content/drive/MyDrive/Colab Notebooks/GradCam_Paper/GigaData/results/cka_attention_map_sm.svg', format='svg')\n",
        "plt.show()\n",
        "\n",
        "#-------------------------------------------------------------------------------"
      ],
      "execution_count": null,
      "outputs": []
    },
    {
      "cell_type": "code",
      "metadata": {
        "id": "Qo7GEXea2OMJ"
      },
      "source": [
        "# correlation\n",
        "np.corrcoef(zxtt2[:,0].reshape(-1),acc_sbj.reshape(-1))"
      ],
      "execution_count": null,
      "outputs": []
    },
    {
      "cell_type": "code",
      "metadata": {
        "id": "33iLsl5_wTto"
      },
      "source": [
        "# reshape rho vector\n",
        "new_rho = rho.reshape((80,800))\n",
        "layer_name     = ['conv2d','conv2d_1','conv2d_2','conv2d_3','conv2d_4','conv2d_5','conv2d_6','conv2d_7','conv2d_8','conv2d_9','conv2d_10',\n",
        "                   'conv2d_11','conv2d_12','conv2d_13','conv2d_14','conv2d_15','conv2d_16','conv2d_17','conv2d_18','conv2d_19']\n",
        "list_class = [0,1]\n",
        "plot_attention(new_rho,'Saliency map',layer_name,list_class,transpose=True)"
      ],
      "execution_count": null,
      "outputs": []
    },
    {
      "cell_type": "markdown",
      "metadata": {
        "id": "g1_5R34jfelk"
      },
      "source": [
        "# CKA raw hadamard product"
      ]
    },
    {
      "cell_type": "code",
      "metadata": {
        "id": "VNQu7MzrkY2t"
      },
      "source": [
        "#-------------------------------------------------------------------------------\n",
        "# define cka parameters\n",
        "epochs           = 300\n",
        "batch_size       = 256\n",
        "learning_rate    = 1e-3\n",
        "l1               = 5e-3\n",
        "l2               = l1\n",
        "validation_split = 0.1\n",
        "verbose          = 50\n",
        "Q                = 0.95 # num of subjects to fix dimensions\n",
        "#-------------------------------------------------------------------------------\n",
        "# define cka\n",
        "redcka           = Keras_CKA2(epochs=epochs,batch_size=batch_size,Q=Q,learning_rate=learning_rate,\n",
        "                              l1_param=l1,l2_param=l2,validation_split=validation_split,verbose=verbose,gamma_y=gamma_y_YT)\n",
        "#-------------------------------------------------------------------------------\n",
        "# apply cka to data\n",
        "redcka.fit_transform(Xt,acc_sbj)\n",
        "#-------------------------------------------------------------------------------\n",
        "# apply cka to data\n",
        "zxtt  = redcka.transform(Xt)\n",
        "with open('/content/drive/MyDrive/Colab Notebooks/GradCam_Paper/GigaData/results/CKA_hp_data_inter.pickle', 'wb') as f:\n",
        "            pickle.dump(zxtt, f)\n",
        "zxtt2 = PCA(n_components=2).fit_transform(zxtt)\n",
        "# computing rho (relevance feature vector)\n",
        "rho   = abs(redcka.A_out['Proj/kernel:0']).sum(axis=1)\n",
        "rho   -= min(rho)\n",
        "rho   /=max(rho)\n",
        "print('rho dimension:',rho.shape)\n",
        "#-------------------------------------------------------------------------------\n",
        "# plotting results\n",
        "plt.figure(figsize=(10,10))\n",
        "# cka performance\n",
        "plt.subplot(221)\n",
        "redcka.plot_history()\n",
        "plt.title('cka loss')\n",
        "# projected cka in pca 2d using probs as color\n",
        "plt.subplot(222)\n",
        "plt.scatter(zxtt2[:,0],zxtt2[:,1],c=acc_sbj1)\n",
        "plt.colorbar()\n",
        "plt.title('cka+pca 2D eeg features-c=Accs')\n",
        "# relevance vector rho\n",
        "plt.subplot(223)\n",
        "plt.plot(rho)\n",
        "plt.xlabel('eeg_cnn_feature')\n",
        "plt.ylabel('cka_relevance')\n",
        "plt.title('cka relevance')\n",
        "# projected cka in pca 2d using id subjects as color\n",
        "plt.subplot(224)\n",
        "plt.scatter(zxtt2[:,0],zxtt2[:,1],c=Nsbj)\n",
        "plt.colorbar()\n",
        "plt.title('cka+pca 2D eeg features-c=sID')\n",
        "\n",
        "plt.subplots_adjust(hspace=0.3,wspace=0.4)\n",
        "plt.savefig('/content/drive/MyDrive/Colab Notebooks/GradCam_Paper/GigaData/results/cka_attention_map_hp.svg', format='svg')\n",
        "plt.show()\n",
        "\n",
        "#-------------------------------------------------------------------------------"
      ],
      "execution_count": null,
      "outputs": []
    },
    {
      "cell_type": "code",
      "metadata": {
        "id": "LRhKloXt2cKN"
      },
      "source": [
        "# correlation\n",
        "np.corrcoef(zxtt2[:,0].reshape(-1),acc_sbj.reshape(-1))"
      ],
      "execution_count": null,
      "outputs": []
    },
    {
      "cell_type": "code",
      "metadata": {
        "id": "_PaP7jE8xDJ_"
      },
      "source": [
        "# reshape rho vector\n",
        "new_rho = rho.reshape((80,800))\n",
        "layer_name     = ['conv2d','conv2d_1','conv2d_2','conv2d_3','conv2d_4','conv2d_5','conv2d_6','conv2d_7','conv2d_8','conv2d_9','conv2d_10',\n",
        "                   'conv2d_11','conv2d_12','conv2d_13','conv2d_14','conv2d_15','conv2d_16','conv2d_17','conv2d_18','conv2d_19']\n",
        "list_class = [0,1]\n",
        "plot_attention(new_rho,'Hadamard product',layer_name,list_class,transpose=True)"
      ],
      "execution_count": null,
      "outputs": []
    },
    {
      "cell_type": "markdown",
      "metadata": {
        "id": "xcFVOji3vlmw"
      },
      "source": [
        "# K-means"
      ]
    },
    {
      "cell_type": "code",
      "metadata": {
        "id": "vKaGf61WxKww"
      },
      "source": [
        "from sklearn.cluster import KMeans\n",
        "kmeans = KMeans(n_clusters=4).fit(zxtt2)\n",
        "labels = kmeans.predict(zxtt2)\n",
        "plt.figure(figsize=(5,6))\n",
        "plt.scatter(zxtt2[:,0],zxtt2[:,1],c=labels)\n",
        "plt.colorbar()"
      ],
      "execution_count": null,
      "outputs": []
    },
    {
      "cell_type": "code",
      "metadata": {
        "id": "xnEQxl1F0E7X"
      },
      "source": [
        "print('Subjects group 0:',np.array(Nsbj)[labels==0])\n",
        "print('Subjects group 1:',np.array(Nsbj)[labels==1])\n",
        "print('Subjects group 2:',np.array(Nsbj)[labels==2])\n",
        "print('Subjects group 3:',np.array(Nsbj)[labels==3])"
      ],
      "execution_count": null,
      "outputs": []
    },
    {
      "cell_type": "markdown",
      "metadata": {
        "id": "a73k2bp6zErZ"
      },
      "source": [
        "# Spectral clustering"
      ]
    },
    {
      "cell_type": "code",
      "metadata": {
        "id": "RDtCNxktxKiK"
      },
      "source": [
        "from sklearn.cluster import SpectralClustering\n",
        "Nsbj = [1,2,3,4,5,6,7,8,9,10,11,12,13,14,15,16,17,18,19,20,21,22,23,24,25,\n",
        "        26,27,28,30,31,32,33,35,36,37,38,39,40,41,42,43,44,45,46,47,48,49,50,51,52]\n",
        "clustering = SpectralClustering(n_clusters=4, gamma=1).fit(zxtt2)\n",
        "clustering.labels_\n",
        "plt.figure(figsize=(5,6))\n",
        "plt.scatter(zxtt2[:,0],zxtt2[:,1],c=clustering.labels_)\n",
        "plt.colorbar()\n",
        "#plt.savefig('/content/drive/MyDrive/Colab Notebooks/GradCam_Paper/GigaData/results/spectral_clus.svg', format='svg')"
      ],
      "execution_count": null,
      "outputs": []
    },
    {
      "cell_type": "code",
      "metadata": {
        "id": "N1RibDVD2DUi"
      },
      "source": [
        "print('Subjects group 0:',np.array(Nsbj)[clustering.labels_==0],'- Acc:',np.mean(np.array(acc_sbj1)[clustering.labels_==0]))\n",
        "print('Subjects group 1:',np.array(Nsbj)[clustering.labels_==1],'- Acc:',np.mean(np.array(acc_sbj1)[clustering.labels_==1]))\n",
        "print('Subjects group 2:',np.array(Nsbj)[clustering.labels_==2],'- Acc:',np.mean(np.array(acc_sbj1)[clustering.labels_==2]))\n",
        "print('Subjects group 3:',np.array(Nsbj)[clustering.labels_==3],'- Acc:',np.mean(np.array(acc_sbj1)[clustering.labels_==3]))"
      ],
      "execution_count": null,
      "outputs": []
    },
    {
      "cell_type": "code",
      "metadata": {
        "id": "1cQV4f6w9FPo"
      },
      "source": [
        "g_verde    = [3,4,5,6,10,14,23,26,41,43,44,46,48,49,50]\n",
        "g_amarillo = [1,2,11,12,13,15,19,20,21,22,25,28,31,35,36,37,39,47,52]\n",
        "g_rojo     = [7,8,9,16,17,18,24,27,30,32,33,38,40,42,45,51]\n",
        "\n",
        "new_idxs = []\n",
        "for i in range(len(Nsbj)):\n",
        "  if np.isin(Nsbj[i], g_verde):\n",
        "    new_idxs.append('green')\n",
        "  elif np.isin(Nsbj[i], g_amarillo):\n",
        "    new_idxs.append('yellow')\n",
        "  else:\n",
        "    new_idxs.append('red')\n",
        "\n",
        "#alpha1= alpha2\n",
        "plt.figure(figsize=(5,6))\n",
        "plt.scatter(zxtt2[:,0],zxtt2[:,1],c=new_idxs)\n",
        "plt.colorbar()\n",
        "plt.savefig('/content/drive/MyDrive/Colab Notebooks/GradCam_Paper/GigaData/results/new_groups.svg', format='svg')"
      ],
      "execution_count": null,
      "outputs": []
    },
    {
      "cell_type": "markdown",
      "metadata": {
        "id": "Tz3jourV6Wml"
      },
      "source": [
        "# Average topogram per group"
      ]
    },
    {
      "cell_type": "code",
      "metadata": {
        "id": "pzQg-iuD6WRJ"
      },
      "source": [
        "Nsbj = [5,14,15,21,28,36,41,43,46,50]\n",
        "rel_model_name = ['Gradcam++','Scorecam','Saliency'] \n",
        "\n",
        "Xt  = []\n",
        "for sbj in range(len(Nsbj)):\n",
        "  print('Subject:', Nsbj[sbj])\n",
        "  # load weight data\n",
        "  path_0= '/content/drive/MyDrive/Colab Notebooks/GradCam_Paper/GigaData/results/resulting_attention_maps/score_wmaps_'+str(Nsbj[sbj])+'.pickle'  \n",
        "  with open(path_0, 'rb') as f:\n",
        "    scores_w = pickle.load(f)\n",
        "  tmp_ = scores_w[1][0]\n",
        "  # load attention maps data\n",
        "  path_= '/content/drive/MyDrive/Colab Notebooks/GradCam_Paper/GigaData/results/resulting_attention_maps/score_attmaps_'+str(Nsbj[sbj])+'.pickle'  \n",
        "  with open(path_, 'rb') as f:\n",
        "    scores = pickle.load(f)\n",
        "  # Gradcam++\n",
        "  tmp0 = scores[1][0]\n",
        "  # Scorecam\n",
        "  tmp1 = scores[1][1]\n",
        "  # saliency\n",
        "  tmp2 = scores[1][2]\n",
        "  # hadamard product\n",
        "  tmp3 = np.multiply(tmp_,tmp0)\n",
        "  tmp4 = np.multiply(tmp3,tmp1)\n",
        "  tmp5 = np.multiply(tmp4,tmp2)\n",
        "  Xt.append(tmp5)\n",
        "# from list to array\n",
        "Xt  = np.mean(np.array(Xt),axis=0)\n",
        "Xt  = Xt/Xt.max()\n",
        "layer_name     = ['conv2d','conv2d_1','conv2d_2','conv2d_3','conv2d_4','conv2d_5','conv2d_6','conv2d_7','conv2d_8','conv2d_9','conv2d_10',\n",
        "                   'conv2d_11','conv2d_12','conv2d_13','conv2d_14','conv2d_15','conv2d_16','conv2d_17','conv2d_18','conv2d_19']\n",
        "list_class = [0,1]\n",
        "plot_attention(Xt,'Hadamard product',layer_name,list_class,transpose=True)"
      ],
      "execution_count": null,
      "outputs": []
    },
    {
      "cell_type": "code",
      "metadata": {
        "id": "q1B2lDEE9eeE"
      },
      "source": [
        "Nsbj = [1,3,4,6,9,10,13,19,22,23,24,25,26,27,31,35,37,39,42,45,47,48,49,51]\n",
        "rel_model_name = ['Gradcam++','Scorecam','Saliency'] \n",
        "\n",
        "Xt  = []\n",
        "for sbj in range(len(Nsbj)):\n",
        "  print('Subject:', Nsbj[sbj])\n",
        "  # load weight data\n",
        "  path_0= '/content/drive/MyDrive/Colab Notebooks/GradCam_Paper/GigaData/results/resulting_attention_maps/score_wmaps_'+str(Nsbj[sbj])+'.pickle'  \n",
        "  with open(path_0, 'rb') as f:\n",
        "    scores_w = pickle.load(f)\n",
        "  tmp_ = scores_w[1][0]\n",
        "  # load attention maps data\n",
        "  path_= '/content/drive/MyDrive/Colab Notebooks/GradCam_Paper/GigaData/results/resulting_attention_maps/score_attmaps_'+str(Nsbj[sbj])+'.pickle'  \n",
        "  with open(path_, 'rb') as f:\n",
        "    scores = pickle.load(f)\n",
        "  # Gradcam++\n",
        "  tmp0 = scores[1][0]\n",
        "  # Scorecam\n",
        "  tmp1 = scores[1][1]\n",
        "  # saliency\n",
        "  tmp2 = scores[1][2]\n",
        "  # hadamard product\n",
        "  tmp3 = np.multiply(tmp_,tmp0)\n",
        "  tmp4 = np.multiply(tmp3,tmp1)\n",
        "  tmp5 = np.multiply(tmp4,tmp2)\n",
        "  Xt.append(tmp5)\n",
        "# from list to array\n",
        "Xt  = np.mean(np.array(Xt),axis=0)\n",
        "Xt  = Xt/Xt.max()\n",
        "layer_name     = ['conv2d','conv2d_1','conv2d_2','conv2d_3','conv2d_4','conv2d_5','conv2d_6','conv2d_7','conv2d_8','conv2d_9','conv2d_10',\n",
        "                   'conv2d_11','conv2d_12','conv2d_13','conv2d_14','conv2d_15','conv2d_16','conv2d_17','conv2d_18','conv2d_19']\n",
        "list_class = [0,1]\n",
        "plot_attention(Xt,'Hadamard product',layer_name,list_class,transpose=True)"
      ],
      "execution_count": null,
      "outputs": []
    },
    {
      "cell_type": "code",
      "metadata": {
        "id": "zkcKk8aV6WOZ"
      },
      "source": [
        "Nsbj = [30]\n",
        "rel_model_name = ['Gradcam++','Scorecam','Saliency'] \n",
        "\n",
        "Xt  = []\n",
        "for sbj in range(len(Nsbj)):\n",
        "  print('Subject:', Nsbj[sbj])\n",
        "  # load weight data\n",
        "  path_0= '/content/drive/MyDrive/Colab Notebooks/GradCam_Paper/GigaData/results/resulting_attention_maps/score_wmaps_'+str(Nsbj[sbj])+'.pickle'  \n",
        "  with open(path_0, 'rb') as f:\n",
        "    scores_w = pickle.load(f)\n",
        "  tmp_ = scores_w[1][0]\n",
        "  # load attention maps data\n",
        "  path_= '/content/drive/MyDrive/Colab Notebooks/GradCam_Paper/GigaData/results/resulting_attention_maps/score_attmaps_'+str(Nsbj[sbj])+'.pickle'  \n",
        "  with open(path_, 'rb') as f:\n",
        "    scores = pickle.load(f)\n",
        "  # Gradcam++\n",
        "  tmp0 = scores[1][0]\n",
        "  # Scorecam\n",
        "  tmp1 = scores[1][1]\n",
        "  # saliency\n",
        "  tmp2 = scores[1][2]\n",
        "  # hadamard product\n",
        "  tmp3 = np.multiply(tmp_,tmp0)\n",
        "  tmp4 = np.multiply(tmp3,tmp1)\n",
        "  tmp5 = np.multiply(tmp4,tmp2)\n",
        "  Xt.append(tmp5)\n",
        "# from list to array\n",
        "Xt  = np.mean(np.array(Xt),axis=0)\n",
        "Xt  = Xt/Xt.max()\n",
        "layer_name     = ['conv2d','conv2d_1','conv2d_2','conv2d_3','conv2d_4','conv2d_5','conv2d_6','conv2d_7','conv2d_8','conv2d_9','conv2d_10',\n",
        "                   'conv2d_11','conv2d_12','conv2d_13','conv2d_14','conv2d_15','conv2d_16','conv2d_17','conv2d_18','conv2d_19']\n",
        "list_class = [0,1]\n",
        "plot_attention(Xt,'Hadamard product',layer_name,list_class,transpose=True)"
      ],
      "execution_count": null,
      "outputs": []
    },
    {
      "cell_type": "code",
      "metadata": {
        "id": "1N3u06Qp6WL1"
      },
      "source": [
        "Nsbj = [2,7,8,11,12,16,17,18,20,32,33,38,40,44,52] \n",
        "rel_model_name = ['Gradcam++','Scorecam','Saliency'] \n",
        "\n",
        "Xt  = []\n",
        "for sbj in range(len(Nsbj)):\n",
        "  print('Subject:', Nsbj[sbj])\n",
        "  # load weight data\n",
        "  path_0= '/content/drive/MyDrive/Colab Notebooks/GradCam_Paper/GigaData/results/resulting_attention_maps/score_wmaps_'+str(Nsbj[sbj])+'.pickle'  \n",
        "  with open(path_0, 'rb') as f:\n",
        "    scores_w = pickle.load(f)\n",
        "  tmp_ = scores_w[1][0]\n",
        "  # load attention maps data\n",
        "  path_= '/content/drive/MyDrive/Colab Notebooks/GradCam_Paper/GigaData/results/resulting_attention_maps/score_attmaps_'+str(Nsbj[sbj])+'.pickle'  \n",
        "  with open(path_, 'rb') as f:\n",
        "    scores = pickle.load(f)\n",
        "  # Gradcam++\n",
        "  tmp0 = scores[1][0]\n",
        "  # Scorecam\n",
        "  tmp1 = scores[1][1]\n",
        "  # saliency\n",
        "  tmp2 = scores[1][2]\n",
        "  # hadamard product\n",
        "  tmp3 = np.multiply(tmp_,tmp0)\n",
        "  tmp4 = np.multiply(tmp3,tmp1)\n",
        "  tmp5 = np.multiply(tmp4,tmp2)\n",
        "  Xt.append(tmp5)\n",
        "# from list to array\n",
        "Xt  = np.mean(np.array(Xt),axis=0)\n",
        "Xt  = Xt/Xt.max()\n",
        "layer_name     = ['conv2d','conv2d_1','conv2d_2','conv2d_3','conv2d_4','conv2d_5','conv2d_6','conv2d_7','conv2d_8','conv2d_9','conv2d_10',\n",
        "                   'conv2d_11','conv2d_12','conv2d_13','conv2d_14','conv2d_15','conv2d_16','conv2d_17','conv2d_18','conv2d_19']\n",
        "list_class = [0,1]\n",
        "plot_attention(Xt,'Hadamard product',layer_name,list_class,transpose=True)"
      ],
      "execution_count": null,
      "outputs": []
    },
    {
      "cell_type": "code",
      "metadata": {
        "id": "6vhdwAEfAkeI"
      },
      "source": [
        "ac_groups = np.array([90.1,77.6,69.2,65.1])\n",
        "plt.figure(figsize=(10,1))\n",
        "plt.plot(np.arange(4),ac_groups)\n",
        "plt.grid()\n",
        "plt.savefig('/content/drive/MyDrive/Colab Notebooks/GradCam_Paper/GigaData/results/acc_clus.svg', format='svg')"
      ],
      "execution_count": null,
      "outputs": []
    },
    {
      "cell_type": "code",
      "metadata": {
        "id": "7m6pDCzKAka6"
      },
      "source": [
        "corr_values = np.array([0.52,0.80,0.86,0.45,0.80])\n",
        "plt.figure(figsize=(10,1))\n",
        "plt.plot(np.arange(5),corr_values)\n",
        "plt.grid()\n",
        "plt.savefig('/content/drive/MyDrive/Colab Notebooks/GradCam_Paper/GigaData/results/corr_val.svg', format='svg')"
      ],
      "execution_count": null,
      "outputs": []
    },
    {
      "cell_type": "markdown",
      "metadata": {
        "id": "OPcyM2m0dE5j"
      },
      "source": [
        "# Plot Acc figure"
      ]
    },
    {
      "cell_type": "code",
      "metadata": {
        "id": "JHSZ9DIk2RTV",
        "colab": {
          "base_uri": "https://localhost:8080/",
          "height": 267
        },
        "outputId": "212ba915-6c62-42df-8372-408716269f93"
      },
      "source": [
        "import joblib\n",
        "#-------------------------------------------------------------------------------\n",
        "# DW-CNN\n",
        "Nsbj = np.array([1,2,3,4,5,6,7,8,9,10,11,12,13,14,15,16,17,18,19,20,21,22,23,24,25,\n",
        "        26,27,28,30,31,32,33,35,36,37,38,39,40,41,42,43,44,45,46,47,48,49,50,51,52])\n",
        "\n",
        "acc_sbj = np.array([81.7,50.0,98.3,81.7,86.7,81.5,56.9,68.3,77.8,78.3,\n",
        "           61.6,88.9,75.0,93.3,87.7,66.7,66.7,63.3,73.3,66.7, \n",
        "           90.0,78.3,71.6,70.0,76.6,81.6,75.4,88.3,69.2,76.6,\n",
        "           56.6,65.0,80.0,91.6,71.6,60.0,76.6,58.3,96.6,71.6,\n",
        "           91.6,81.6,76.6,84.7,75.0,81.6,80.0,90.0,73.3,66.6])\n",
        "\n",
        "std_sbj = np.array([2.35,4.08,2.35,2.35,6.23,2.61,5.19,2.35,3.92,4.71,\n",
        "           4.71,1.42,4.08,2.35,2.48,2.35,2.35,2.35,5.44,9.07,\n",
        "           4.08,2.35,10.27,4.08,6.23,2.35,2.48,2.35,0.00,6.23,\n",
        "           4.71,0.00,7.07,4.71,2.35,4.08,8.49,2.35,4.71,2.35,\n",
        "           2.35,2.35,4.71,8.56,7.07,2.35,4.08,0.00,2.35,10.27])\n",
        "\n",
        "idxs = np.argsort(acc_sbj)[::-1]\n",
        "#-------------------------------------------------------------------------------\n",
        "# FBCSP\n",
        "acc_fbcsp = model=joblib.load('Results_biclass_FBCSP_2tau_LDA_giga_acc.joblib')\n",
        "acc1      = acc_fbcsp['acc']\n",
        "acc       = np.array(acc1)[np.array(acc1)!=0]\n",
        "stds1     = acc_fbcsp['stds']\n",
        "stds      = np.array(stds1)[np.array(acc1)!=0]\n",
        "idxs0     = np.argsort(acc)[::-1]\n",
        "#-------------------------------------------------------------------------------\n",
        "# Mask GradCam++\n",
        "acc_mask_gradcam = np.array([88.3,63.6,100.0,86.6,90.0,91.3,69.1,81.6,77.4,85.6,66.6,87.0,83.3,100.0,96.5,86.6,83.3,74.0,88.8,70.4,96.6,85.0,71.6,83.3,85.0,\n",
        "                    90.0,80.7,95.0,79.4,78.0,61.6,76.6,88.3,98.3,85.3,71.6,78.3,70.0,100.0,85.0,95.0,88.3,90.0,93.1,83.3,88.0,86.3,93.3,90.0,67.6])\n",
        "\n",
        "std_mask_gradcam = np.array([2.4,2.3,0.0,0,0.0,2.6,0.0,4.7,7.1,2.3,4.7,2.6,2.4,2.3,2.4,2.3,4.7,4.0,8.3,5.2,2.3,4.0,4.7,6.2,0.0,\n",
        "                    4.1,4.9,4.0,3.6,4.0,2.3,6.2,4.7,2.3,2.4,0.0,6.4,7.0,0.0,6.5,0.0,6.2,0.0,7.0,4.7,0.0,4.7,2.4,7.1,5.1])\n",
        "#-------------------------------------------------------------------------------\n",
        "print('Acc FBCSP:',np.mean(acc),np.mean(stds),np.sum(acc<=70))\n",
        "print('Acc DW-CNN:',np.mean(acc_sbj),np.mean(std_sbj),np.sum(acc_sbj<=70))\n",
        "print('Acc DW-CNN+GC++:',np.mean(acc_mask_gradcam),np.mean(std_mask_gradcam),np.sum(acc_mask_gradcam<=70))\n",
        "#-------------------------------------------------------------------------------\n",
        "# figure\n",
        "plt.figure(figsize=(15,3))\n",
        "plt.ylabel('Performance ($Ac\\pm Std$)')\n",
        "# plot train scores\n",
        "plt.plot(np.arange(50), acc_sbj[idxs0], label='Average test accuracy',\n",
        "             color='royalblue')\n",
        "# create a shaded area between [mean - std, mean + std]\n",
        "plt.gca().fill_between(np.arange(50),\n",
        "                       acc_sbj[idxs0] - std_sbj[idxs0],\n",
        "                       acc_sbj[idxs0] + std_sbj[idxs0],\n",
        "                       alpha=0.3,\n",
        "                       color='royalblue')\n",
        "\n",
        "plt.plot(np.arange(50), acc[idxs0], label='Average test accuracy',\n",
        "             color='orange')\n",
        "# create a shaded area between [mean - std, mean + std]\n",
        "plt.gca().fill_between(np.arange(50),\n",
        "                       acc[idxs0] - stds[idxs0],\n",
        "                       acc[idxs0] + stds[idxs0],\n",
        "                       alpha=0.3,\n",
        "                       color='orange')\n",
        "\n",
        "plt.plot(np.arange(50), np.ones(50)*70.0, label='Average',\n",
        "             color='black')\n",
        "\n",
        "\n",
        "plt.plot(np.arange(50), acc_mask_gradcam[idxs0], label='Average test mask GC',\n",
        "             color='magenta')\n",
        "plt.gca().fill_between(np.arange(50),\n",
        "                       np.array(acc_mask_gradcam)[idxs0] - np.array(std_mask_gradcam)[idxs0],\n",
        "                       np.array(acc_mask_gradcam)[idxs0] + np.array(std_mask_gradcam)[idxs0],\n",
        "                       alpha=0.3,\n",
        "                       color='magenta')\n",
        "'''\n",
        "plt.plot(np.arange(50), acc_mask_gradcam, label='Average test mask GC',\n",
        "             color='magenta')\n",
        "plt.gca().fill_between(np.arange(50),\n",
        "                       np.array(acc_mask_gradcam) - np.array(std_mask_gradcam),\n",
        "                       np.array(acc_mask_gradcam) + np.array(std_mask_gradcam),\n",
        "                       alpha=0.3,\n",
        "                       color='magenta')\n",
        "\n",
        "plt.plot(np.arange(50), acc_mask_scorecam, label='Average test mask GC',\n",
        "             color='cyan')\n",
        "plt.gca().fill_between(np.arange(50),\n",
        "                       np.array(acc_mask_scorecam) - np.array(std_mask_scorecam),\n",
        "                       np.array(acc_mask_scorecam) + np.array(std_mask_scorecam),\n",
        "                       alpha=0.3,\n",
        "                       color='cyan')\n",
        "\n",
        "\n",
        "'''\n",
        "plt.bar(np.arange(50), height=110, width=0.8,color='lightcoral',alpha=0.3)\n",
        "\n",
        "plt.grid()\n",
        "plt.xlim((0,49))\n",
        "plt.xticks(np.arange(50),Nsbj[idxs0])\n",
        "plt.ylim((40,100))\n",
        "plt.yscale('log')\n",
        "plt.yticks((40,50,60,70,75,80,90,100),['','0.5','','','0.75','','0.90','1.0'])\n",
        "plt.legend(['DW-CNN','FBCSP','DW-CNN+GC++'])#,'DW-CNN GC++','DW-CNN SC'\n",
        "plt.savefig('/content/drive/MyDrive/Colab Notebooks/GradCam_Paper/GigaData/results/new_figures/Accuracy_sbjs.svg', format='svg')"
      ],
      "execution_count": null,
      "outputs": [
        {
          "output_type": "stream",
          "name": "stdout",
          "text": [
            "Acc FBCSP: 67.7408 5.897600000000001 32\n",
            "Acc DW-CNN: 76.218 3.9614000000000003 15\n",
            "Acc DW-CNN+GC++: 84.09 3.4619999999999993 6\n"
          ]
        },
        {
          "output_type": "display_data",
          "data": {
            "image/png": "[encoded data removed]",
            "text/plain": [
              "<Figure size 1080x216 with 1 Axes>"
            ]
          },
          "metadata": {
            "needs_background": "light"
          }
        }
      ]
    },
    {
      "cell_type": "code",
      "metadata": {
        "id": "dU1H5GFIPRHW"
      },
      "source": [
        "from sklearn.cluster import KMeans\n",
        "kmeans = KMeans(n_clusters=3, random_state=0).fit(np.array(acc).reshape(-1, 1))\n",
        "kmeans.labels_\n",
        "print(Nsbj[kmeans.labels_==0])\n",
        "print(Nsbj[kmeans.labels_==1])\n",
        "print(Nsbj[kmeans.labels_==2])"
      ],
      "execution_count": null,
      "outputs": []
    },
    {
      "cell_type": "code",
      "metadata": {
        "id": "meARns9UqXFU",
        "colab": {
          "base_uri": "https://localhost:8080/",
          "height": 235
        },
        "outputId": "96f7373f-9a86-4748-a0a8-692d5016b98e"
      },
      "source": [
        "#from sklearn.externals import joblib\n",
        "#-------------------------------------------------------------------------------\n",
        "# DW-CNN\n",
        "Nsbj = np.array([1,2,3,4,5,6,7,8,9,10,11,12,13,14,15,16,17,18,19,20,21,22,23,24,25,\n",
        "        26,27,28,30,31,32,33,35,36,37,38,39,40,41,42,43,44,45,46,47,48,49,50,51,52])\n",
        "\n",
        "acc_sbj = np.array([81.7,50.0,98.3,81.7,86.7,81.5,56.9,68.3,77.8,78.3,\n",
        "           61.6,88.9,75.0,93.3,87.7,66.7,66.7,63.3,73.3,66.7, \n",
        "           90.0,78.3,71.6,70.0,76.6,81.6,75.4,88.3,69.2,76.6,\n",
        "           56.6,65.0,80.0,91.6,71.6,60.0,76.6,58.3,96.6,71.6,\n",
        "           91.6,81.6,76.6,84.7,75.0,81.6,80.0,90.0,73.3,66.6])\n",
        "\n",
        "std_sbj = np.array([2.35,4.08,2.35,2.35,6.23,2.61,5.19,2.35,3.92,4.71,\n",
        "           4.71,1.42,4.08,2.35,2.48,2.35,2.35,2.35,5.44,9.07,\n",
        "           4.08,2.35,10.27,4.08,6.23,2.35,2.48,2.35,0.00,6.23,\n",
        "           4.71,0.00,7.07,4.71,2.35,4.08,8.49,2.35,4.71,2.35,\n",
        "           2.35,2.35,4.71,8.56,7.07,2.35,4.08,0.00,2.35,10.27])\n",
        "\n",
        "idxs = np.argsort(acc_sbj)[::-1]\n",
        "#-------------------------------------------------------------------------------\n",
        "\n",
        "# Mask GradCam++\n",
        "acc_mask_gradcam = np.array([88.3,63.6,100.0,86.6,90.0,91.3,69.1,81.6,77.4,85.6,66.6,87.0,83.3,100.0,96.5,86.6,83.3,74.0,88.8,70.4,96.6,85.0,71.6,83.3,85.0,\n",
        "                    90.0,80.7,95.0,79.4,78.0,61.6,76.6,88.3,98.3,85.3,71.6,78.3,70.0,100.0,85.0,95.0,88.3,90.0,93.1,83.3,88.0,86.3,93.3,90.0,67.6])\n",
        "\n",
        "std_mask_gradcam = np.array([2.4,2.3,0.0,0,0.0,2.6,0.0,4.7,7.1,2.3,4.7,2.6,2.4,2.3,2.4,2.3,4.7,4.0,8.3,5.2,2.3,4.0,4.7,6.2,0.0,\n",
        "                    4.1,4.9,4.0,3.6,4.0,2.3,6.2,4.7,2.3,2.4,0.0,6.4,7.0,0.0,6.5,0.0,6.2,0.0,7.0,4.7,0.0,4.7,2.4,7.1,5.1])\n",
        "#-------------------------------------------------------------------------------\n",
        "print('Acc FBCSP:',np.mean(acc),np.mean(stds),np.sum(acc<=70))\n",
        "print('Acc DW-CNN:',np.mean(acc_sbj),np.mean(std_sbj),np.sum(acc_sbj<=70))\n",
        "print('Acc DW-CNN+GC++:',np.mean(acc_mask_gradcam),np.mean(std_mask_gradcam),np.sum(acc_mask_gradcam<=70))\n",
        "#-------------------------------------------------------------------------------\n",
        "# figure\n",
        "plt.figure(figsize=(15,3))\n",
        "plt.ylabel('Performance ($Ac\\pm Std$)')\n",
        "# plot train scores\n",
        "plt.plot(np.arange(50), acc_sbj[idxs], label='Average test accuracy',\n",
        "             color='royalblue')\n",
        "# create a shaded area between [mean - std, mean + std]\n",
        "plt.gca().fill_between(np.arange(50),\n",
        "                       acc_sbj[idxs] - std_sbj[idxs],\n",
        "                       acc_sbj[idxs] + std_sbj[idxs],\n",
        "                       alpha=0.3,\n",
        "                       color='royalblue')\n",
        "\n",
        "\n",
        "plt.plot(np.arange(50), np.ones(50)*70.0, label='Average',\n",
        "             color='red')\n",
        "\n",
        "'''\n",
        "plt.plot(np.arange(50), acc_mask_gradcam, label='Average test mask GC',\n",
        "             color='magenta')\n",
        "plt.gca().fill_between(np.arange(50),\n",
        "                       np.array(acc_mask_gradcam) - np.array(std_mask_gradcam),\n",
        "                       np.array(acc_mask_gradcam) + np.array(std_mask_gradcam),\n",
        "                       alpha=0.3,\n",
        "                       color='magenta')\n",
        "\n",
        "plt.plot(np.arange(50), acc_mask_scorecam, label='Average test mask GC',\n",
        "             color='cyan')\n",
        "plt.gca().fill_between(np.arange(50),\n",
        "                       np.array(acc_mask_scorecam) - np.array(std_mask_scorecam),\n",
        "                       np.array(acc_mask_scorecam) + np.array(std_mask_scorecam),\n",
        "                       alpha=0.3,\n",
        "                       color='cyan')\n",
        "\n",
        "\n",
        "'''\n",
        "plt.bar(np.arange(50), height=110, width=0.8,color='lightcoral',alpha=0.3)\n",
        "\n",
        "plt.grid()\n",
        "plt.xlim((0,49))\n",
        "plt.xticks(np.arange(50),Nsbj[idxs])\n",
        "plt.ylim((40,100))\n",
        "plt.yscale('log')\n",
        "plt.yticks((40,50,60,70,75,80,90,100),['','0.5','','','0.75','','0.90','1.0'])\n",
        "plt.legend(['DW-CNN'])#,'DW-CNN GC++','DW-CNN SC'\n",
        "plt.savefig('/content/drive/MyDrive/Colab Notebooks/GradCam_Paper/GigaData/results/new_figures/Accuracy_sbjs_new.svg', format='svg')"
      ],
      "execution_count": null,
      "outputs": [
        {
          "output_type": "error",
          "ename": "NameError",
          "evalue": "ignored",
          "traceback": [
            "\u001b[0;31m---------------------------------------------------------------------------\u001b[0m",
            "\u001b[0;31mNameError\u001b[0m                                 Traceback (most recent call last)",
            "\u001b[0;32m<ipython-input-9-7fc39d6ee534>\u001b[0m in \u001b[0;36m<module>\u001b[0;34m()\u001b[0m\n\u001b[1;32m     27\u001b[0m                     4.1,4.9,4.0,3.6,4.0,2.3,6.2,4.7,2.3,2.4,0.0,6.4,7.0,0.0,6.5,0.0,6.2,0.0,7.0,4.7,0.0,4.7,2.4,7.1,5.1])\n\u001b[1;32m     28\u001b[0m \u001b[0;31m#-------------------------------------------------------------------------------\u001b[0m\u001b[0;34m\u001b[0m\u001b[0;34m\u001b[0m\u001b[0;34m\u001b[0m\u001b[0m\n\u001b[0;32m---> 29\u001b[0;31m \u001b[0mprint\u001b[0m\u001b[0;34m(\u001b[0m\u001b[0;34m'Acc FBCSP:'\u001b[0m\u001b[0;34m,\u001b[0m\u001b[0mnp\u001b[0m\u001b[0;34m.\u001b[0m\u001b[0mmean\u001b[0m\u001b[0;34m(\u001b[0m\u001b[0macc\u001b[0m\u001b[0;34m)\u001b[0m\u001b[0;34m,\u001b[0m\u001b[0mnp\u001b[0m\u001b[0;34m.\u001b[0m\u001b[0mmean\u001b[0m\u001b[0;34m(\u001b[0m\u001b[0mstds\u001b[0m\u001b[0;34m)\u001b[0m\u001b[0;34m,\u001b[0m\u001b[0mnp\u001b[0m\u001b[0;34m.\u001b[0m\u001b[0msum\u001b[0m\u001b[0;34m(\u001b[0m\u001b[0macc\u001b[0m\u001b[0;34m<=\u001b[0m\u001b[0;36m70\u001b[0m\u001b[0;34m)\u001b[0m\u001b[0;34m)\u001b[0m\u001b[0;34m\u001b[0m\u001b[0;34m\u001b[0m\u001b[0m\n\u001b[0m\u001b[1;32m     30\u001b[0m \u001b[0mprint\u001b[0m\u001b[0;34m(\u001b[0m\u001b[0;34m'Acc DW-CNN:'\u001b[0m\u001b[0;34m,\u001b[0m\u001b[0mnp\u001b[0m\u001b[0;34m.\u001b[0m\u001b[0mmean\u001b[0m\u001b[0;34m(\u001b[0m\u001b[0macc_sbj\u001b[0m\u001b[0;34m)\u001b[0m\u001b[0;34m,\u001b[0m\u001b[0mnp\u001b[0m\u001b[0;34m.\u001b[0m\u001b[0mmean\u001b[0m\u001b[0;34m(\u001b[0m\u001b[0mstd_sbj\u001b[0m\u001b[0;34m)\u001b[0m\u001b[0;34m,\u001b[0m\u001b[0mnp\u001b[0m\u001b[0;34m.\u001b[0m\u001b[0msum\u001b[0m\u001b[0;34m(\u001b[0m\u001b[0macc_sbj\u001b[0m\u001b[0;34m<=\u001b[0m\u001b[0;36m70\u001b[0m\u001b[0;34m)\u001b[0m\u001b[0;34m)\u001b[0m\u001b[0;34m\u001b[0m\u001b[0;34m\u001b[0m\u001b[0m\n\u001b[1;32m     31\u001b[0m \u001b[0mprint\u001b[0m\u001b[0;34m(\u001b[0m\u001b[0;34m'Acc DW-CNN+GC++:'\u001b[0m\u001b[0;34m,\u001b[0m\u001b[0mnp\u001b[0m\u001b[0;34m.\u001b[0m\u001b[0mmean\u001b[0m\u001b[0;34m(\u001b[0m\u001b[0macc_mask_gradcam\u001b[0m\u001b[0;34m)\u001b[0m\u001b[0;34m,\u001b[0m\u001b[0mnp\u001b[0m\u001b[0;34m.\u001b[0m\u001b[0mmean\u001b[0m\u001b[0;34m(\u001b[0m\u001b[0mstd_mask_gradcam\u001b[0m\u001b[0;34m)\u001b[0m\u001b[0;34m,\u001b[0m\u001b[0mnp\u001b[0m\u001b[0;34m.\u001b[0m\u001b[0msum\u001b[0m\u001b[0;34m(\u001b[0m\u001b[0macc_mask_gradcam\u001b[0m\u001b[0;34m<=\u001b[0m\u001b[0;36m70\u001b[0m\u001b[0;34m)\u001b[0m\u001b[0;34m)\u001b[0m\u001b[0;34m\u001b[0m\u001b[0;34m\u001b[0m\u001b[0m\n",
            "\u001b[0;31mNameError\u001b[0m: name 'acc' is not defined"
          ]
        }
      ]
    },
    {
      "cell_type": "markdown",
      "metadata": {
        "id": "I7M9jh_UibNn"
      },
      "source": [
        "# New acc"
      ]
    },
    {
      "cell_type": "code",
      "metadata": {
        "id": "DQAr0OChihR-",
        "colab": {
          "base_uri": "https://localhost:8080/",
          "height": 250
        },
        "outputId": "d605c6e7-aafe-4fb0-a911-b578bbfd5b95"
      },
      "source": [
        "#-------------------------------------------------------------------------------\n",
        "# DW-CNN\n",
        "Nsbj = np.array([1,2,3,4,5,6,7,8,9,10,11,12,13,14,15,16,17,18,19,20,21,22,23,24,25,\n",
        "        26,27,28,30,31,32,33,35,36,37,38,39,40,41,42,43,44,45,46,47,48,49,50,51,52])\n",
        "\n",
        "acc_sbj = np.array([81.7,50.0,98.3,81.7,86.7,81.5,56.9,68.3,77.8,78.3,\n",
        "           61.6,88.9,75.0,93.3,87.7,66.7,66.7,63.3,73.3,66.7, \n",
        "           90.0,78.3,71.6,70.0,76.6,81.6,75.4,88.3,69.2,76.6,\n",
        "           56.6,65.0,80.0,91.6,71.6,60.0,76.6,58.3,96.6,71.6,\n",
        "           91.6,81.6,76.6,84.7,75.0,81.6,80.0,90.0,73.3,66.6])\n",
        "\n",
        "std_sbj = np.array([2.35,4.08,2.35,2.35,6.23,2.61,5.19,2.35,3.92,4.71,\n",
        "           4.71,1.42,4.08,2.35,2.48,2.35,2.35,2.35,5.44,9.07,\n",
        "           4.08,2.35,10.27,4.08,6.23,2.35,2.48,2.35,0.00,6.23,\n",
        "           4.71,0.00,7.07,4.71,2.35,4.08,8.49,2.35,4.71,2.35,\n",
        "           2.35,2.35,4.71,8.56,7.07,2.35,4.08,0.00,2.35,10.27])\n",
        "\n",
        "idxs = np.argsort(acc_sbj)[::-1]\n",
        "#-------------------------------------------------------------------------------\n",
        "# Mask GradCam++\n",
        "acc_mask_gradcam = np.array([88.3,63.6,100.0,86.6,90.0,91.3,69.1,81.6,77.4,85.6,66.6,87.0,83.3,100.0,96.5,86.6,83.3,74.0,88.8,70.4,96.6,85.0,71.6,83.3,85.0,\n",
        "                    90.0,80.7,95.0,79.4,78.0,61.6,76.6,88.3,98.3,85.3,71.6,78.3,70.0,100.0,85.0,95.0,88.3,90.0,93.1,83.3,88.0,86.3,93.3,90.0,67.6])\n",
        "\n",
        "std_mask_gradcam = np.array([2.4,2.3,0.0,0,0.0,2.6,0.0,4.7,7.1,2.3,4.7,2.6,2.4,2.3,2.4,2.3,4.7,4.0,8.3,5.2,2.3,4.0,4.7,6.2,0.0,\n",
        "                    4.1,4.9,4.0,3.6,4.0,2.3,6.2,4.7,2.3,2.4,0.0,6.4,7.0,0.0,6.5,0.0,6.2,0.0,7.0,4.7,0.0,4.7,2.4,7.1,5.1])\n",
        "#-------------------------------------------------------------------------------\n",
        "#print('Acc FBCSP:',np.mean(acc),np.mean(stds),np.sum(acc<=70))\n",
        "print('Acc DW-CNN:',np.mean(acc_sbj),np.mean(std_sbj),np.sum(acc_sbj<=70))\n",
        "print('Acc DW-CNN+GC++:',np.mean(acc_mask_gradcam),np.mean(std_mask_gradcam),np.sum(acc_mask_gradcam<=70))\n",
        "# figure\n",
        "plt.figure(figsize=(15,3))\n",
        "plt.ylabel('Performance ($Ac\\pm Std$)')\n",
        "# plot train scores\n",
        "plt.plot(np.arange(50), acc_sbj[idxs], label='Average test accuracy',\n",
        "             color='royalblue')\n",
        "# create a shaded area between [mean - std, mean + std]\n",
        "plt.gca().fill_between(np.arange(50),\n",
        "                       acc_sbj[idxs] - std_sbj[idxs],\n",
        "                       acc_sbj[idxs] + std_sbj[idxs],\n",
        "                       alpha=0.3,\n",
        "                       color='royalblue')\n",
        "\n",
        "plt.plot(np.arange(50), acc_mask_gradcam[idxs], label='Average test mask GC',\n",
        "             color='magenta')\n",
        "plt.gca().fill_between(np.arange(50),\n",
        "                       np.array(acc_mask_gradcam)[idxs] - np.array(std_mask_gradcam)[idxs],\n",
        "                       np.array(acc_mask_gradcam)[idxs] + np.array(std_mask_gradcam)[idxs],\n",
        "                       alpha=0.3,\n",
        "                       color='magenta')\n",
        "\n",
        "#plt.bar(np.arange(50), height=110, width=0.8,color='lightcoral',alpha=0.3)\n",
        "\n",
        "plt.grid()\n",
        "plt.xlim((0,49))\n",
        "plt.xticks(np.arange(50),Nsbj[idxs])\n",
        "plt.ylim((40,100))\n",
        "plt.yscale('log')\n",
        "plt.yticks((40,50,60,70,75,80,90,100),['','0.5','','','0.75','','0.90','1.0'])\n",
        "plt.legend(['DW-CNN','DW-CNN+GC++'],loc='lower left')#,'DW-CNN GC++','DW-CNN SC'\n",
        "plt.savefig('/content/drive/MyDrive/Colab Notebooks/GradCam_Paper/GigaData/results/new_figures/Accuracy_improved_sbjs.svg', format='svg')"
      ],
      "execution_count": null,
      "outputs": [
        {
          "output_type": "stream",
          "name": "stdout",
          "text": [
            "Acc DW-CNN: 76.218 3.9614000000000003 15\n",
            "Acc DW-CNN+GC++: 84.09 3.4619999999999993 6\n"
          ]
        },
        {
          "output_type": "display_data",
          "data": {
            "image/png": "[encoded data removed]",
            "text/plain": [
              "<Figure size 1080x216 with 1 Axes>"
            ]
          },
          "metadata": {
            "needs_background": "light"
          }
        }
      ]
    },
    {
      "cell_type": "code",
      "metadata": {
        "id": "qvTckPxDjgrQ"
      },
      "source": [
        "Nsbj = np.array([1,2,3,4,5,6,7,8,9,10,11,12,13,14,15,16,17,18,19,20,21,22,23,24,25,\n",
        "        26,27,28,30,31,32,33,35,36,37,38,39,40,41,42,43,44,45,46,47,48,49,50,51,52])\n",
        "tmp = np.concatenate((np.ones((1,1)),np.zeros((1,1))),axis=0)\n",
        "plt.figure(figsize=(1,1))\n",
        "plt.matshow(tmp)\n",
        "plt.savefig('/content/drive/MyDrive/Colab Notebooks/GradCam_Paper/GigaData/results/new_figures/tmp.svg', format='svg')"
      ],
      "execution_count": null,
      "outputs": []
    },
    {
      "cell_type": "code",
      "metadata": {
        "id": "zrzhEPkTO43_"
      },
      "source": [
        "#-------------------------------------------------------------------------------\n",
        "corr_runs = [0.35947901,0.3062230984172442,0.4541952357866223,0.36574957877650216,0.30311743774342936,0.26498483009709595]\n",
        "plt.figure(figsize=(15,3))\n",
        "plt.bar(np.arange(6), height=corr_runs, width=0.8,color='royalblue',alpha=0.5)\n",
        "plt.ylabel(r'$R^2$')\n",
        "plt.xticks(np.arange(6),[r'$\\tau_1$','Run 1','Run 2','Run 3','Run 4','Run 5'])\n",
        "plt.ylim(0,0.5)\n",
        "plt.savefig('/content/drive/MyDrive/Colab Notebooks/GradCam_Paper/GigaData/results/new_figures/corr_vals.svg', format='svg')\n",
        "plt.show()\n",
        "#-------------------------------------------------------------------------------"
      ],
      "execution_count": null,
      "outputs": []
    },
    {
      "cell_type": "code",
      "metadata": {
        "colab": {
          "base_uri": "https://localhost:8080/",
          "height": 217
        },
        "id": "sws6Lwo-6ZlH",
        "outputId": "23612e3d-4e08-468a-97d7-53d0105757cb"
      },
      "source": [
        "#-------------------------------------------------------------------------------\n",
        "corr_runs_1 = [0.0,0.28340849161589565,0.48232202106630273,0.4081534549481999,0.36816802770541934,0.3483172950394735]\n",
        "corr_runs_2 = [0.0,0.32458763658049783, 0.5039870295900108,0.3494501718640215,0.3778909258531019,0.42997783712605614]\n",
        "corr_runs_0 = [0.35947901,0.0, 0.0,0.0,0.0,0.0]\n",
        "plt.figure(figsize=(15,3))\n",
        "plt.bar(np.arange(6)+.2, height=corr_runs_0, width=0.4,color='purple',alpha=0.5)\n",
        "plt.bar(np.arange(6), height=corr_runs_1, width=0.4,color='royalblue',alpha=0.5)\n",
        "plt.bar(np.arange(6)+.4, height=corr_runs_2, width=0.4,color='orange',alpha=0.5)\n",
        "plt.ylabel(r'$R^2$')\n",
        "plt.ylim(0,0.5)\n",
        "plt.legend([r'$\\tau_1$',r'$\\tau_3+\\tau_4$',r'$\\tau_3$'])\n",
        "plt.xticks(np.arange(6)+.2,[r'$\\tau_1$','Run 1','Run 2','Run 3','Run 4','Run 5'])\n",
        "plt.savefig('/content/drive/MyDrive/Colab Notebooks/GradCam_Paper/GigaData/results/new_figures/corr_vals.svg', format='svg')\n",
        "plt.show()\n",
        "#-------------------------------------------------------------------------------"
      ],
      "execution_count": null,
      "outputs": [
        {
          "output_type": "display_data",
          "data": {
            "image/png": "[encoded data removed]",
            "text/plain": [
              "<Figure size 1080x216 with 1 Axes>"
            ]
          },
          "metadata": {
            "needs_background": "light"
          }
        }
      ]
    },
    {
      "cell_type": "code",
      "metadata": {
        "id": "Pjs3rMpIAQd8"
      },
      "source": [
        "#-------------------------------------------------------------------------------\n",
        "# DW-CNN\n",
        "Nsbj = np.array([1,2,3,4,5,6,7,8,9,10,11,12,13,14,15,16,17,18,19,20,21,22,23,24,25,\n",
        "        26,27,28,30,31,32,33,35,36,37,38,39,40,41,42,43,44,45,46,47,48,49,50,51,52])\n",
        "\n",
        "acc_sbj = np.array([81.7,50.0,98.3,81.7,86.7,81.5,56.9,68.3,77.8,78.3,\n",
        "           61.6,88.9,75.0,93.3,87.7,66.7,66.7,63.3,73.3,66.7, \n",
        "           90.0,78.3,71.6,70.0,76.6,81.6,75.4,88.3,69.2,76.6,\n",
        "           56.6,65.0,80.0,91.6,71.6,60.0,76.6,58.3,96.6,71.6,\n",
        "           91.6,81.6,76.6,84.7,75.0,81.6,80.0,90.0,73.3,66.6])\n",
        "\n",
        "std_sbj = np.array([2.35,4.08,2.35,2.35,6.23,2.61,5.19,2.35,3.92,4.71,\n",
        "           4.71,1.42,4.08,2.35,2.48,2.35,2.35,2.35,5.44,9.07,\n",
        "           4.08,2.35,10.27,4.08,6.23,2.35,2.48,2.35,0.00,6.23,\n",
        "           4.71,0.00,7.07,4.71,2.35,4.08,8.49,2.35,4.71,2.35,\n",
        "           2.35,2.35,4.71,8.56,7.07,2.35,4.08,0.00,2.35,10.27])\n",
        "\n",
        "idxs = np.argsort(acc_sbj)[::-1]\n",
        "#-------------------------------------------------------------------------------\n",
        "acc_sbj_right = np.array([78.3,48.3,88.3,81.6,88.3,85.2,56.6,71.6,73.6,75.0,58.3,79.6,75.0,93.3,85.9,68.3,71.6,60.0,64.4,66.6,88.3,73.3,68.3,61.6,75.0,\n",
        "                 73.3,71.9,75.0,69.2,0,0,0,0,0,0,0,0,0,0,0,0,0,0,0,0,0,0,0,0,0])\n",
        "#std_sbj_right = []\n",
        "\n",
        "acc_sbj_left = np.array([78.3,46.6,91.6,76.6,81.6,77.7,61.1,66.6,79.7,80.0,60.0,77.7,73.3,96.6,77.1,58.3,55.0,60.0,77.7,66.6,83.3,66.6,68.3,68.3,75.0,\n",
        "                 76.6,73.7,85.0,74.6,0,0,0,0,0,0,0,0,0,0,0,0,0,0,0,0,0,0,0,0,0])\n",
        "#-------------------------------------------------------------------------------\n",
        "plt.figure(figsize=(15,3))\n",
        "plt.plot(np.arange(50), acc_sbj_right[idxs],'bo')\n",
        "plt.plot(np.arange(50), acc_sbj_left[idxs],'ro')\n",
        "plt.grid()\n",
        "plt.xlim((0,49))\n",
        "plt.xticks(np.arange(50),Nsbj[idxs])\n",
        "plt.ylim((40,100))\n",
        "#plt.yscale('log')\n",
        "#plt.yticks((40,50,60,70,75,80,90,100),['','0.5','','','0.75','','0.90','1.0'])\n",
        "plt.legend(['Right side','Left side'])\n",
        "plt.show()"
      ],
      "execution_count": null,
      "outputs": []
    },
    {
      "cell_type": "code",
      "metadata": {
        "id": "kpr_gcLJAQR0",
        "colab": {
          "base_uri": "https://localhost:8080/",
          "height": 250
        },
        "outputId": "03e5f007-a870-460d-ea2b-4a7fbfb86e63"
      },
      "source": [
        "#-------------------------------------------------------------------------------\n",
        "# DW-CNN\n",
        "Nsbj = np.array([1,2,3,4,5,6,7,8,9,10,11,12,13,14,15,16,17,18,19,20,21,22,23,24,25,\n",
        "        26,27,28,30,31,32,33,35,36,37,38,39,40,41,42,43,44,45,46,47,48,49,50,51,52])\n",
        "\n",
        "acc_sbj = np.array([81.7,50.0,98.3,81.7,86.7,81.5,56.9,68.3,77.8,78.3,\n",
        "           61.6,88.9,75.0,93.3,87.7,66.7,66.7,63.3,73.3,66.7, \n",
        "           90.0,78.3,71.6,70.0,76.6,81.6,75.4,88.3,69.2,76.6,\n",
        "           56.6,65.0,80.0,91.6,71.6,60.0,76.6,58.3,96.6,71.6,\n",
        "           91.6,81.6,76.6,84.7,75.0,81.6,80.0,90.0,73.3,66.6])\n",
        "\n",
        "std_sbj = np.array([2.35,4.08,2.35,2.35,6.23,2.61,5.19,2.35,3.92,4.71,\n",
        "           4.71,1.42,4.08,2.35,2.48,2.35,2.35,2.35,5.44,9.07,\n",
        "           4.08,2.35,10.27,4.08,6.23,2.35,2.48,2.35,0.00,6.23,\n",
        "           4.71,0.00,7.07,4.71,2.35,4.08,8.49,2.35,4.71,2.35,\n",
        "           2.35,2.35,4.71,8.56,7.07,2.35,4.08,0.00,2.35,10.27])\n",
        "\n",
        "idxs = np.argsort(acc_sbj)[::-1]\n",
        "#-------------------------------------------------------------------------------\n",
        "acc_sbj_c0 = np.array([81.6,50.3,86.6,75.0,80.0,72.2,51.4,58.3,72.2,70.0,\n",
        "                      53.3,85.1,75.0,98.3,80.7,66.6,60.0,66.6,70.0,64.0,\n",
        "                      81.6,73.3,81.6,63.3,76.6,75.0,74.6,81.6,\n",
        "                      61.5,76.6,61.6,70.0,80.0,78.3,76.6,60.0,83.3,\n",
        "                      56.6,96.6,66.6,90.0,81.6,70.0,77.7,78.3,85.0,78.3,\n",
        "                      85.0,66.6,63.3])\n",
        "print('Avg acc Class 0:', np.mean(acc_sbj_c0))\n",
        "#std_sbj_right = []\n",
        "\n",
        "acc_sbj_c1 = np.array([75.0,51.6,91.6,85.0,85.0,88.8,55.5,58.3,70.8,68.3,\n",
        "                      56.6,87.0,68.3,95.0,84.2,66.6,70.0,58.3,66.6,0,\n",
        "                      86.6,71.6,75.0,68.3,78.3,70.0,72.9,80.0,\n",
        "                      74.3,75.0,63.3,0,76.6,90.0,71.6,56.6,81.6,\n",
        "                      60.0,96.6,81.6,93.3,83.3,73.3,73.6,71.6,75.0,75.0,\n",
        "                      88.3,70.0,60.0])\n",
        "print('Avg acc Class 1:', np.mean(acc_sbj_c1))\n",
        "#-------------------------------------------------------------------------------\n",
        "plt.figure(figsize=(15,3))\n",
        "plt.plot(np.arange(50), acc_sbj_c0[idxs],'bo')\n",
        "plt.plot(np.arange(50), acc_sbj_c1[idxs],'ro')\n",
        "plt.plot(np.arange(50), np.ones(50)*70.0, label='Average',\n",
        "             color='red')\n",
        "plt.grid()\n",
        "plt.xlim((0,49))\n",
        "plt.xticks(np.arange(50),Nsbj[idxs])\n",
        "plt.ylim((50,100))\n",
        "plt.yscale('log')\n",
        "plt.yticks((50,60,70,75,80,90,100),['0.5','','0.7','','','0.9','1.0'])\n",
        "plt.legend(['Mask C0','Mask C1'])\n",
        "plt.savefig('/content/drive/MyDrive/Colab Notebooks/GradCam_Paper/GigaData/results/new_figures/Acc_mask.svg', format='svg')\n",
        "plt.show()"
      ],
      "execution_count": null,
      "outputs": [
        {
          "output_type": "stream",
          "name": "stdout",
          "text": [
            "Avg acc Class 0: 73.366\n",
            "Avg acc Class 1: 71.516\n"
          ]
        },
        {
          "output_type": "display_data",
          "data": {
            "image/png": "[encoded data removed]",
            "text/plain": [
              "<Figure size 1080x216 with 1 Axes>"
            ]
          },
          "metadata": {
            "needs_background": "light"
          }
        }
      ]
    },
    {
      "cell_type": "code",
      "metadata": {
        "id": "iSQMElzOAQOF",
        "colab": {
          "base_uri": "https://localhost:8080/"
        },
        "outputId": "29ac2fca-fa81-48c2-9a58-6525ce339c12"
      },
      "source": [
        "new_mask_c0 = acc_sbj_c0[idxs]\n",
        "new_mask_c1 = acc_sbj_c1[idxs]\n",
        "print('GI class 0:',np.mean(new_mask_c0[:13]))\n",
        "print('GI class 1:',np.mean(new_mask_c1[:13]))"
      ],
      "execution_count": null,
      "outputs": [
        {
          "output_type": "stream",
          "name": "stdout",
          "text": [
            "GI class 0: 84.34615384615384\n",
            "GI class 1: 87.4\n"
          ]
        }
      ]
    }
  ]
}